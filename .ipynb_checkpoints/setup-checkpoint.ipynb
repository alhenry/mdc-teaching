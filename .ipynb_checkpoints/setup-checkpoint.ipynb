{
 "cells": [
  {
   "cell_type": "markdown",
   "id": "850658ef-f6ee-4458-86d9-753fa05f4f80",
   "metadata": {},
   "source": [
    "## Configure R and Stata in Jupyter Python kernel"
   ]
  },
  {
   "cell_type": "code",
   "execution_count": 4,
   "id": "d9327a0c-2054-475a-b9de-4294a91502fa",
   "metadata": {},
   "outputs": [
    {
     "name": "stdout",
     "output_type": "stream",
     "text": [
      "env: R_HOME=C:\\ProgramData\\Microsoft\\AppV\\Client\\Integration\\61ABC81D-0AAC-4AD9-A865-E0EA969CB031\\Root\\R-4.1.2\n",
      "env: PATH=C:\\ProgramData\\Microsoft\\AppV\\Client\\Integration\\61ABC81D-0AAC-4AD9-A865-E0EA969CB031\\Root\\R-4.1.2\\bin;C:\\ProgramData\\Microsoft\\AppV\\Client\\Integration\\61ABC81D-0AAC-4AD9-A865-E0EA969CB031\\Root\\R-4.1.2\\bin\\i386;C:\\Program Files\\Anaconda3;C:\\Program Files\\Anaconda3\\Library\\mingw-w64\\bin;C:\\Program Files\\Anaconda3\\Library\\usr\\bin;C:\\Program Files\\Anaconda3\\Library\\bin;C:\\Program Files\\Anaconda3\\Scripts;C:\\Program Files\\Java\\jdk1.8.0_321\\bin;C:\\Program Files (x86)\\Common Files\\Oracle\\Java\\javapath;C:\\Oracle19\\product\\19.0.0\\client_1\\bin;C:\\Oracle\\RuntimeClient64\\product\\12.1.0\\client_1\\bin;C:\\Windows\\system32;C:\\Windows;C:\\Windows\\System32\\Wbem;C:\\Windows\\System32\\WindowsPowerShell\\v1.0\\;C:\\Windows\\System32\\OpenSSH\\;C:\\Program Files\\Microsoft SQL Server\\120\\Tools\\Binn\\;C:\\Program Files (x86)\\QuickTime\\QTSystem\\;C:\\ORACLE\\ora1120A_32\\product\\11.2.0\\client_1\\bin;C:\\Program Files (x86)\\ESRIUK\\ProductivitySuite\\bin\\;C:\\Program Files (x86)\\MATLAB\\MATLAB Compiler Runtime\\v78\\runtime\\win32;C:\\Program Files\\;C:\\Program Files\\Common Files\\Autodesk Shared\\;C:\\Program Files\\Wolfram Research\\WolframScript\\;C:\\Program Files\\Pandoc\\;C:\\Program Files\\MATLAB\\R2021a\\runtime\\win64;C:\\Program Files\\MATLAB\\R2021a\\bin;C:\\Program Files\\SlikSvn\\bin;c:\\Program Files\\Anaconda3;C:\\Program Files\\Anaconda3\\Scripts;C:\\Program Files\\Anaconda3\\Library\\bin;C:\\Program Files (x86)\\InputAccel\\Client\\binnt;C:\\Program Files (x86)\\InputAccel\\Client\\Binnt\\Dll;C:\\Program Files (x86)\\Citrix\\HDX\\bin\\;C:\\Program Files\\Citrix\\HDX\\bin\\;C:\\Program Files\\Java\\jdk1.8.0_321\\bin;C:\\Users\\rmhiaah\\AppData\\Local\\Microsoft\\WindowsApps;;C:\\ProgramData\\Microsoft\\AppV\\Client\\Integration\\1CB3419C-B299-4905-9311-F73F09D21673\\Root\\VFS\\ProgramFilesX64\\Stata17/utilities\\java\\windows-x64\\zulu-jdk11.0.11\\bin;C:\\ProgramData\\Microsoft\\AppV\\Client\\Integration\\61ABC81D-0AAC-4AD9-A865-E0EA969CB031\\Root\\R-4.1.2\\bin\\x64\n"
     ]
    }
   ],
   "source": [
    "# Configure system PATH\n",
    "from pathlib import Path\n",
    "import sys, os\n",
    "R_HOME = Path(\"C:/ProgramData/Microsoft/AppV/Client/Integration/61ABC81D-0AAC-4AD9-A865-E0EA969CB031/Root/R-4.1.2\")\n",
    "%set_env R_HOME={str(R_HOME)}\n",
    "%set_env PATH={str(R_HOME / \"bin/x64\")};{os.environ['PATH']}\n",
    "    \n",
    "STATA_SYSDIR = Path('C:/ProgramData/Microsoft/AppV/Client/Integration/1CB3419C-B299-4905-9311-F73F09D21673/Root/VFS/ProgramFilesX64/Stata17/')     "
   ]
  },
  {
   "cell_type": "code",
   "execution_count": null,
   "id": "605df9ed-c662-4a16-aabc-ddc42b86c69f",
   "metadata": {},
   "outputs": [],
   "source": [
    "# Install pystata & rpy2\n",
    "# !python -m pip install stata_setup\n",
    "!py -m pip uninstall rpy2"
   ]
  },
  {
   "cell_type": "code",
   "execution_count": 2,
   "id": "f22013e2-6583-474e-9966-628875b11807",
   "metadata": {},
   "outputs": [
    {
     "name": "stdout",
     "output_type": "stream",
     "text": [
      "\n",
      "  ___  ____  ____  ____  ____ ©\n",
      " /__    /   ____/   /   ____/      17.0\n",
      "___/   /   /___/   /   /___/       MP—Parallel Edition\n",
      "\n",
      " Statistics and Data Science       Copyright 1985-2021 StataCorp LLC\n",
      "                                   StataCorp\n",
      "                                   4905 Lakeway Drive\n",
      "                                   College Station, Texas 77845 USA\n",
      "                                   800-STATA-PC        https://www.stata.com\n",
      "                                   979-696-4600        stata@stata.com\n",
      "\n",
      "Stata license: Unlimited-user 2-core network, expiring  9 Sep 2022\n",
      "Serial number: 501709309029\n",
      "  Licensed to: UCL User\n",
      "               University College London\n",
      "\n",
      "Notes:\n",
      "      1. Unicode is supported; see help unicode_advice.\n",
      "      2. More than 2 billion observations are allowed; see help obs_advice.\n",
      "      3. Maximum number of variables is set to 5,000; see help set_maxvar.\n",
      "\n",
      "Running C:\\ProgramData\\Microsoft\\AppV\\Client\\Integration\\1CB3419C-B299-4905-931\n",
      "> 1-F73F09D21673\\Root\\VFS\\ProgramFilesX64\\Stata17/sysprofile.do ...\n"
     ]
    },
    {
     "name": "stderr",
     "output_type": "stream",
     "text": [
      "Unable to determine R library path: Command '('C:\\\\ProgramData\\\\Microsoft\\\\AppV\\\\Client\\\\Integration\\\\61ABC81D-0AAC-4AD9-A865-E0EA969CB031\\\\Root\\\\R-4.1.2\\\\bin\\\\Rscript', '-e', 'cat(Sys.getenv(\"LD_LIBRARY_PATH\"))')' returned non-zero exit status 1.\n"
     ]
    }
   ],
   "source": [
    "# Configure and load pystata & rpy2\n",
    "import stata_setup\n",
    "stata_setup.config(STATA_SYSDIR, 'mp')\n",
    "import rpy2.robjects as robjects"
   ]
  },
  {
   "cell_type": "code",
   "execution_count": 4,
   "id": "9c2b2550-87ca-49cf-9415-9967a22e0aaa",
   "metadata": {},
   "outputs": [
    {
     "name": "stdout",
     "output_type": "stream",
     "text": [
      "This is python\n",
      "This is Stata\n"
     ]
    },
    {
     "name": "stderr",
     "output_type": "stream",
     "text": [
      "UsageError: Line magic function `%R` not found.\n"
     ]
    }
   ],
   "source": [
    "# Test\n",
    "print(\"This is python\")\n",
    "%stata display \"This is Stata\"\n",
    "%R print(\"This is R\")"
   ]
  },
  {
   "cell_type": "code",
   "execution_count": 5,
   "id": "0defd002-323e-4d50-b0d5-b60043f5d278",
   "metadata": {},
   "outputs": [
    {
     "data": {
      "text/plain": [
       "'C:\\\\ProgramData\\\\Microsoft\\\\AppV\\\\Client\\\\Integration\\\\61ABC81D-0AAC-4AD9-A865-E0EA969CB031\\\\Root\\\\R-4.1.2\\\\bin;C:\\\\ProgramData\\\\Microsoft\\\\AppV\\\\Client\\\\Integration\\\\61ABC81D-0AAC-4AD9-A865-E0EA969CB031\\\\Root\\\\R-4.1.2\\\\bin\\\\i386;C:\\\\Program Files\\\\Anaconda3;C:\\\\Program Files\\\\Anaconda3\\\\Library\\\\mingw-w64\\\\bin;C:\\\\Program Files\\\\Anaconda3\\\\Library\\\\usr\\\\bin;C:\\\\Program Files\\\\Anaconda3\\\\Library\\\\bin;C:\\\\Program Files\\\\Anaconda3\\\\Scripts;C:\\\\Program Files\\\\Java\\\\jdk1.8.0_321\\\\bin;C:\\\\Program Files (x86)\\\\Common Files\\\\Oracle\\\\Java\\\\javapath;C:\\\\Oracle19\\\\product\\\\19.0.0\\\\client_1\\\\bin;C:\\\\Oracle\\\\RuntimeClient64\\\\product\\\\12.1.0\\\\client_1\\\\bin;C:\\\\Windows\\\\system32;C:\\\\Windows;C:\\\\Windows\\\\System32\\\\Wbem;C:\\\\Windows\\\\System32\\\\WindowsPowerShell\\\\v1.0\\\\;C:\\\\Windows\\\\System32\\\\OpenSSH\\\\;C:\\\\Program Files\\\\Microsoft SQL Server\\\\120\\\\Tools\\\\Binn\\\\;C:\\\\Program Files (x86)\\\\QuickTime\\\\QTSystem\\\\;C:\\\\ORACLE\\\\ora1120A_32\\\\product\\\\11.2.0\\\\client_1\\\\bin;C:\\\\Program Files (x86)\\\\ESRIUK\\\\ProductivitySuite\\\\bin\\\\;C:\\\\Program Files (x86)\\\\MATLAB\\\\MATLAB Compiler Runtime\\\\v78\\\\runtime\\\\win32;C:\\\\Program Files\\\\;C:\\\\Program Files\\\\Common Files\\\\Autodesk Shared\\\\;C:\\\\Program Files\\\\Wolfram Research\\\\WolframScript\\\\;C:\\\\Program Files\\\\Pandoc\\\\;C:\\\\Program Files\\\\MATLAB\\\\R2021a\\\\runtime\\\\win64;C:\\\\Program Files\\\\MATLAB\\\\R2021a\\\\bin;C:\\\\Program Files\\\\SlikSvn\\\\bin;c:\\\\Program Files\\\\Anaconda3;C:\\\\Program Files\\\\Anaconda3\\\\Scripts;C:\\\\Program Files\\\\Anaconda3\\\\Library\\\\bin;C:\\\\Program Files (x86)\\\\InputAccel\\\\Client\\\\binnt;C:\\\\Program Files (x86)\\\\InputAccel\\\\Client\\\\Binnt\\\\Dll;C:\\\\Program Files (x86)\\\\Citrix\\\\HDX\\\\bin\\\\;C:\\\\Program Files\\\\Citrix\\\\HDX\\\\bin\\\\;C:\\\\Program Files\\\\Java\\\\jdk1.8.0_321\\\\bin;C:\\\\Users\\\\rmhiaah\\\\AppData\\\\Local\\\\Microsoft\\\\WindowsApps;;C:\\\\ProgramData\\\\Microsoft\\\\AppV\\\\Client\\\\Integration\\\\1CB3419C-B299-4905-9311-F73F09D21673\\\\Root\\\\VFS\\\\ProgramFilesX64\\\\Stata17/utilities\\\\java\\\\windows-x64\\\\zulu-jdk11.0.11\\\\bin;C:\\\\ProgramData\\\\Microsoft\\\\AppV\\\\Client\\\\Integration\\\\61ABC81D-0AAC-4AD9-A865-E0EA969CB031\\\\Root\\\\R-4.1.2\\\\bin\\\\x64'"
      ]
     },
     "execution_count": 5,
     "metadata": {},
     "output_type": "execute_result"
    }
   ],
   "source": [
    "import os\n",
    "\n",
    "os.environ['R_HOME']\n",
    "os.environ['PATH']"
   ]
  },
  {
   "cell_type": "code",
   "execution_count": 7,
   "id": "f6b3ab20-99db-4b63-93b6-4d1ae868e8ae",
   "metadata": {},
   "outputs": [
    {
     "name": "stderr",
     "output_type": "stream",
     "text": [
      "Unable to determine R home.\n"
     ]
    },
    {
     "name": "stdout",
     "output_type": "stream",
     "text": [
      "rpy2 version:\n",
      "3.5.1\n",
      "Python version:\n",
      "3.8.8 (default, Apr 13 2021, 15:08:03) [MSC v.1916 64 bit (AMD64)]\n",
      "Looking for R's HOME:\n",
      "    Environment variable R_HOME: C:\\ProgramData\\Microsoft\\AppV\\Client\\Integration\\61ABC81D-0AAC-4AD9-A865-E0EA969CB031\\Root\\R-4.1.2\n",
      "    InstallPath in the registry: None\n",
      "    Environment variable R_USER: None\n",
      "    Environment variable R_LIBS_USER: None\n",
      "    Warning: There is no R in the PATH and no R_HOME defined.\n",
      "R version:\n",
      "    In the PATH: R version 4.1.2 (2021-11-01) -- \"Bird Hippie\"\n",
      "    Loading R library from rpy2: OK\n",
      "Additional directories to load R packages from:\n",
      "None\n",
      "C extension compilation:\n",
      "    Warning: Unable to get R compilation flags.\n"
     ]
    }
   ],
   "source": [
    "import rpy2\n",
    "for row in rpy2.situation.iter_info():\n",
    "    print(row)"
   ]
  },
  {
   "cell_type": "code",
   "execution_count": 13,
   "id": "b7445066-19de-4bbd-adc9-2cc2b28e2c88",
   "metadata": {},
   "outputs": [
    {
     "name": "stdout",
     "output_type": "stream",
     "text": [
      "env: R_HOME=C:\\ProgramData\\Microsoft\\AppV\\Client\\Integration\\61ABC81D-0AAC-4AD9-A865-E0EA969CB031\\Root\\R-4.1.2\n",
      "env: PATH={os.environ['PATH']};{str(R_HOME)};C:\\ProgramData\\Microsoft\\AppV\\Client\\Integration\\61ABC81D-0AAC-4AD9-A865-E0EA969CB031\\Root\\R-4.1.2\n"
     ]
    }
   ],
   "source": [
    "\n"
   ]
  },
  {
   "cell_type": "code",
   "execution_count": 6,
   "id": "b1bdd805-83c7-46d9-b32f-7726beefe01d",
   "metadata": {},
   "outputs": [
    {
     "data": {
      "text/plain": [
       "WindowsPath('C:/ProgramData/Microsoft/AppV/Client/Integration/61ABC81D-0AAC-4AD9-A865-E0EA969CB031/Root/R-4.1.2')"
      ]
     },
     "execution_count": 6,
     "metadata": {},
     "output_type": "execute_result"
    }
   ],
   "source": [
    "R_HOME"
   ]
  }
 ],
 "metadata": {
  "kernelspec": {
   "display_name": "Python 3",
   "language": "python",
   "name": "python3"
  },
  "language_info": {
   "codemirror_mode": {
    "name": "ipython",
    "version": 3
   },
   "file_extension": ".py",
   "mimetype": "text/x-python",
   "name": "python",
   "nbconvert_exporter": "python",
   "pygments_lexer": "ipython3",
   "version": "3.8.8"
  }
 },
 "nbformat": 4,
 "nbformat_minor": 5
}
