{
 "cells": [
  {
   "cell_type": "markdown",
   "metadata": {},
   "source": [
    "# ASRR Messy Data Challenge\n",
    "## Example analysis (R version)"
   ]
  },
  {
   "cell_type": "code",
   "execution_count": null,
   "metadata": {},
   "outputs": [],
   "source": [
    "# Load library\n",
    "packages <- c(\"tidyverse\", \"data.table\", \"haven\", \"skimr\", \"janitor\")\n",
    "for (p in packages) {\n",
    "    if (!require(p, character.only = TRUE)) install.packages(p)\n",
    "    suppressPackageStartupMessages(library(p, character.only = TRUE))\n",
    "}"
   ]
  },
  {
   "cell_type": "markdown",
   "metadata": {},
   "source": [
    "## Data exploration"
   ]
  },
  {
   "cell_type": "markdown",
   "metadata": {},
   "source": [
    "### Read in data"
   ]
  },
  {
   "cell_type": "code",
   "execution_count": 2,
   "metadata": {},
   "outputs": [
    {
     "data": {
      "text/html": [
       "<table class=\"dataframe\">\n",
       "<caption>A tibble: 6 × 13</caption>\n",
       "<thead>\n",
       "\t<tr><th scope=col>age</th><th scope=col>gender</th><th scope=col>iculos</th><th scope=col>hr</th><th scope=col>temp</th><th scope=col>sbp</th><th scope=col>dbp</th><th scope=col>resp</th><th scope=col>o2sat</th><th scope=col>map</th><th scope=col>sepsislabel</th><th scope=col>hospid</th><th scope=col>patid</th></tr>\n",
       "\t<tr><th scope=col>&lt;dbl&gt;</th><th scope=col>&lt;dbl&gt;</th><th scope=col>&lt;dbl&gt;</th><th scope=col>&lt;dbl&gt;</th><th scope=col>&lt;dbl&gt;</th><th scope=col>&lt;dbl&gt;</th><th scope=col>&lt;dbl&gt;</th><th scope=col>&lt;dbl&gt;</th><th scope=col>&lt;dbl&gt;</th><th scope=col>&lt;dbl&gt;</th><th scope=col>&lt;dbl&gt;</th><th scope=col>&lt;chr&gt;</th><th scope=col>&lt;dbl&gt;</th></tr>\n",
       "</thead>\n",
       "<tbody>\n",
       "\t<tr><td>65.36</td><td>0</td><td>28</td><td>71.0</td><td>38.11</td><td>168.00</td><td> 56.0</td><td>17</td><td> 94.0</td><td> 91.0</td><td>0</td><td>A</td><td> 3412</td></tr>\n",
       "\t<tr><td>55.00</td><td>0</td><td> 7</td><td>76.0</td><td>37.50</td><td>133.00</td><td> 74.0</td><td>24</td><td> 96.0</td><td> 99.0</td><td>0</td><td>B</td><td>29564</td></tr>\n",
       "\t<tr><td>38.00</td><td>0</td><td>15</td><td>77.0</td><td>   NA</td><td>146.00</td><td> 83.0</td><td>17</td><td>   NA</td><td>108.0</td><td>0</td><td>B</td><td>31553</td></tr>\n",
       "\t<tr><td>72.17</td><td>1</td><td>34</td><td>53.5</td><td>   NA</td><td>157.00</td><td> 60.5</td><td>15</td><td> 95.5</td><td> 92.5</td><td>0</td><td>A</td><td> 7043</td></tr>\n",
       "\t<tr><td>61.26</td><td>1</td><td> 2</td><td>72.5</td><td>   NA</td><td> 93.25</td><td> 68.5</td><td>18</td><td>100.0</td><td> 79.0</td><td>0</td><td>A</td><td> 8061</td></tr>\n",
       "\t<tr><td>21.00</td><td>1</td><td>19</td><td>74.0</td><td>   NA</td><td>118.00</td><td>104.0</td><td>20</td><td> 91.0</td><td>112.0</td><td>0</td><td>B</td><td>25479</td></tr>\n",
       "</tbody>\n",
       "</table>\n"
      ],
      "text/latex": [
       "A tibble: 6 × 13\n",
       "\\begin{tabular}{lllllllllllll}\n",
       " age & gender & iculos & hr & temp & sbp & dbp & resp & o2sat & map & sepsislabel & hospid & patid\\\\\n",
       " <dbl> & <dbl> & <dbl> & <dbl> & <dbl> & <dbl> & <dbl> & <dbl> & <dbl> & <dbl> & <dbl> & <chr> & <dbl>\\\\\n",
       "\\hline\n",
       "\t 65.36 & 0 & 28 & 71.0 & 38.11 & 168.00 &  56.0 & 17 &  94.0 &  91.0 & 0 & A &  3412\\\\\n",
       "\t 55.00 & 0 &  7 & 76.0 & 37.50 & 133.00 &  74.0 & 24 &  96.0 &  99.0 & 0 & B & 29564\\\\\n",
       "\t 38.00 & 0 & 15 & 77.0 &    NA & 146.00 &  83.0 & 17 &    NA & 108.0 & 0 & B & 31553\\\\\n",
       "\t 72.17 & 1 & 34 & 53.5 &    NA & 157.00 &  60.5 & 15 &  95.5 &  92.5 & 0 & A &  7043\\\\\n",
       "\t 61.26 & 1 &  2 & 72.5 &    NA &  93.25 &  68.5 & 18 & 100.0 &  79.0 & 0 & A &  8061\\\\\n",
       "\t 21.00 & 1 & 19 & 74.0 &    NA & 118.00 & 104.0 & 20 &  91.0 & 112.0 & 0 & B & 25479\\\\\n",
       "\\end{tabular}\n"
      ],
      "text/markdown": [
       "\n",
       "A tibble: 6 × 13\n",
       "\n",
       "| age &lt;dbl&gt; | gender &lt;dbl&gt; | iculos &lt;dbl&gt; | hr &lt;dbl&gt; | temp &lt;dbl&gt; | sbp &lt;dbl&gt; | dbp &lt;dbl&gt; | resp &lt;dbl&gt; | o2sat &lt;dbl&gt; | map &lt;dbl&gt; | sepsislabel &lt;dbl&gt; | hospid &lt;chr&gt; | patid &lt;dbl&gt; |\n",
       "|---|---|---|---|---|---|---|---|---|---|---|---|---|\n",
       "| 65.36 | 0 | 28 | 71.0 | 38.11 | 168.00 |  56.0 | 17 |  94.0 |  91.0 | 0 | A |  3412 |\n",
       "| 55.00 | 0 |  7 | 76.0 | 37.50 | 133.00 |  74.0 | 24 |  96.0 |  99.0 | 0 | B | 29564 |\n",
       "| 38.00 | 0 | 15 | 77.0 |    NA | 146.00 |  83.0 | 17 |    NA | 108.0 | 0 | B | 31553 |\n",
       "| 72.17 | 1 | 34 | 53.5 |    NA | 157.00 |  60.5 | 15 |  95.5 |  92.5 | 0 | A |  7043 |\n",
       "| 61.26 | 1 |  2 | 72.5 |    NA |  93.25 |  68.5 | 18 | 100.0 |  79.0 | 0 | A |  8061 |\n",
       "| 21.00 | 1 | 19 | 74.0 |    NA | 118.00 | 104.0 | 20 |  91.0 | 112.0 | 0 | B | 25479 |\n",
       "\n"
      ],
      "text/plain": [
       "  age   gender iculos hr   temp  sbp    dbp   resp o2sat map   sepsislabel\n",
       "1 65.36 0      28     71.0 38.11 168.00  56.0 17    94.0  91.0 0          \n",
       "2 55.00 0       7     76.0 37.50 133.00  74.0 24    96.0  99.0 0          \n",
       "3 38.00 0      15     77.0    NA 146.00  83.0 17      NA 108.0 0          \n",
       "4 72.17 1      34     53.5    NA 157.00  60.5 15    95.5  92.5 0          \n",
       "5 61.26 1       2     72.5    NA  93.25  68.5 18   100.0  79.0 0          \n",
       "6 21.00 1      19     74.0    NA 118.00 104.0 20    91.0 112.0 0          \n",
       "  hospid patid\n",
       "1 A       3412\n",
       "2 B      29564\n",
       "3 B      31553\n",
       "4 A       7043\n",
       "5 A       8061\n",
       "6 B      25479"
      ]
     },
     "metadata": {},
     "output_type": "display_data"
    }
   ],
   "source": [
    "df <- read_dta(\"../data/icu_data.dta\")\n",
    "head(df)"
   ]
  },
  {
   "cell_type": "markdown",
   "metadata": {},
   "source": [
    "### What's in the dataset"
   ]
  },
  {
   "cell_type": "code",
   "execution_count": 3,
   "metadata": {},
   "outputs": [
    {
     "data": {
      "text/plain": [
       "      age             gender           iculos             hr        \n",
       " Min.   : 14.00   Min.   :0.0000   Min.   :  1.00   Min.   : 20.00  \n",
       " 1st Qu.: 51.00   1st Qu.:0.0000   1st Qu.: 10.00   1st Qu.: 72.00  \n",
       " Median : 63.44   Median :1.0000   Median : 21.00   Median : 83.00  \n",
       " Mean   : 61.74   Mean   :0.5485   Mean   : 26.18   Mean   : 84.23  \n",
       " 3rd Qu.: 74.00   3rd Qu.:1.0000   3rd Qu.: 34.00   3rd Qu.: 95.50  \n",
       " Max.   :100.00   Max.   :1.0000   Max.   :336.00   Max.   :223.00  \n",
       "                                                    NA's   :131167  \n",
       "      temp             sbp              dbp              resp       \n",
       " Min.   :20.9     Min.   : 20.0    Min.   : 20      Min.   :  1.00  \n",
       " 1st Qu.:36.5     1st Qu.:107.0    1st Qu.: 55      1st Qu.: 16.00  \n",
       " Median :36.9     Median :122.0    Median : 63      Median : 18.00  \n",
       " Mean   :36.9     Mean   :124.7    Mean   : 65      Mean   : 18.73  \n",
       " 3rd Qu.:37.4     3rd Qu.:140.0    3rd Qu.: 73      3rd Qu.: 21.00  \n",
       " Max.   :50.0     Max.   :298.0    Max.   :300      Max.   :100.00  \n",
       " NA's   :822321   NA's   :176747   NA's   :373178   NA's   :205042  \n",
       "     o2sat             map          sepsislabel          hospid         \n",
       " Min.   : 20.00   Min.   : 20.00   Min.   :0.000000   Length:1201974    \n",
       " 1st Qu.: 96.00   1st Qu.: 72.00   1st Qu.:0.000000   Class :character  \n",
       " Median : 98.00   Median : 82.00   Median :0.000000   Mode  :character  \n",
       " Mean   : 97.15   Mean   : 83.55   Mean   :0.001379                     \n",
       " 3rd Qu.: 99.00   3rd Qu.: 93.00   3rd Qu.:0.000000                     \n",
       " Max.   :100.00   Max.   :300.00   Max.   :1.000000                     \n",
       " NA's   :170544   NA's   :163352                                        \n",
       "     patid      \n",
       " Min.   :    1  \n",
       " 1st Qu.:12317  \n",
       " Median :23294  \n",
       " Mean   :22012  \n",
       " 3rd Qu.:31822  \n",
       " Max.   :40336  \n",
       "                "
      ]
     },
     "metadata": {},
     "output_type": "display_data"
    }
   ],
   "source": [
    "summary(df)"
   ]
  },
  {
   "cell_type": "markdown",
   "metadata": {},
   "source": [
    "### Distributions of each of the variables"
   ]
  },
  {
   "cell_type": "code",
   "execution_count": 4,
   "metadata": {},
   "outputs": [
    {
     "name": "stdout",
     "output_type": "stream",
     "text": [
      "── Data Summary ────────────────────────\n",
      "                           Values \n",
      "Name                       df     \n",
      "Number of rows             1201974\n",
      "Number of columns          13     \n",
      "_______________________           \n",
      "Column type frequency:            \n",
      "  character                1      \n",
      "  numeric                  12     \n",
      "________________________          \n",
      "Group variables            None   \n",
      "\n",
      "── Variable type: character ──────────────────────────────────────────────────────────────────────────────────\n",
      "  skim_variable n_missing complete_rate   min   max empty n_unique whitespace\n",
      "1 hospid                0             1     1     1     0        2          0\n",
      "\n",
      "── Variable type: numeric ────────────────────────────────────────────────────────────────────────────────────\n",
      "   skim_variable n_missing complete_rate        mean         sd    p0     p25     p50     p75  p100 hist \n",
      " 1 age                   0         1        61.7        16.5     14      51      63.4    74     100 ▁▃▇▇▂\n",
      " 2 gender                0         1         0.549       0.498    0       0       1       1       1 ▆▁▁▁▇\n",
      " 3 iculos                0         1        26.2        27.9      1      10      21      34     336 ▇▁▁▁▁\n",
      " 4 hr               131167         0.891    84.2        17.6     20      72      83      95.5   223 ▁▇▂▁▁\n",
      " 5 temp             822321         0.316    36.9         0.759   20.9    36.5    36.9    37.4    50 ▁▁▇▁▁\n",
      " 6 sbp              176747         0.853   125.         23.6     20     107     122     140     298 ▁▇▅▁▁\n",
      " 7 dbp              373178         0.690    65.0        14.2     20      55      63      73     300 ▇▂▁▁▁\n",
      " 8 resp             205042         0.829    18.7         5.02     1      16      18      21     100 ▇▃▁▁▁\n",
      " 9 o2sat            170544         0.858    97.1         2.98    20      96      98      99     100 ▁▁▁▁▇\n",
      "10 map              163352         0.864    83.5        16.6     20      72      82      93     300 ▅▇▁▁▁\n",
      "11 sepsislabel           0         1         0.00138     0.0371   0       0       0       0       1 ▇▁▁▁▁\n",
      "12 patid                 0         1     22012.      11502.       1   12317   23294   31822   40336 ▆▆▇▇▇\n"
     ]
    }
   ],
   "source": [
    "options(width = 110)\n",
    "skim(df)"
   ]
  },
  {
   "cell_type": "markdown",
   "metadata": {},
   "source": [
    "### Complete case indicator"
   ]
  },
  {
   "cell_type": "code",
   "execution_count": 5,
   "metadata": {},
   "outputs": [],
   "source": [
    "cols <- c(\"o2sat\", \"hr\", \"temp\", \"sbp\", \"map\", \"resp\")\n",
    "df <- df %>% \n",
    "    mutate(nvar_miss = rowSums(across(all_of(cols), is.na)),\n",
    "           cc_fl = ifelse(nvar_miss == 0, TRUE, FALSE))"
   ]
  },
  {
   "cell_type": "code",
   "execution_count": 6,
   "metadata": {},
   "outputs": [
    {
     "data": {
      "text/html": [
       "<table class=\"dataframe\">\n",
       "<caption>A tabyl: 2 × 3</caption>\n",
       "<thead>\n",
       "\t<tr><th scope=col>cc_fl</th><th scope=col>n</th><th scope=col>percent</th></tr>\n",
       "\t<tr><th scope=col>&lt;lgl&gt;</th><th scope=col>&lt;int&gt;</th><th scope=col>&lt;dbl&gt;</th></tr>\n",
       "</thead>\n",
       "<tbody>\n",
       "\t<tr><td>FALSE</td><td>865835</td><td>0.7203442</td></tr>\n",
       "\t<tr><td> TRUE</td><td>336139</td><td>0.2796558</td></tr>\n",
       "</tbody>\n",
       "</table>\n"
      ],
      "text/latex": [
       "A tabyl: 2 × 3\n",
       "\\begin{tabular}{lll}\n",
       " cc\\_fl & n & percent\\\\\n",
       " <lgl> & <int> & <dbl>\\\\\n",
       "\\hline\n",
       "\t FALSE & 865835 & 0.7203442\\\\\n",
       "\t  TRUE & 336139 & 0.2796558\\\\\n",
       "\\end{tabular}\n"
      ],
      "text/markdown": [
       "\n",
       "A tabyl: 2 × 3\n",
       "\n",
       "| cc_fl &lt;lgl&gt; | n &lt;int&gt; | percent &lt;dbl&gt; |\n",
       "|---|---|---|\n",
       "| FALSE | 865835 | 0.7203442 |\n",
       "|  TRUE | 336139 | 0.2796558 |\n",
       "\n"
      ],
      "text/plain": [
       "  cc_fl n      percent  \n",
       "1 FALSE 865835 0.7203442\n",
       "2  TRUE 336139 0.2796558"
      ]
     },
     "metadata": {},
     "output_type": "display_data"
    }
   ],
   "source": [
    "tabyl(df, cc_fl)"
   ]
  },
  {
   "cell_type": "markdown",
   "metadata": {},
   "source": [
    "Only 28% of records have no missing vital signs"
   ]
  },
  {
   "cell_type": "markdown",
   "metadata": {},
   "source": [
    "## Outcome exploration"
   ]
  },
  {
   "cell_type": "markdown",
   "metadata": {},
   "source": [
    "### How many people were diagnosed with sepsis?"
   ]
  },
  {
   "cell_type": "code",
   "execution_count": 7,
   "metadata": {},
   "outputs": [
    {
     "data": {
      "text/html": [
       "<table class=\"dataframe\">\n",
       "<caption>A tabyl: 2 × 3</caption>\n",
       "<thead>\n",
       "\t<tr><th scope=col>any_sepsis</th><th scope=col>n</th><th scope=col>percent</th></tr>\n",
       "\t<tr><th scope=col>&lt;dbl&gt;</th><th scope=col>&lt;int&gt;</th><th scope=col>&lt;dbl&gt;</th></tr>\n",
       "</thead>\n",
       "<tbody>\n",
       "\t<tr><td>0</td><td>29268</td><td>0.94641876</td></tr>\n",
       "\t<tr><td>1</td><td> 1657</td><td>0.05358124</td></tr>\n",
       "</tbody>\n",
       "</table>\n"
      ],
      "text/latex": [
       "A tabyl: 2 × 3\n",
       "\\begin{tabular}{lll}\n",
       " any\\_sepsis & n & percent\\\\\n",
       " <dbl> & <int> & <dbl>\\\\\n",
       "\\hline\n",
       "\t 0 & 29268 & 0.94641876\\\\\n",
       "\t 1 &  1657 & 0.05358124\\\\\n",
       "\\end{tabular}\n"
      ],
      "text/markdown": [
       "\n",
       "A tabyl: 2 × 3\n",
       "\n",
       "| any_sepsis &lt;dbl&gt; | n &lt;int&gt; | percent &lt;dbl&gt; |\n",
       "|---|---|---|\n",
       "| 0 | 29268 | 0.94641876 |\n",
       "| 1 |  1657 | 0.05358124 |\n",
       "\n"
      ],
      "text/plain": [
       "  any_sepsis n     percent   \n",
       "1 0          29268 0.94641876\n",
       "2 1           1657 0.05358124"
      ]
     },
     "metadata": {},
     "output_type": "display_data"
    }
   ],
   "source": [
    "df %>% \n",
    "    group_by(patid) %>% \n",
    "    summarise(any_sepsis = max(sepsislabel)) %>%\n",
    "    tabyl(any_sepsis)"
   ]
  },
  {
   "cell_type": "markdown",
   "metadata": {},
   "source": [
    "### When do people get sepsis in ICU?"
   ]
  },
  {
   "cell_type": "code",
   "execution_count": 8,
   "metadata": {},
   "outputs": [
    {
     "name": "stdout",
     "output_type": "stream",
     "text": [
      "── Data Summary ────────────────────────\n",
      "                           Values   \n",
      "Name                       df_sepsis\n",
      "Number of rows             1657     \n",
      "Number of columns          2        \n",
      "_______________________             \n",
      "Column type frequency:              \n",
      "  numeric                  1        \n",
      "________________________            \n",
      "Group variables            None     \n",
      "\n",
      "── Variable type: numeric ────────────────────────────────────────────────────────────────────────────────────\n",
      "  skim_variable  n_missing complete_rate  mean    sd    p0   p25   p50   p75  p100 hist \n",
      "1 time_to_sepsis         0             1  65.7  60.9     7    20    45    91   331 ▇▃▁▁▁\n"
     ]
    }
   ],
   "source": [
    "df_sepsis <- df %>%\n",
    "    filter(sepsislabel == 1) %>% \n",
    "    group_by(patid) %>%\n",
    "    summarise(time_to_sepsis = min(iculos))\n",
    "skim(df_sepsis, time_to_sepsis)"
   ]
  },
  {
   "cell_type": "markdown",
   "metadata": {},
   "source": [
    "* min: 7 hours\n",
    "* max: 331 hours (13.8 days)\n",
    "* median: 45 hours"
   ]
  },
  {
   "cell_type": "code",
   "execution_count": 9,
   "metadata": {},
   "outputs": [
    {
     "data": {
      "image/png": "[encoded data removed]",
      "text/plain": [
       "plot without title"
      ]
     },
     "metadata": {
      "image/png": {
       "height": 420,
       "width": 420
      }
     },
     "output_type": "display_data"
    }
   ],
   "source": [
    "ggplot(df_sepsis, aes(x = time_to_sepsis)) +\n",
    "    theme_bw() +\n",
    "    # these settings are used to match stata output\n",
    "    geom_histogram(fill = \"#2a9d8f\", colour = \"black\", bins = 32,\n",
    "                   binwidth = 10.125, boundary = 7)"
   ]
  },
  {
   "cell_type": "markdown",
   "metadata": {},
   "source": [
    "### Create indicator for patient who get sepsis:"
   ]
  },
  {
   "cell_type": "code",
   "execution_count": 10,
   "metadata": {},
   "outputs": [],
   "source": [
    "df <- df %>% \n",
    "    group_by(patid) %>% \n",
    "    mutate(any_sepsis = max(sepsislabel, na.rm = TRUE))"
   ]
  },
  {
   "cell_type": "markdown",
   "metadata": {},
   "source": [
    "## Imputing explanatory measures"
   ]
  },
  {
   "cell_type": "markdown",
   "metadata": {},
   "source": [
    "### Mean Imputation"
   ]
  },
  {
   "cell_type": "code",
   "execution_count": 11,
   "metadata": {},
   "outputs": [],
   "source": [
    "impute_mean <- function(x) replace_na(x, mean(x, na.rm=T))\n",
    "# Use only ICULOS <= 5\n",
    "df_imp <- df %>% \n",
    "    filter(iculos <= 5) %>% \n",
    "    group_by(patid) %>% \n",
    "    arrange(patid, iculos) %>% \n",
    "    mutate(across(all_of(cols), impute_mean, .names = \"{.col}_imp1\"))\n",
    "    "
   ]
  },
  {
   "cell_type": "markdown",
   "metadata": {},
   "source": [
    "### First observation carried backwards"
   ]
  },
  {
   "cell_type": "code",
   "execution_count": 12,
   "metadata": {},
   "outputs": [
    {
     "data": {
      "text/html": [
       "<table class=\"dataframe\">\n",
       "<caption>A grouped_df: 6 × 28</caption>\n",
       "<thead>\n",
       "\t<tr><th scope=col>age</th><th scope=col>gender</th><th scope=col>iculos</th><th scope=col>hr</th><th scope=col>temp</th><th scope=col>sbp</th><th scope=col>dbp</th><th scope=col>resp</th><th scope=col>o2sat</th><th scope=col>map</th><th scope=col>⋯</th><th scope=col>temp_imp1</th><th scope=col>sbp_imp1</th><th scope=col>map_imp1</th><th scope=col>resp_imp1</th><th scope=col>o2sat_imp2</th><th scope=col>hr_imp2</th><th scope=col>temp_imp2</th><th scope=col>sbp_imp2</th><th scope=col>map_imp2</th><th scope=col>resp_imp2</th></tr>\n",
       "\t<tr><th scope=col>&lt;dbl&gt;</th><th scope=col>&lt;dbl&gt;</th><th scope=col>&lt;dbl&gt;</th><th scope=col>&lt;dbl&gt;</th><th scope=col>&lt;dbl&gt;</th><th scope=col>&lt;dbl&gt;</th><th scope=col>&lt;dbl&gt;</th><th scope=col>&lt;dbl&gt;</th><th scope=col>&lt;dbl&gt;</th><th scope=col>&lt;dbl&gt;</th><th scope=col>⋯</th><th scope=col>&lt;dbl&gt;</th><th scope=col>&lt;dbl&gt;</th><th scope=col>&lt;dbl&gt;</th><th scope=col>&lt;dbl&gt;</th><th scope=col>&lt;dbl&gt;</th><th scope=col>&lt;dbl&gt;</th><th scope=col>&lt;dbl&gt;</th><th scope=col>&lt;dbl&gt;</th><th scope=col>&lt;dbl&gt;</th><th scope=col>&lt;dbl&gt;</th></tr>\n",
       "</thead>\n",
       "<tbody>\n",
       "\t<tr><td>83.14</td><td>0</td><td>1</td><td> NA</td><td>NA</td><td> NA</td><td>NA</td><td>  NA</td><td>  NA</td><td>   NA</td><td>⋯</td><td>  NaN</td><td>114</td><td>84.22</td><td>23.875</td><td>95.0</td><td> 97</td><td>   NA</td><td> 98</td><td>75.33</td><td>19.0</td></tr>\n",
       "\t<tr><td>83.14</td><td>0</td><td>2</td><td> 97</td><td>NA</td><td> 98</td><td>NA</td><td>19.0</td><td>95.0</td><td>75.33</td><td>⋯</td><td>  NaN</td><td> 98</td><td>75.33</td><td>19.000</td><td>95.0</td><td> 97</td><td>   NA</td><td> 98</td><td>75.33</td><td>19.0</td></tr>\n",
       "\t<tr><td>83.14</td><td>0</td><td>3</td><td> 89</td><td>NA</td><td>122</td><td>NA</td><td>22.0</td><td>99.0</td><td>86.00</td><td>⋯</td><td>  NaN</td><td>122</td><td>86.00</td><td>22.000</td><td>99.0</td><td> 89</td><td>   NA</td><td>122</td><td>86.00</td><td>22.0</td></tr>\n",
       "\t<tr><td>83.14</td><td>0</td><td>4</td><td> 90</td><td>NA</td><td> NA</td><td>NA</td><td>30.0</td><td>95.0</td><td>   NA</td><td>⋯</td><td>  NaN</td><td>114</td><td>84.22</td><td>30.000</td><td>95.0</td><td> 90</td><td>   NA</td><td>122</td><td>91.33</td><td>30.0</td></tr>\n",
       "\t<tr><td>83.14</td><td>0</td><td>5</td><td>103</td><td>NA</td><td>122</td><td>NA</td><td>24.5</td><td>88.5</td><td>91.33</td><td>⋯</td><td>  NaN</td><td>122</td><td>91.33</td><td>24.500</td><td>88.5</td><td>103</td><td>   NA</td><td>122</td><td>91.33</td><td>24.5</td></tr>\n",
       "\t<tr><td>75.91</td><td>0</td><td>1</td><td> NA</td><td>NA</td><td> NA</td><td>NA</td><td>  NA</td><td>  NA</td><td>   NA</td><td>⋯</td><td>36.44</td><td>123</td><td>65.25</td><td>19.125</td><td>99.0</td><td> 61</td><td>36.44</td><td>124</td><td>65.00</td><td>17.5</td></tr>\n",
       "</tbody>\n",
       "</table>\n"
      ],
      "text/latex": [
       "A grouped\\_df: 6 × 28\n",
       "\\begin{tabular}{lllllllllllllllllllll}\n",
       " age & gender & iculos & hr & temp & sbp & dbp & resp & o2sat & map & ⋯ & temp\\_imp1 & sbp\\_imp1 & map\\_imp1 & resp\\_imp1 & o2sat\\_imp2 & hr\\_imp2 & temp\\_imp2 & sbp\\_imp2 & map\\_imp2 & resp\\_imp2\\\\\n",
       " <dbl> & <dbl> & <dbl> & <dbl> & <dbl> & <dbl> & <dbl> & <dbl> & <dbl> & <dbl> & ⋯ & <dbl> & <dbl> & <dbl> & <dbl> & <dbl> & <dbl> & <dbl> & <dbl> & <dbl> & <dbl>\\\\\n",
       "\\hline\n",
       "\t 83.14 & 0 & 1 &  NA & NA &  NA & NA &   NA &   NA &    NA & ⋯ &   NaN & 114 & 84.22 & 23.875 & 95.0 &  97 &    NA &  98 & 75.33 & 19.0\\\\\n",
       "\t 83.14 & 0 & 2 &  97 & NA &  98 & NA & 19.0 & 95.0 & 75.33 & ⋯ &   NaN &  98 & 75.33 & 19.000 & 95.0 &  97 &    NA &  98 & 75.33 & 19.0\\\\\n",
       "\t 83.14 & 0 & 3 &  89 & NA & 122 & NA & 22.0 & 99.0 & 86.00 & ⋯ &   NaN & 122 & 86.00 & 22.000 & 99.0 &  89 &    NA & 122 & 86.00 & 22.0\\\\\n",
       "\t 83.14 & 0 & 4 &  90 & NA &  NA & NA & 30.0 & 95.0 &    NA & ⋯ &   NaN & 114 & 84.22 & 30.000 & 95.0 &  90 &    NA & 122 & 91.33 & 30.0\\\\\n",
       "\t 83.14 & 0 & 5 & 103 & NA & 122 & NA & 24.5 & 88.5 & 91.33 & ⋯ &   NaN & 122 & 91.33 & 24.500 & 88.5 & 103 &    NA & 122 & 91.33 & 24.5\\\\\n",
       "\t 75.91 & 0 & 1 &  NA & NA &  NA & NA &   NA &   NA &    NA & ⋯ & 36.44 & 123 & 65.25 & 19.125 & 99.0 &  61 & 36.44 & 124 & 65.00 & 17.5\\\\\n",
       "\\end{tabular}\n"
      ],
      "text/markdown": [
       "\n",
       "A grouped_df: 6 × 28\n",
       "\n",
       "| age &lt;dbl&gt; | gender &lt;dbl&gt; | iculos &lt;dbl&gt; | hr &lt;dbl&gt; | temp &lt;dbl&gt; | sbp &lt;dbl&gt; | dbp &lt;dbl&gt; | resp &lt;dbl&gt; | o2sat &lt;dbl&gt; | map &lt;dbl&gt; | ⋯ ⋯ | temp_imp1 &lt;dbl&gt; | sbp_imp1 &lt;dbl&gt; | map_imp1 &lt;dbl&gt; | resp_imp1 &lt;dbl&gt; | o2sat_imp2 &lt;dbl&gt; | hr_imp2 &lt;dbl&gt; | temp_imp2 &lt;dbl&gt; | sbp_imp2 &lt;dbl&gt; | map_imp2 &lt;dbl&gt; | resp_imp2 &lt;dbl&gt; |\n",
       "|---|---|---|---|---|---|---|---|---|---|---|---|---|---|---|---|---|---|---|---|---|\n",
       "| 83.14 | 0 | 1 |  NA | NA |  NA | NA |   NA |   NA |    NA | ⋯ |   NaN | 114 | 84.22 | 23.875 | 95.0 |  97 |    NA |  98 | 75.33 | 19.0 |\n",
       "| 83.14 | 0 | 2 |  97 | NA |  98 | NA | 19.0 | 95.0 | 75.33 | ⋯ |   NaN |  98 | 75.33 | 19.000 | 95.0 |  97 |    NA |  98 | 75.33 | 19.0 |\n",
       "| 83.14 | 0 | 3 |  89 | NA | 122 | NA | 22.0 | 99.0 | 86.00 | ⋯ |   NaN | 122 | 86.00 | 22.000 | 99.0 |  89 |    NA | 122 | 86.00 | 22.0 |\n",
       "| 83.14 | 0 | 4 |  90 | NA |  NA | NA | 30.0 | 95.0 |    NA | ⋯ |   NaN | 114 | 84.22 | 30.000 | 95.0 |  90 |    NA | 122 | 91.33 | 30.0 |\n",
       "| 83.14 | 0 | 5 | 103 | NA | 122 | NA | 24.5 | 88.5 | 91.33 | ⋯ |   NaN | 122 | 91.33 | 24.500 | 88.5 | 103 |    NA | 122 | 91.33 | 24.5 |\n",
       "| 75.91 | 0 | 1 |  NA | NA |  NA | NA |   NA |   NA |    NA | ⋯ | 36.44 | 123 | 65.25 | 19.125 | 99.0 |  61 | 36.44 | 124 | 65.00 | 17.5 |\n",
       "\n"
      ],
      "text/plain": [
       "  age   gender iculos hr  temp sbp dbp resp o2sat map   ⋯ temp_imp1 sbp_imp1 map_imp1 resp_imp1 o2sat_imp2\n",
       "1 83.14 0      1       NA NA    NA NA    NA   NA     NA ⋯   NaN     114      84.22    23.875    95.0      \n",
       "2 83.14 0      2       97 NA    98 NA  19.0 95.0  75.33 ⋯   NaN      98      75.33    19.000    95.0      \n",
       "3 83.14 0      3       89 NA   122 NA  22.0 99.0  86.00 ⋯   NaN     122      86.00    22.000    99.0      \n",
       "4 83.14 0      4       90 NA    NA NA  30.0 95.0     NA ⋯   NaN     114      84.22    30.000    95.0      \n",
       "5 83.14 0      5      103 NA   122 NA  24.5 88.5  91.33 ⋯   NaN     122      91.33    24.500    88.5      \n",
       "6 75.91 0      1       NA NA    NA NA    NA   NA     NA ⋯ 36.44     123      65.25    19.125    99.0      \n",
       "  hr_imp2 temp_imp2 sbp_imp2 map_imp2 resp_imp2\n",
       "1  97        NA      98      75.33    19.0     \n",
       "2  97        NA      98      75.33    19.0     \n",
       "3  89        NA     122      86.00    22.0     \n",
       "4  90        NA     122      91.33    30.0     \n",
       "5 103        NA     122      91.33    24.5     \n",
       "6  61     36.44     124      65.00    17.5     "
      ]
     },
     "metadata": {},
     "output_type": "display_data"
    }
   ],
   "source": [
    "df_imp <- df_imp %>% \n",
    "    mutate(across(all_of(cols), ~.x, .names = \"{.col}_imp2\")) %>% \n",
    "    fill(ends_with(\"_imp2\"), .direction = \"up\")\n",
    "\n",
    "head(df_imp)"
   ]
  },
  {
   "cell_type": "markdown",
   "metadata": {},
   "source": [
    "### Inspect missingness again among imputed variables"
   ]
  },
  {
   "cell_type": "code",
   "execution_count": 13,
   "metadata": {},
   "outputs": [],
   "source": [
    "df_imp <- df_imp %>%\n",
    "    ungroup() %>% \n",
    "    mutate(nvar_miss_imp1 = rowSums(across(ends_with(\"_imp1\"), is.na)),\n",
    "           nvar_miss_imp2 = rowSums(across(ends_with(\"_imp2\"), is.na)),\n",
    "           cc_fl_imp1 = ifelse(nvar_miss_imp1 == 0, TRUE, FALSE),\n",
    "           cc_fl_imp2 = ifelse(nvar_miss_imp2 == 0, TRUE, FALSE))"
   ]
  },
  {
   "cell_type": "code",
   "execution_count": 14,
   "metadata": {},
   "outputs": [
    {
     "data": {
      "text/html": [
       "<table class=\"dataframe\">\n",
       "<caption>A tabyl: 2 × 3</caption>\n",
       "<thead>\n",
       "\t<tr><th scope=col>cc_fl_imp1</th><th scope=col>n</th><th scope=col>percent</th></tr>\n",
       "\t<tr><th scope=col>&lt;lgl&gt;</th><th scope=col>&lt;int&gt;</th><th scope=col>&lt;dbl&gt;</th></tr>\n",
       "</thead>\n",
       "<tbody>\n",
       "\t<tr><td>FALSE</td><td> 6897</td><td>0.2230234</td></tr>\n",
       "\t<tr><td> TRUE</td><td>24028</td><td>0.7769766</td></tr>\n",
       "</tbody>\n",
       "</table>\n"
      ],
      "text/latex": [
       "A tabyl: 2 × 3\n",
       "\\begin{tabular}{lll}\n",
       " cc\\_fl\\_imp1 & n & percent\\\\\n",
       " <lgl> & <int> & <dbl>\\\\\n",
       "\\hline\n",
       "\t FALSE &  6897 & 0.2230234\\\\\n",
       "\t  TRUE & 24028 & 0.7769766\\\\\n",
       "\\end{tabular}\n"
      ],
      "text/markdown": [
       "\n",
       "A tabyl: 2 × 3\n",
       "\n",
       "| cc_fl_imp1 &lt;lgl&gt; | n &lt;int&gt; | percent &lt;dbl&gt; |\n",
       "|---|---|---|\n",
       "| FALSE |  6897 | 0.2230234 |\n",
       "|  TRUE | 24028 | 0.7769766 |\n",
       "\n"
      ],
      "text/plain": [
       "  cc_fl_imp1 n     percent  \n",
       "1 FALSE       6897 0.2230234\n",
       "2  TRUE      24028 0.7769766"
      ]
     },
     "metadata": {},
     "output_type": "display_data"
    }
   ],
   "source": [
    "df_imp %>% \n",
    "    filter(iculos == 1) %>% \n",
    "    tabyl(cc_fl_imp1)"
   ]
  },
  {
   "cell_type": "code",
   "execution_count": 15,
   "metadata": {},
   "outputs": [
    {
     "data": {
      "text/html": [
       "<table class=\"dataframe\">\n",
       "<caption>A tabyl: 2 × 3</caption>\n",
       "<thead>\n",
       "\t<tr><th scope=col>cc_fl_imp2</th><th scope=col>n</th><th scope=col>percent</th></tr>\n",
       "\t<tr><th scope=col>&lt;lgl&gt;</th><th scope=col>&lt;int&gt;</th><th scope=col>&lt;dbl&gt;</th></tr>\n",
       "</thead>\n",
       "<tbody>\n",
       "\t<tr><td>FALSE</td><td> 6897</td><td>0.2230234</td></tr>\n",
       "\t<tr><td> TRUE</td><td>24028</td><td>0.7769766</td></tr>\n",
       "</tbody>\n",
       "</table>\n"
      ],
      "text/latex": [
       "A tabyl: 2 × 3\n",
       "\\begin{tabular}{lll}\n",
       " cc\\_fl\\_imp2 & n & percent\\\\\n",
       " <lgl> & <int> & <dbl>\\\\\n",
       "\\hline\n",
       "\t FALSE &  6897 & 0.2230234\\\\\n",
       "\t  TRUE & 24028 & 0.7769766\\\\\n",
       "\\end{tabular}\n"
      ],
      "text/markdown": [
       "\n",
       "A tabyl: 2 × 3\n",
       "\n",
       "| cc_fl_imp2 &lt;lgl&gt; | n &lt;int&gt; | percent &lt;dbl&gt; |\n",
       "|---|---|---|\n",
       "| FALSE |  6897 | 0.2230234 |\n",
       "|  TRUE | 24028 | 0.7769766 |\n",
       "\n"
      ],
      "text/plain": [
       "  cc_fl_imp2 n     percent  \n",
       "1 FALSE       6897 0.2230234\n",
       "2  TRUE      24028 0.7769766"
      ]
     },
     "metadata": {},
     "output_type": "display_data"
    }
   ],
   "source": [
    "df_imp %>% \n",
    "    filter(iculos == 1) %>% \n",
    "    tabyl(cc_fl_imp2)"
   ]
  },
  {
   "cell_type": "markdown",
   "metadata": {},
   "source": [
    "78% of rows non-missing for each imputation method"
   ]
  },
  {
   "cell_type": "markdown",
   "metadata": {},
   "source": [
    "## Modelling"
   ]
  },
  {
   "cell_type": "markdown",
   "metadata": {},
   "source": [
    "### Dummy indicators for hospital:\n",
    "In R, dummy indicators for a binary / categorical (a.k.a factor) variable\n",
    "will be created automatically when creating a formula object\n",
    "to be used in generalised-linear model with `glm()`.\n",
    "\n",
    "However, a no-intercept model is needed when fitting the regression\n",
    "to avoid multicollinearity issue due to singular matrix.\n",
    "For more discussion, see: https://stats.stackexchange.com/a/94021"
   ]
  },
  {
   "cell_type": "markdown",
   "metadata": {},
   "source": [
    "### Mean imputation"
   ]
  },
  {
   "cell_type": "code",
   "execution_count": 16,
   "metadata": {},
   "outputs": [],
   "source": [
    "model_imp1 <- glm(\n",
    "    # the -1 term will suppress intercept, which is needed to avoid singularity matrix issue\n",
    "    any_sepsis ~ -1 + age + gender + o2sat_imp1 + hr_imp1 + temp_imp1\n",
    "                 + sbp_imp1 + map_imp1 + resp_imp1 + factor(hospid),\n",
    "    data = filter(df_imp, iculos == 1),\n",
    "    family = binomial(link = \"logit\")\n",
    ")"
   ]
  },
  {
   "cell_type": "code",
   "execution_count": 17,
   "metadata": {},
   "outputs": [
    {
     "data": {
      "text/plain": [
       "\n",
       "Call:\n",
       "glm(formula = any_sepsis ~ -1 + age + gender + o2sat_imp1 + hr_imp1 + \n",
       "    temp_imp1 + sbp_imp1 + map_imp1 + resp_imp1 + factor(hospid), \n",
       "    family = binomial(link = \"logit\"), data = filter(df_imp, \n",
       "        iculos == 1))\n",
       "\n",
       "Deviance Residuals: \n",
       "    Min       1Q   Median       3Q      Max  \n",
       "-1.0167  -0.3480  -0.2962  -0.2514   2.9621  \n",
       "\n",
       "Coefficients:\n",
       "                 Estimate Std. Error z value Pr(>|z|)    \n",
       "age              0.001538   0.001873   0.821  0.41162    \n",
       "gender           0.182319   0.060440   3.017  0.00256 ** \n",
       "o2sat_imp1       0.014192   0.011535   1.230  0.21855    \n",
       "hr_imp1          0.011620   0.001835   6.334 2.39e-10 ***\n",
       "temp_imp1        0.007815   0.040582   0.193  0.84730    \n",
       "sbp_imp1         0.002920   0.002554   1.143  0.25302    \n",
       "map_imp1        -0.016736   0.003827  -4.373 1.23e-05 ***\n",
       "resp_imp1        0.050361   0.006298   7.996 1.29e-15 ***\n",
       "factor(hospid)A -5.496563   1.878954  -2.925  0.00344 ** \n",
       "factor(hospid)B -5.923873   1.876972  -3.156  0.00160 ** \n",
       "---\n",
       "Signif. codes:  0 ‘***’ 0.001 ‘**’ 0.01 ‘*’ 0.05 ‘.’ 0.1 ‘ ’ 1\n",
       "\n",
       "(Dispersion parameter for binomial family taken to be 1)\n",
       "\n",
       "    Null deviance: 33309.9  on 24028  degrees of freedom\n",
       "Residual deviance:  9321.4  on 24018  degrees of freedom\n",
       "  (6897 observations deleted due to missingness)\n",
       "AIC: 9341.4\n",
       "\n",
       "Number of Fisher Scoring iterations: 6\n"
      ]
     },
     "metadata": {},
     "output_type": "display_data"
    }
   ],
   "source": [
    "summary(model_imp1)"
   ]
  },
  {
   "cell_type": "code",
   "execution_count": 18,
   "metadata": {},
   "outputs": [
    {
     "name": "stderr",
     "output_type": "stream",
     "text": [
      "Waiting for profiling to be done...\n",
      "\n"
     ]
    },
    {
     "data": {
      "text/html": [
       "<table class=\"dataframe\">\n",
       "<caption>A tibble: 10 × 4</caption>\n",
       "<thead>\n",
       "\t<tr><th scope=col>variable</th><th scope=col>odds ratio</th><th scope=col>2.5 %</th><th scope=col>97.5 %</th></tr>\n",
       "\t<tr><th scope=col>&lt;chr&gt;</th><th scope=col>&lt;dbl&gt;</th><th scope=col>&lt;dbl&gt;</th><th scope=col>&lt;dbl&gt;</th></tr>\n",
       "</thead>\n",
       "<tbody>\n",
       "\t<tr><td>age            </td><td>1.00153917</td><td>9.978819e-01</td><td>1.0052367</td></tr>\n",
       "\t<tr><td>gender         </td><td>1.19999753</td><td>1.066285e+00</td><td>1.3514246</td></tr>\n",
       "\t<tr><td>o2sat_imp1     </td><td>1.01429313</td><td>9.925303e-01</td><td>1.0383737</td></tr>\n",
       "\t<tr><td>hr_imp1        </td><td>1.01168795</td><td>1.008049e+00</td><td>1.0153248</td></tr>\n",
       "\t<tr><td>temp_imp1      </td><td>1.00784512</td><td>9.309287e-01</td><td>1.0914074</td></tr>\n",
       "\t<tr><td>sbp_imp1       </td><td>1.00292389</td><td>9.978885e-01</td><td>1.0079298</td></tr>\n",
       "\t<tr><td>map_imp1       </td><td>0.98340323</td><td>9.760605e-01</td><td>0.9908138</td></tr>\n",
       "\t<tr><td>resp_imp1      </td><td>1.05165073</td><td>1.038685e+00</td><td>1.0646521</td></tr>\n",
       "\t<tr><td>factor(hospid)A</td><td>0.00410084</td><td>9.841101e-05</td><td>0.1554736</td></tr>\n",
       "\t<tr><td>factor(hospid)B</td><td>0.00267482</td><td>6.446135e-05</td><td>0.1010534</td></tr>\n",
       "</tbody>\n",
       "</table>\n"
      ],
      "text/latex": [
       "A tibble: 10 × 4\n",
       "\\begin{tabular}{llll}\n",
       " variable & odds ratio & 2.5 \\% & 97.5 \\%\\\\\n",
       " <chr> & <dbl> & <dbl> & <dbl>\\\\\n",
       "\\hline\n",
       "\t age             & 1.00153917 & 9.978819e-01 & 1.0052367\\\\\n",
       "\t gender          & 1.19999753 & 1.066285e+00 & 1.3514246\\\\\n",
       "\t o2sat\\_imp1      & 1.01429313 & 9.925303e-01 & 1.0383737\\\\\n",
       "\t hr\\_imp1         & 1.01168795 & 1.008049e+00 & 1.0153248\\\\\n",
       "\t temp\\_imp1       & 1.00784512 & 9.309287e-01 & 1.0914074\\\\\n",
       "\t sbp\\_imp1        & 1.00292389 & 9.978885e-01 & 1.0079298\\\\\n",
       "\t map\\_imp1        & 0.98340323 & 9.760605e-01 & 0.9908138\\\\\n",
       "\t resp\\_imp1       & 1.05165073 & 1.038685e+00 & 1.0646521\\\\\n",
       "\t factor(hospid)A & 0.00410084 & 9.841101e-05 & 0.1554736\\\\\n",
       "\t factor(hospid)B & 0.00267482 & 6.446135e-05 & 0.1010534\\\\\n",
       "\\end{tabular}\n"
      ],
      "text/markdown": [
       "\n",
       "A tibble: 10 × 4\n",
       "\n",
       "| variable &lt;chr&gt; | odds ratio &lt;dbl&gt; | 2.5 % &lt;dbl&gt; | 97.5 % &lt;dbl&gt; |\n",
       "|---|---|---|---|\n",
       "| age             | 1.00153917 | 9.978819e-01 | 1.0052367 |\n",
       "| gender          | 1.19999753 | 1.066285e+00 | 1.3514246 |\n",
       "| o2sat_imp1      | 1.01429313 | 9.925303e-01 | 1.0383737 |\n",
       "| hr_imp1         | 1.01168795 | 1.008049e+00 | 1.0153248 |\n",
       "| temp_imp1       | 1.00784512 | 9.309287e-01 | 1.0914074 |\n",
       "| sbp_imp1        | 1.00292389 | 9.978885e-01 | 1.0079298 |\n",
       "| map_imp1        | 0.98340323 | 9.760605e-01 | 0.9908138 |\n",
       "| resp_imp1       | 1.05165073 | 1.038685e+00 | 1.0646521 |\n",
       "| factor(hospid)A | 0.00410084 | 9.841101e-05 | 0.1554736 |\n",
       "| factor(hospid)B | 0.00267482 | 6.446135e-05 | 0.1010534 |\n",
       "\n"
      ],
      "text/plain": [
       "   variable        odds ratio 2.5 %        97.5 %   \n",
       "1  age             1.00153917 9.978819e-01 1.0052367\n",
       "2  gender          1.19999753 1.066285e+00 1.3514246\n",
       "3  o2sat_imp1      1.01429313 9.925303e-01 1.0383737\n",
       "4  hr_imp1         1.01168795 1.008049e+00 1.0153248\n",
       "5  temp_imp1       1.00784512 9.309287e-01 1.0914074\n",
       "6  sbp_imp1        1.00292389 9.978885e-01 1.0079298\n",
       "7  map_imp1        0.98340323 9.760605e-01 0.9908138\n",
       "8  resp_imp1       1.05165073 1.038685e+00 1.0646521\n",
       "9  factor(hospid)A 0.00410084 9.841101e-05 0.1554736\n",
       "10 factor(hospid)B 0.00267482 6.446135e-05 0.1010534"
      ]
     },
     "metadata": {},
     "output_type": "display_data"
    }
   ],
   "source": [
    "# Calculate odds ratio & 95% confidence interval\n",
    "exp(coefficients(model_imp1)) %>%\n",
    "    enframe(name = \"variable\", value = \"odds ratio\") %>%\n",
    "    add_column(as_tibble(exp(confint(model_imp1))))"
   ]
  },
  {
   "cell_type": "markdown",
   "metadata": {},
   "source": [
    "#### First observation carried backwards"
   ]
  },
  {
   "cell_type": "code",
   "execution_count": 19,
   "metadata": {},
   "outputs": [],
   "source": [
    "model_imp2 <- glm(\n",
    "    # the -1 term will suppress intercept, which is needed to avoid singularity matrix issue\n",
    "    any_sepsis ~ -1 + age + gender + o2sat_imp2 + hr_imp2 + temp_imp2\n",
    "                 + sbp_imp2 + map_imp2 + resp_imp2 + factor(hospid),\n",
    "    data = filter(df_imp, iculos == 1),\n",
    "    family = binomial(link = \"logit\")\n",
    ")"
   ]
  },
  {
   "cell_type": "code",
   "execution_count": 20,
   "metadata": {},
   "outputs": [
    {
     "data": {
      "text/plain": [
       "\n",
       "Call:\n",
       "glm(formula = any_sepsis ~ -1 + age + gender + o2sat_imp2 + hr_imp2 + \n",
       "    temp_imp2 + sbp_imp2 + map_imp2 + resp_imp2 + factor(hospid), \n",
       "    family = binomial(link = \"logit\"), data = filter(df_imp, \n",
       "        iculos == 1))\n",
       "\n",
       "Deviance Residuals: \n",
       "    Min       1Q   Median       3Q      Max  \n",
       "-1.1188  -0.3487  -0.2969  -0.2530   2.9213  \n",
       "\n",
       "Coefficients:\n",
       "                 Estimate Std. Error z value Pr(>|z|)    \n",
       "age              0.002011   0.001858   1.083 0.278993    \n",
       "gender           0.179775   0.060351   2.979 0.002894 ** \n",
       "o2sat_imp2      -0.003505   0.008713  -0.402 0.687495    \n",
       "hr_imp2          0.011096   0.001669   6.647 2.98e-11 ***\n",
       "temp_imp2        0.036431   0.038238   0.953 0.340720    \n",
       "sbp_imp2         0.001067   0.002164   0.493 0.622103    \n",
       "map_imp2        -0.012117   0.003177  -3.814 0.000137 ***\n",
       "resp_imp2        0.034078   0.005201   6.552 5.69e-11 ***\n",
       "factor(hospid)A -4.629805   1.652233  -2.802 0.005076 ** \n",
       "factor(hospid)B -5.080070   1.648675  -3.081 0.002061 ** \n",
       "---\n",
       "Signif. codes:  0 ‘***’ 0.001 ‘**’ 0.01 ‘*’ 0.05 ‘.’ 0.1 ‘ ’ 1\n",
       "\n",
       "(Dispersion parameter for binomial family taken to be 1)\n",
       "\n",
       "    Null deviance: 33309.9  on 24028  degrees of freedom\n",
       "Residual deviance:  9339.9  on 24018  degrees of freedom\n",
       "  (6897 observations deleted due to missingness)\n",
       "AIC: 9359.9\n",
       "\n",
       "Number of Fisher Scoring iterations: 6\n"
      ]
     },
     "metadata": {},
     "output_type": "display_data"
    }
   ],
   "source": [
    "summary(model_imp2)"
   ]
  },
  {
   "cell_type": "code",
   "execution_count": 21,
   "metadata": {},
   "outputs": [
    {
     "name": "stderr",
     "output_type": "stream",
     "text": [
      "Waiting for profiling to be done...\n",
      "\n"
     ]
    },
    {
     "data": {
      "text/html": [
       "<table class=\"dataframe\">\n",
       "<caption>A tibble: 10 × 4</caption>\n",
       "<thead>\n",
       "\t<tr><th scope=col>variable</th><th scope=col>odds ratio</th><th scope=col>2.5 %</th><th scope=col>97.5 %</th></tr>\n",
       "\t<tr><th scope=col>&lt;chr&gt;</th><th scope=col>&lt;dbl&gt;</th><th scope=col>&lt;dbl&gt;</th><th scope=col>&lt;dbl&gt;</th></tr>\n",
       "</thead>\n",
       "<tbody>\n",
       "\t<tr><td>age            </td><td>1.002013075</td><td>0.9983839947</td><td>1.0056812</td></tr>\n",
       "\t<tr><td>gender         </td><td>1.196947746</td><td>1.0637620110</td><td>1.3477559</td></tr>\n",
       "\t<tr><td>o2sat_imp2     </td><td>0.996501380</td><td>0.9804169530</td><td>1.0145076</td></tr>\n",
       "\t<tr><td>hr_imp2        </td><td>1.011157302</td><td>1.0078466742</td><td>1.0144630</td></tr>\n",
       "\t<tr><td>temp_imp2      </td><td>1.037102407</td><td>0.9623432758</td><td>1.1179221</td></tr>\n",
       "\t<tr><td>sbp_imp2       </td><td>1.001067178</td><td>0.9968119421</td><td>1.0053017</td></tr>\n",
       "\t<tr><td>map_imp2       </td><td>0.987955994</td><td>0.9818196556</td><td>0.9941161</td></tr>\n",
       "\t<tr><td>resp_imp2      </td><td>1.034665510</td><td>1.0240921583</td><td>1.0452040</td></tr>\n",
       "\t<tr><td>factor(hospid)A</td><td>0.009756666</td><td>0.0003699473</td><td>0.2408788</td></tr>\n",
       "\t<tr><td>factor(hospid)B</td><td>0.006219472</td><td>0.0002375450</td><td>0.1525313</td></tr>\n",
       "</tbody>\n",
       "</table>\n"
      ],
      "text/latex": [
       "A tibble: 10 × 4\n",
       "\\begin{tabular}{llll}\n",
       " variable & odds ratio & 2.5 \\% & 97.5 \\%\\\\\n",
       " <chr> & <dbl> & <dbl> & <dbl>\\\\\n",
       "\\hline\n",
       "\t age             & 1.002013075 & 0.9983839947 & 1.0056812\\\\\n",
       "\t gender          & 1.196947746 & 1.0637620110 & 1.3477559\\\\\n",
       "\t o2sat\\_imp2      & 0.996501380 & 0.9804169530 & 1.0145076\\\\\n",
       "\t hr\\_imp2         & 1.011157302 & 1.0078466742 & 1.0144630\\\\\n",
       "\t temp\\_imp2       & 1.037102407 & 0.9623432758 & 1.1179221\\\\\n",
       "\t sbp\\_imp2        & 1.001067178 & 0.9968119421 & 1.0053017\\\\\n",
       "\t map\\_imp2        & 0.987955994 & 0.9818196556 & 0.9941161\\\\\n",
       "\t resp\\_imp2       & 1.034665510 & 1.0240921583 & 1.0452040\\\\\n",
       "\t factor(hospid)A & 0.009756666 & 0.0003699473 & 0.2408788\\\\\n",
       "\t factor(hospid)B & 0.006219472 & 0.0002375450 & 0.1525313\\\\\n",
       "\\end{tabular}\n"
      ],
      "text/markdown": [
       "\n",
       "A tibble: 10 × 4\n",
       "\n",
       "| variable &lt;chr&gt; | odds ratio &lt;dbl&gt; | 2.5 % &lt;dbl&gt; | 97.5 % &lt;dbl&gt; |\n",
       "|---|---|---|---|\n",
       "| age             | 1.002013075 | 0.9983839947 | 1.0056812 |\n",
       "| gender          | 1.196947746 | 1.0637620110 | 1.3477559 |\n",
       "| o2sat_imp2      | 0.996501380 | 0.9804169530 | 1.0145076 |\n",
       "| hr_imp2         | 1.011157302 | 1.0078466742 | 1.0144630 |\n",
       "| temp_imp2       | 1.037102407 | 0.9623432758 | 1.1179221 |\n",
       "| sbp_imp2        | 1.001067178 | 0.9968119421 | 1.0053017 |\n",
       "| map_imp2        | 0.987955994 | 0.9818196556 | 0.9941161 |\n",
       "| resp_imp2       | 1.034665510 | 1.0240921583 | 1.0452040 |\n",
       "| factor(hospid)A | 0.009756666 | 0.0003699473 | 0.2408788 |\n",
       "| factor(hospid)B | 0.006219472 | 0.0002375450 | 0.1525313 |\n",
       "\n"
      ],
      "text/plain": [
       "   variable        odds ratio  2.5 %        97.5 %   \n",
       "1  age             1.002013075 0.9983839947 1.0056812\n",
       "2  gender          1.196947746 1.0637620110 1.3477559\n",
       "3  o2sat_imp2      0.996501380 0.9804169530 1.0145076\n",
       "4  hr_imp2         1.011157302 1.0078466742 1.0144630\n",
       "5  temp_imp2       1.037102407 0.9623432758 1.1179221\n",
       "6  sbp_imp2        1.001067178 0.9968119421 1.0053017\n",
       "7  map_imp2        0.987955994 0.9818196556 0.9941161\n",
       "8  resp_imp2       1.034665510 1.0240921583 1.0452040\n",
       "9  factor(hospid)A 0.009756666 0.0003699473 0.2408788\n",
       "10 factor(hospid)B 0.006219472 0.0002375450 0.1525313"
      ]
     },
     "metadata": {},
     "output_type": "display_data"
    }
   ],
   "source": [
    "# Calculate odds ratio & 95% confidence interval\n",
    "exp(coefficients(model_imp2)) %>%\n",
    "    enframe(name = \"variable\", value = \"odds ratio\") %>%\n",
    "    add_column(as_tibble(exp(confint(model_imp2))))"
   ]
  },
  {
   "cell_type": "markdown",
   "metadata": {},
   "source": [
    "### Higher respiration rate among those with sepsis?"
   ]
  },
  {
   "cell_type": "code",
   "execution_count": 22,
   "metadata": {},
   "outputs": [
    {
     "name": "stdout",
     "output_type": "stream",
     "text": [
      "── Data Summary ────────────────────────\n",
      "                           Values    \n",
      "Name                       Piped data\n",
      "Number of rows             30925     \n",
      "Number of columns          32        \n",
      "_______________________              \n",
      "Column type frequency:               \n",
      "  numeric                  1         \n",
      "________________________             \n",
      "Group variables            any_sepsis\n",
      "\n",
      "── Variable type: numeric ────────────────────────────────────────────────────────────────────────────────────\n",
      "  skim_variable any_sepsis n_missing complete_rate  mean    sd    p0   p25   p50   p75  p100 hist \n",
      "1 resp_imp1              0       960         0.967  18.2  4.42     1  15.4  17.9  20.4  98   ▇▂▁▁▁\n",
      "2 resp_imp1              1        68         0.959  19.6  5.54     1  15.9  18.8  22.4  44.5 ▁▇▇▁▁\n"
     ]
    }
   ],
   "source": [
    "df_imp %>% \n",
    "    group_by(patid) %>% \n",
    "    filter(iculos == 1) %>% \n",
    "    ungroup() %>% group_by(any_sepsis) %>% \n",
    "    skim(resp_imp1)"
   ]
  },
  {
   "cell_type": "code",
   "execution_count": 23,
   "metadata": {},
   "outputs": [
    {
     "name": "stdout",
     "output_type": "stream",
     "text": [
      "── Data Summary ────────────────────────\n",
      "                           Values    \n",
      "Name                       Piped data\n",
      "Number of rows             30925     \n",
      "Number of columns          32        \n",
      "_______________________              \n",
      "Column type frequency:               \n",
      "  numeric                  1         \n",
      "________________________             \n",
      "Group variables            any_sepsis\n",
      "\n",
      "── Variable type: numeric ────────────────────────────────────────────────────────────────────────────────────\n",
      "  skim_variable any_sepsis n_missing complete_rate  mean    sd    p0   p25   p50   p75  p100 hist \n",
      "1 resp_imp2              0       960         0.967  18.2  5.20     1  15      18  21      98 ▇▃▁▁▁\n",
      "2 resp_imp2              1        68         0.959  19.5  6.08     1  15.5    19  22.5    50 ▁▇▃▁▁\n"
     ]
    }
   ],
   "source": [
    "df_imp %>% \n",
    "    group_by(patid) %>% \n",
    "    filter(iculos == 1) %>% \n",
    "    ungroup() %>% group_by(any_sepsis) %>% \n",
    "    skim(resp_imp2)"
   ]
  }
 ],
 "metadata": {
  "kernelspec": {
   "display_name": "R",
   "language": "R",
   "name": "ir"
  },
  "language_info": {
   "codemirror_mode": "r",
   "file_extension": ".r",
   "mimetype": "text/x-r-source",
   "name": "R",
   "pygments_lexer": "r",
   "version": "4.1.0"
  },
  "toc-autonumbering": false
 },
 "nbformat": 4,
 "nbformat_minor": 5
}
