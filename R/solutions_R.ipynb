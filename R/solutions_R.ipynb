{
 "cells": [
  {
   "cell_type": "markdown",
   "id": "55e5cdc1-1288-49a8-8dff-37571ffc7a0c",
   "metadata": {},
   "source": [
    "# ASRR Messy Data Challenge\n",
    "## Example analysis (R version)"
   ]
  },
  {
   "cell_type": "code",
   "execution_count": 3,
   "id": "b62fa3e6-cef2-41da-8016-e590c198c201",
   "metadata": {},
   "outputs": [
    {
     "name": "stdout",
     "output_type": "stream",
     "text": [
      "env: R_HOME=C:\\ProgramData\\Microsoft\\AppV\\Client\\Integration\\61ABC81D-0AAC-4AD9-A865-E0EA969CB031\\Root\\R-4.1.2\n",
      "env: PATH=C:\\ProgramData\\Microsoft\\AppV\\Client\\Integration\\61ABC81D-0AAC-4AD9-A865-E0EA969CB031\\Root\\R-4.1.2\\bin\\x64;C:\\ProgramData\\Microsoft\\AppV\\Client\\Integration\\61ABC81D-0AAC-4AD9-A865-E0EA969CB031\\Root\\R-4.1.2\\bin\\x64;C:\\Program Files\\Anaconda3;C:\\Program Files\\Anaconda3\\Library\\mingw-w64\\bin;C:\\Program Files\\Anaconda3\\Library\\usr\\bin;C:\\Program Files\\Anaconda3\\Library\\bin;C:\\Program Files\\Anaconda3\\Scripts;C:\\Oracle19\\product\\19.0.0\\client_1\\bin;C:\\Program Files\\Java\\jdk1.8.0_321\\bin;C:\\Program Files (x86)\\Common Files\\Oracle\\Java\\javapath;C:\\Oracle\\RuntimeClient64\\product\\12.1.0\\client_1\\bin;C:\\Windows\\system32;C:\\Windows;C:\\Windows\\System32\\Wbem;C:\\Windows\\System32\\WindowsPowerShell\\v1.0\\;C:\\Windows\\System32\\OpenSSH\\;C:\\Program Files\\Microsoft SQL Server\\120\\Tools\\Binn\\;C:\\Program Files (x86)\\QuickTime\\QTSystem\\;C:\\Program Files (x86)\\Citrix\\System32\\;C:\\ORACLE\\ora1120A_32\\product\\11.2.0\\client_1\\bin;C:\\Program Files (x86)\\ESRIUK\\ProductivitySuite\\bin\\;C:\\Program Files (x86)\\MATLAB\\MATLAB Compiler Runtime\\v78\\runtime\\win32;C:\\Program Files\\;C:\\Program Files\\Common Files\\Autodesk Shared\\;C:\\Program Files\\Wolfram Research\\WolframScript\\;C:\\Program Files\\Pandoc\\;C:\\Program Files\\MATLAB\\R2021a\\runtime\\win64;C:\\Program Files\\MATLAB\\R2021a\\bin;C:\\Program Files\\SlikSvn\\bin;c:\\Program Files\\Anaconda3;C:\\Program Files\\Anaconda3\\Scripts;C:\\Program Files\\Anaconda3\\Library\\bin;C:\\Program Files (x86)\\InputAccel\\Client\\binnt;C:\\Program Files (x86)\\InputAccel\\Client\\Binnt\\Dll;C:\\Program Files\\Java\\jdk1.8.0_321\\bin;C:\\Users\\rmhiaah\\AppData\\Local\\Microsoft\\WindowsApps;\n"
     ]
    },
    {
     "name": "stderr",
     "output_type": "stream",
     "text": [
      "Unable to determine R library path: Command '('C:\\\\ProgramData\\\\Microsoft\\\\AppV\\\\Client\\\\Integration\\\\61ABC81D-0AAC-4AD9-A865-E0EA969CB031\\\\Root\\\\R-4.1.2\\\\bin\\\\Rscript', '-e', 'cat(Sys.getenv(\"LD_LIBRARY_PATH\"))')' returned non-zero exit status 1.\n",
      "C:\\Users\\rmhiaah\\AppData\\Roaming\\Python\\Python38\\site-packages\\rpy2\\robjects\\packages.py:366: UserWarning: The symbol 'quartz' is not in this R namespace/package.\n",
      "  warnings.warn(\n"
     ]
    }
   ],
   "source": [
    "# Configure system PATH\n",
    "from pathlib import Path\n",
    "import sys,os\n",
    "\n",
    "R_HOME = Path('C:/ProgramData/Microsoft/AppV/Client/Integration/61ABC81D-0AAC-4AD9-A865-E0EA969CB031/Root/R-4.1.2')\n",
    "%set_env R_HOME={str(R_HOME)}\n",
    "%set_env PATH={str(R_HOME / 'bin/x64')};{os.environ['PATH']}\n",
    "\n",
    "# Install & configure R via rpy2\n",
    "# !python -m pip install rpy2==3.5.1\n",
    "%load_ext rpy2.ipython"
   ]
  },
  {
   "cell_type": "code",
   "execution_count": 7,
   "id": "db616bc2-2024-42b8-9f1e-e3ab45d26021",
   "metadata": {},
   "outputs": [
    {
     "name": "stderr",
     "output_type": "stream",
     "text": [
      "R[write to console]: Loading required package: p\n",
      "\n",
      "R[write to console]: Installing package into 'N:/R/win-library/4.1'\n",
      "(as 'lib' is unspecified)\n",
      "\n"
     ]
    },
    {
     "name": "stdout",
     "output_type": "stream",
     "text": [
      "--- Please select a CRAN mirror for use in this session ---\n"
     ]
    },
    {
     "name": "stderr",
     "output_type": "stream",
     "text": [
      "R[write to console]: trying URL 'https://cran.ma.imperial.ac.uk/bin/windows/contrib/4.1/tidyverse_1.3.1.zip'\n",
      "\n",
      "R[write to console]: Content type 'application/zip'\n",
      "R[write to console]:  length 430154 bytes (420 KB)\n",
      "\n",
      "R[write to console]: downloaded 420 KB\n",
      "\n",
      "\n"
     ]
    },
    {
     "name": "stdout",
     "output_type": "stream",
     "text": [
      "package 'tidyverse' successfully unpacked and MD5 sums checked\n",
      "\n",
      "The downloaded binary packages are in\n",
      "\tC:\\Users\\rmhiaah\\AppData\\Local\\Temp\\90\\RtmpWKrGsB\\downloaded_packages\n"
     ]
    },
    {
     "name": "stderr",
     "output_type": "stream",
     "text": [
      "R[write to console]: Error: package or namespace load failed for 'tidyverse':\n",
      " .onLoad failed in loadNamespace() for 'rlang', details:\n",
      "  call: NULL\n",
      "  error: The rlang package is not properly installed.\n",
      "The DLL version does not correspond to the package version.\n",
      "Please update rlang to the latest version.\n",
      "Updating packages on Windows requires precautions:\n",
      "  <https://github.com/jennybc/what-they-forgot/issues/62>\n",
      "\n",
      "R[write to console]: In addition: \n",
      "R[write to console]: Warning messages:\n",
      "\n",
      "R[write to console]: 1: \n",
      "R[write to console]: In library(package, lib.loc = lib.loc, character.only = TRUE, logical.return = TRUE,  :\n",
      "R[write to console]: \n",
      " \n",
      "R[write to console]:  there is no package called 'p'\n",
      "\n",
      "R[write to console]: 2: package 'tidyverse' was built under R version 4.1.3 \n",
      "\n"
     ]
    },
    {
     "name": "stdout",
     "output_type": "stream",
     "text": [
      "\n",
      "Error: package or namespace load failed for 'tidyverse':\n",
      " .onLoad failed in loadNamespace() for 'rlang', details:\n",
      "  call: NULL\n",
      "  error: The rlang package is not properly installed.\n",
      "The DLL version does not correspond to the package version.\n",
      "Please update rlang to the latest version.\n",
      "Updating packages on Windows requires precautions:\n",
      "  <https://github.com/jennybc/what-they-forgot/issues/62>\n"
     ]
    },
    {
     "ename": "RInterpreterError",
     "evalue": "Failed to parse and evaluate line 'source(\"N:/.Rprofile\")\\npackages <- c(\"tidyverse\", \"data.table\", \"lme4\")\\nfor (p in packages){\\n    if (!require(p)) install.packages(p)\\n    library(p, character.only = TRUE)\\n}\\n'.\nR error message: \"Error: package or namespace load failed for 'tidyverse':\\n .onLoad failed in loadNamespace() for 'rlang', details:\\n  call: NULL\\n  error: The rlang package is not properly installed.\\nThe DLL version does not correspond to the package version.\\nPlease update rlang to the latest version.\\nUpdating packages on Windows requires precautions:\\n  <https://github.com/jennybc/what-they-forgot/issues/62>\"",
     "output_type": "error",
     "traceback": [
      "\u001b[1;31m---------------------------------------------------------------------------\u001b[0m",
      "\u001b[1;31mRRuntimeError\u001b[0m                             Traceback (most recent call last)",
      "\u001b[1;32m~\\AppData\\Roaming\\Python\\Python38\\site-packages\\rpy2\\ipython\\rmagic.py\u001b[0m in \u001b[0;36meval\u001b[1;34m(self, code)\u001b[0m\n\u001b[0;32m    279\u001b[0m                 \u001b[1;31m# Need the newline in case the last line in code is a comment.\u001b[0m\u001b[1;33m\u001b[0m\u001b[1;33m\u001b[0m\u001b[1;33m\u001b[0m\u001b[0m\n\u001b[1;32m--> 280\u001b[1;33m                 \u001b[0mvalue\u001b[0m\u001b[1;33m,\u001b[0m \u001b[0mvisible\u001b[0m \u001b[1;33m=\u001b[0m \u001b[0mro\u001b[0m\u001b[1;33m.\u001b[0m\u001b[0mr\u001b[0m\u001b[1;33m(\u001b[0m\u001b[1;34m\"withVisible({%s\\n})\"\u001b[0m \u001b[1;33m%\u001b[0m \u001b[0mcode\u001b[0m\u001b[1;33m)\u001b[0m\u001b[1;33m\u001b[0m\u001b[1;33m\u001b[0m\u001b[0m\n\u001b[0m\u001b[0;32m    281\u001b[0m             \u001b[1;32mexcept\u001b[0m \u001b[1;33m(\u001b[0m\u001b[0mri\u001b[0m\u001b[1;33m.\u001b[0m\u001b[0membedded\u001b[0m\u001b[1;33m.\u001b[0m\u001b[0mRRuntimeError\u001b[0m\u001b[1;33m,\u001b[0m \u001b[0mValueError\u001b[0m\u001b[1;33m)\u001b[0m \u001b[1;32mas\u001b[0m \u001b[0mexception\u001b[0m\u001b[1;33m:\u001b[0m\u001b[1;33m\u001b[0m\u001b[1;33m\u001b[0m\u001b[0m\n",
      "\u001b[1;32m~\\AppData\\Roaming\\Python\\Python38\\site-packages\\rpy2\\robjects\\__init__.py\u001b[0m in \u001b[0;36m__call__\u001b[1;34m(self, string)\u001b[0m\n\u001b[0;32m    450\u001b[0m         \u001b[0mp\u001b[0m \u001b[1;33m=\u001b[0m \u001b[0mrinterface\u001b[0m\u001b[1;33m.\u001b[0m\u001b[0mparse\u001b[0m\u001b[1;33m(\u001b[0m\u001b[0mstring\u001b[0m\u001b[1;33m)\u001b[0m\u001b[1;33m\u001b[0m\u001b[1;33m\u001b[0m\u001b[0m\n\u001b[1;32m--> 451\u001b[1;33m         \u001b[0mres\u001b[0m \u001b[1;33m=\u001b[0m \u001b[0mself\u001b[0m\u001b[1;33m.\u001b[0m\u001b[0meval\u001b[0m\u001b[1;33m(\u001b[0m\u001b[0mp\u001b[0m\u001b[1;33m)\u001b[0m\u001b[1;33m\u001b[0m\u001b[1;33m\u001b[0m\u001b[0m\n\u001b[0m\u001b[0;32m    452\u001b[0m         \u001b[1;32mreturn\u001b[0m \u001b[0mconversion\u001b[0m\u001b[1;33m.\u001b[0m\u001b[0mrpy2py\u001b[0m\u001b[1;33m(\u001b[0m\u001b[0mres\u001b[0m\u001b[1;33m)\u001b[0m\u001b[1;33m\u001b[0m\u001b[1;33m\u001b[0m\u001b[0m\n",
      "\u001b[1;32m~\\AppData\\Roaming\\Python\\Python38\\site-packages\\rpy2\\robjects\\functions.py\u001b[0m in \u001b[0;36m__call__\u001b[1;34m(self, *args, **kwargs)\u001b[0m\n\u001b[0;32m    200\u001b[0m                 \u001b[0mkwargs\u001b[0m\u001b[1;33m[\u001b[0m\u001b[0mr_k\u001b[0m\u001b[1;33m]\u001b[0m \u001b[1;33m=\u001b[0m \u001b[0mv\u001b[0m\u001b[1;33m\u001b[0m\u001b[1;33m\u001b[0m\u001b[0m\n\u001b[1;32m--> 201\u001b[1;33m         return (super(SignatureTranslatedFunction, self)\n\u001b[0m\u001b[0;32m    202\u001b[0m                 .__call__(*args, **kwargs))\n",
      "\u001b[1;32m~\\AppData\\Roaming\\Python\\Python38\\site-packages\\rpy2\\robjects\\functions.py\u001b[0m in \u001b[0;36m__call__\u001b[1;34m(self, *args, **kwargs)\u001b[0m\n\u001b[0;32m    123\u001b[0m                 \u001b[0mnew_kwargs\u001b[0m\u001b[1;33m[\u001b[0m\u001b[0mk\u001b[0m\u001b[1;33m]\u001b[0m \u001b[1;33m=\u001b[0m \u001b[0mconversion\u001b[0m\u001b[1;33m.\u001b[0m\u001b[0mpy2rpy\u001b[0m\u001b[1;33m(\u001b[0m\u001b[0mv\u001b[0m\u001b[1;33m)\u001b[0m\u001b[1;33m\u001b[0m\u001b[1;33m\u001b[0m\u001b[0m\n\u001b[1;32m--> 124\u001b[1;33m         \u001b[0mres\u001b[0m \u001b[1;33m=\u001b[0m \u001b[0msuper\u001b[0m\u001b[1;33m(\u001b[0m\u001b[0mFunction\u001b[0m\u001b[1;33m,\u001b[0m \u001b[0mself\u001b[0m\u001b[1;33m)\u001b[0m\u001b[1;33m.\u001b[0m\u001b[0m__call__\u001b[0m\u001b[1;33m(\u001b[0m\u001b[1;33m*\u001b[0m\u001b[0mnew_args\u001b[0m\u001b[1;33m,\u001b[0m \u001b[1;33m**\u001b[0m\u001b[0mnew_kwargs\u001b[0m\u001b[1;33m)\u001b[0m\u001b[1;33m\u001b[0m\u001b[1;33m\u001b[0m\u001b[0m\n\u001b[0m\u001b[0;32m    125\u001b[0m         \u001b[0mres\u001b[0m \u001b[1;33m=\u001b[0m \u001b[0mconversion\u001b[0m\u001b[1;33m.\u001b[0m\u001b[0mrpy2py\u001b[0m\u001b[1;33m(\u001b[0m\u001b[0mres\u001b[0m\u001b[1;33m)\u001b[0m\u001b[1;33m\u001b[0m\u001b[1;33m\u001b[0m\u001b[0m\n",
      "\u001b[1;32m~\\AppData\\Roaming\\Python\\Python38\\site-packages\\rpy2\\rinterface_lib\\conversion.py\u001b[0m in \u001b[0;36m_\u001b[1;34m(*args, **kwargs)\u001b[0m\n\u001b[0;32m     44\u001b[0m     \u001b[1;32mdef\u001b[0m \u001b[0m_\u001b[0m\u001b[1;33m(\u001b[0m\u001b[1;33m*\u001b[0m\u001b[0margs\u001b[0m\u001b[1;33m,\u001b[0m \u001b[1;33m**\u001b[0m\u001b[0mkwargs\u001b[0m\u001b[1;33m)\u001b[0m\u001b[1;33m:\u001b[0m\u001b[1;33m\u001b[0m\u001b[1;33m\u001b[0m\u001b[0m\n\u001b[1;32m---> 45\u001b[1;33m         \u001b[0mcdata\u001b[0m \u001b[1;33m=\u001b[0m \u001b[0mfunction\u001b[0m\u001b[1;33m(\u001b[0m\u001b[1;33m*\u001b[0m\u001b[0margs\u001b[0m\u001b[1;33m,\u001b[0m \u001b[1;33m**\u001b[0m\u001b[0mkwargs\u001b[0m\u001b[1;33m)\u001b[0m\u001b[1;33m\u001b[0m\u001b[1;33m\u001b[0m\u001b[0m\n\u001b[0m\u001b[0;32m     46\u001b[0m         \u001b[1;31m# TODO: test cdata is of the expected CType\u001b[0m\u001b[1;33m\u001b[0m\u001b[1;33m\u001b[0m\u001b[1;33m\u001b[0m\u001b[0m\n",
      "\u001b[1;32m~\\AppData\\Roaming\\Python\\Python38\\site-packages\\rpy2\\rinterface.py\u001b[0m in \u001b[0;36m__call__\u001b[1;34m(self, *args, **kwargs)\u001b[0m\n\u001b[0;32m    809\u001b[0m             \u001b[1;32mif\u001b[0m \u001b[0merror_occured\u001b[0m\u001b[1;33m[\u001b[0m\u001b[1;36m0\u001b[0m\u001b[1;33m]\u001b[0m\u001b[1;33m:\u001b[0m\u001b[1;33m\u001b[0m\u001b[1;33m\u001b[0m\u001b[0m\n\u001b[1;32m--> 810\u001b[1;33m                 \u001b[1;32mraise\u001b[0m \u001b[0membedded\u001b[0m\u001b[1;33m.\u001b[0m\u001b[0mRRuntimeError\u001b[0m\u001b[1;33m(\u001b[0m\u001b[0m_rinterface\u001b[0m\u001b[1;33m.\u001b[0m\u001b[0m_geterrmessage\u001b[0m\u001b[1;33m(\u001b[0m\u001b[1;33m)\u001b[0m\u001b[1;33m)\u001b[0m\u001b[1;33m\u001b[0m\u001b[1;33m\u001b[0m\u001b[0m\n\u001b[0m\u001b[0;32m    811\u001b[0m         \u001b[1;32mreturn\u001b[0m \u001b[0mres\u001b[0m\u001b[1;33m\u001b[0m\u001b[1;33m\u001b[0m\u001b[0m\n",
      "\u001b[1;31mRRuntimeError\u001b[0m: Error: package or namespace load failed for 'tidyverse':\n .onLoad failed in loadNamespace() for 'rlang', details:\n  call: NULL\n  error: The rlang package is not properly installed.\nThe DLL version does not correspond to the package version.\nPlease update rlang to the latest version.\nUpdating packages on Windows requires precautions:\n  <https://github.com/jennybc/what-they-forgot/issues/62>\n",
      "\nDuring handling of the above exception, another exception occurred:\n",
      "\u001b[1;31mRInterpreterError\u001b[0m                         Traceback (most recent call last)",
      "\u001b[1;32m<ipython-input-7-b637d955bd4a>\u001b[0m in \u001b[0;36m<module>\u001b[1;34m\u001b[0m\n\u001b[1;32m----> 1\u001b[1;33m \u001b[0mget_ipython\u001b[0m\u001b[1;33m(\u001b[0m\u001b[1;33m)\u001b[0m\u001b[1;33m.\u001b[0m\u001b[0mrun_cell_magic\u001b[0m\u001b[1;33m(\u001b[0m\u001b[1;34m'R'\u001b[0m\u001b[1;33m,\u001b[0m \u001b[1;34m''\u001b[0m\u001b[1;33m,\u001b[0m \u001b[1;34m'source(\"N:/.Rprofile\")\\npackages <- c(\"tidyverse\", \"data.table\", \"lme4\")\\nfor (p in packages){\\n    if (!require(p)) install.packages(p)\\n    library(p, character.only = TRUE)\\n}\\n'\u001b[0m\u001b[1;33m)\u001b[0m\u001b[1;33m\u001b[0m\u001b[1;33m\u001b[0m\u001b[0m\n\u001b[0m",
      "\u001b[1;32mC:\\Program Files\\Anaconda3\\lib\\site-packages\\IPython\\core\\interactiveshell.py\u001b[0m in \u001b[0;36mrun_cell_magic\u001b[1;34m(self, magic_name, line, cell)\u001b[0m\n\u001b[0;32m   2397\u001b[0m             \u001b[1;32mwith\u001b[0m \u001b[0mself\u001b[0m\u001b[1;33m.\u001b[0m\u001b[0mbuiltin_trap\u001b[0m\u001b[1;33m:\u001b[0m\u001b[1;33m\u001b[0m\u001b[1;33m\u001b[0m\u001b[0m\n\u001b[0;32m   2398\u001b[0m                 \u001b[0margs\u001b[0m \u001b[1;33m=\u001b[0m \u001b[1;33m(\u001b[0m\u001b[0mmagic_arg_s\u001b[0m\u001b[1;33m,\u001b[0m \u001b[0mcell\u001b[0m\u001b[1;33m)\u001b[0m\u001b[1;33m\u001b[0m\u001b[1;33m\u001b[0m\u001b[0m\n\u001b[1;32m-> 2399\u001b[1;33m                 \u001b[0mresult\u001b[0m \u001b[1;33m=\u001b[0m \u001b[0mfn\u001b[0m\u001b[1;33m(\u001b[0m\u001b[1;33m*\u001b[0m\u001b[0margs\u001b[0m\u001b[1;33m,\u001b[0m \u001b[1;33m**\u001b[0m\u001b[0mkwargs\u001b[0m\u001b[1;33m)\u001b[0m\u001b[1;33m\u001b[0m\u001b[1;33m\u001b[0m\u001b[0m\n\u001b[0m\u001b[0;32m   2400\u001b[0m             \u001b[1;32mreturn\u001b[0m \u001b[0mresult\u001b[0m\u001b[1;33m\u001b[0m\u001b[1;33m\u001b[0m\u001b[0m\n\u001b[0;32m   2401\u001b[0m \u001b[1;33m\u001b[0m\u001b[0m\n",
      "\u001b[1;32mC:\\Program Files\\Anaconda3\\lib\\site-packages\\decorator.py\u001b[0m in \u001b[0;36mfun\u001b[1;34m(*args, **kw)\u001b[0m\n\u001b[0;32m    229\u001b[0m             \u001b[1;32mif\u001b[0m \u001b[1;32mnot\u001b[0m \u001b[0mkwsyntax\u001b[0m\u001b[1;33m:\u001b[0m\u001b[1;33m\u001b[0m\u001b[1;33m\u001b[0m\u001b[0m\n\u001b[0;32m    230\u001b[0m                 \u001b[0margs\u001b[0m\u001b[1;33m,\u001b[0m \u001b[0mkw\u001b[0m \u001b[1;33m=\u001b[0m \u001b[0mfix\u001b[0m\u001b[1;33m(\u001b[0m\u001b[0margs\u001b[0m\u001b[1;33m,\u001b[0m \u001b[0mkw\u001b[0m\u001b[1;33m,\u001b[0m \u001b[0msig\u001b[0m\u001b[1;33m)\u001b[0m\u001b[1;33m\u001b[0m\u001b[1;33m\u001b[0m\u001b[0m\n\u001b[1;32m--> 231\u001b[1;33m             \u001b[1;32mreturn\u001b[0m \u001b[0mcaller\u001b[0m\u001b[1;33m(\u001b[0m\u001b[0mfunc\u001b[0m\u001b[1;33m,\u001b[0m \u001b[1;33m*\u001b[0m\u001b[1;33m(\u001b[0m\u001b[0mextras\u001b[0m \u001b[1;33m+\u001b[0m \u001b[0margs\u001b[0m\u001b[1;33m)\u001b[0m\u001b[1;33m,\u001b[0m \u001b[1;33m**\u001b[0m\u001b[0mkw\u001b[0m\u001b[1;33m)\u001b[0m\u001b[1;33m\u001b[0m\u001b[1;33m\u001b[0m\u001b[0m\n\u001b[0m\u001b[0;32m    232\u001b[0m     \u001b[0mfun\u001b[0m\u001b[1;33m.\u001b[0m\u001b[0m__name__\u001b[0m \u001b[1;33m=\u001b[0m \u001b[0mfunc\u001b[0m\u001b[1;33m.\u001b[0m\u001b[0m__name__\u001b[0m\u001b[1;33m\u001b[0m\u001b[1;33m\u001b[0m\u001b[0m\n\u001b[0;32m    233\u001b[0m     \u001b[0mfun\u001b[0m\u001b[1;33m.\u001b[0m\u001b[0m__doc__\u001b[0m \u001b[1;33m=\u001b[0m \u001b[0mfunc\u001b[0m\u001b[1;33m.\u001b[0m\u001b[0m__doc__\u001b[0m\u001b[1;33m\u001b[0m\u001b[1;33m\u001b[0m\u001b[0m\n",
      "\u001b[1;32mC:\\Program Files\\Anaconda3\\lib\\site-packages\\IPython\\core\\magic.py\u001b[0m in \u001b[0;36m<lambda>\u001b[1;34m(f, *a, **k)\u001b[0m\n\u001b[0;32m    185\u001b[0m     \u001b[1;31m# but it's overkill for just that one bit of state.\u001b[0m\u001b[1;33m\u001b[0m\u001b[1;33m\u001b[0m\u001b[1;33m\u001b[0m\u001b[0m\n\u001b[0;32m    186\u001b[0m     \u001b[1;32mdef\u001b[0m \u001b[0mmagic_deco\u001b[0m\u001b[1;33m(\u001b[0m\u001b[0marg\u001b[0m\u001b[1;33m)\u001b[0m\u001b[1;33m:\u001b[0m\u001b[1;33m\u001b[0m\u001b[1;33m\u001b[0m\u001b[0m\n\u001b[1;32m--> 187\u001b[1;33m         \u001b[0mcall\u001b[0m \u001b[1;33m=\u001b[0m \u001b[1;32mlambda\u001b[0m \u001b[0mf\u001b[0m\u001b[1;33m,\u001b[0m \u001b[1;33m*\u001b[0m\u001b[0ma\u001b[0m\u001b[1;33m,\u001b[0m \u001b[1;33m**\u001b[0m\u001b[0mk\u001b[0m\u001b[1;33m:\u001b[0m \u001b[0mf\u001b[0m\u001b[1;33m(\u001b[0m\u001b[1;33m*\u001b[0m\u001b[0ma\u001b[0m\u001b[1;33m,\u001b[0m \u001b[1;33m**\u001b[0m\u001b[0mk\u001b[0m\u001b[1;33m)\u001b[0m\u001b[1;33m\u001b[0m\u001b[1;33m\u001b[0m\u001b[0m\n\u001b[0m\u001b[0;32m    188\u001b[0m \u001b[1;33m\u001b[0m\u001b[0m\n\u001b[0;32m    189\u001b[0m         \u001b[1;32mif\u001b[0m \u001b[0mcallable\u001b[0m\u001b[1;33m(\u001b[0m\u001b[0marg\u001b[0m\u001b[1;33m)\u001b[0m\u001b[1;33m:\u001b[0m\u001b[1;33m\u001b[0m\u001b[1;33m\u001b[0m\u001b[0m\n",
      "\u001b[1;32m~\\AppData\\Roaming\\Python\\Python38\\site-packages\\rpy2\\ipython\\rmagic.py\u001b[0m in \u001b[0;36mR\u001b[1;34m(self, line, cell, local_ns)\u001b[0m\n\u001b[0;32m    793\u001b[0m             \u001b[1;32mif\u001b[0m \u001b[1;32mnot\u001b[0m \u001b[0me\u001b[0m\u001b[1;33m.\u001b[0m\u001b[0mstdout\u001b[0m\u001b[1;33m.\u001b[0m\u001b[0mendswith\u001b[0m\u001b[1;33m(\u001b[0m\u001b[0me\u001b[0m\u001b[1;33m.\u001b[0m\u001b[0merr\u001b[0m\u001b[1;33m)\u001b[0m\u001b[1;33m:\u001b[0m\u001b[1;33m\u001b[0m\u001b[1;33m\u001b[0m\u001b[0m\n\u001b[0;32m    794\u001b[0m                 \u001b[0mprint\u001b[0m\u001b[1;33m(\u001b[0m\u001b[0me\u001b[0m\u001b[1;33m.\u001b[0m\u001b[0merr\u001b[0m\u001b[1;33m)\u001b[0m\u001b[1;33m\u001b[0m\u001b[1;33m\u001b[0m\u001b[0m\n\u001b[1;32m--> 795\u001b[1;33m             \u001b[1;32mraise\u001b[0m \u001b[0me\u001b[0m\u001b[1;33m\u001b[0m\u001b[1;33m\u001b[0m\u001b[0m\n\u001b[0m\u001b[0;32m    796\u001b[0m         \u001b[1;32mfinally\u001b[0m\u001b[1;33m:\u001b[0m\u001b[1;33m\u001b[0m\u001b[1;33m\u001b[0m\u001b[0m\n\u001b[0;32m    797\u001b[0m             \u001b[1;32mif\u001b[0m \u001b[0mself\u001b[0m\u001b[1;33m.\u001b[0m\u001b[0mdevice\u001b[0m \u001b[1;32min\u001b[0m \u001b[1;33m[\u001b[0m\u001b[1;34m'png'\u001b[0m\u001b[1;33m,\u001b[0m \u001b[1;34m'svg'\u001b[0m\u001b[1;33m]\u001b[0m\u001b[1;33m:\u001b[0m\u001b[1;33m\u001b[0m\u001b[1;33m\u001b[0m\u001b[0m\n",
      "\u001b[1;32m~\\AppData\\Roaming\\Python\\Python38\\site-packages\\rpy2\\ipython\\rmagic.py\u001b[0m in \u001b[0;36mR\u001b[1;34m(self, line, cell, local_ns)\u001b[0m\n\u001b[0;32m    773\u001b[0m                     \u001b[0mreturn_output\u001b[0m \u001b[1;33m=\u001b[0m \u001b[1;32mFalse\u001b[0m\u001b[1;33m\u001b[0m\u001b[1;33m\u001b[0m\u001b[0m\n\u001b[0;32m    774\u001b[0m             \u001b[1;32melse\u001b[0m\u001b[1;33m:\u001b[0m\u001b[1;33m\u001b[0m\u001b[1;33m\u001b[0m\u001b[0m\n\u001b[1;32m--> 775\u001b[1;33m                 \u001b[0mtext_result\u001b[0m\u001b[1;33m,\u001b[0m \u001b[0mresult\u001b[0m\u001b[1;33m,\u001b[0m \u001b[0mvisible\u001b[0m \u001b[1;33m=\u001b[0m \u001b[0mself\u001b[0m\u001b[1;33m.\u001b[0m\u001b[0meval\u001b[0m\u001b[1;33m(\u001b[0m\u001b[0mcode\u001b[0m\u001b[1;33m)\u001b[0m\u001b[1;33m\u001b[0m\u001b[1;33m\u001b[0m\u001b[0m\n\u001b[0m\u001b[0;32m    776\u001b[0m                 \u001b[0mtext_output\u001b[0m \u001b[1;33m+=\u001b[0m \u001b[0mtext_result\u001b[0m\u001b[1;33m\u001b[0m\u001b[1;33m\u001b[0m\u001b[0m\n\u001b[0;32m    777\u001b[0m                 \u001b[1;32mif\u001b[0m \u001b[0mvisible\u001b[0m\u001b[1;33m:\u001b[0m\u001b[1;33m\u001b[0m\u001b[1;33m\u001b[0m\u001b[0m\n",
      "\u001b[1;32m~\\AppData\\Roaming\\Python\\Python38\\site-packages\\rpy2\\ipython\\rmagic.py\u001b[0m in \u001b[0;36meval\u001b[1;34m(self, code)\u001b[0m\n\u001b[0;32m    282\u001b[0m                 \u001b[1;31m# Otherwise next return seems to have copy of error.\u001b[0m\u001b[1;33m\u001b[0m\u001b[1;33m\u001b[0m\u001b[1;33m\u001b[0m\u001b[0m\n\u001b[0;32m    283\u001b[0m                 \u001b[0mwarning_or_other_msg\u001b[0m \u001b[1;33m=\u001b[0m \u001b[0mself\u001b[0m\u001b[1;33m.\u001b[0m\u001b[0mflush\u001b[0m\u001b[1;33m(\u001b[0m\u001b[1;33m)\u001b[0m\u001b[1;33m\u001b[0m\u001b[1;33m\u001b[0m\u001b[0m\n\u001b[1;32m--> 284\u001b[1;33m                 raise RInterpreterError(code, str(exception),\n\u001b[0m\u001b[0;32m    285\u001b[0m                                         warning_or_other_msg)\n\u001b[0;32m    286\u001b[0m             \u001b[0mtext_output\u001b[0m \u001b[1;33m=\u001b[0m \u001b[0mself\u001b[0m\u001b[1;33m.\u001b[0m\u001b[0mflush\u001b[0m\u001b[1;33m(\u001b[0m\u001b[1;33m)\u001b[0m\u001b[1;33m\u001b[0m\u001b[1;33m\u001b[0m\u001b[0m\n",
      "\u001b[1;31mRInterpreterError\u001b[0m: Failed to parse and evaluate line 'source(\"N:/.Rprofile\")\\npackages <- c(\"tidyverse\", \"data.table\", \"lme4\")\\nfor (p in packages){\\n    if (!require(p)) install.packages(p)\\n    library(p, character.only = TRUE)\\n}\\n'.\nR error message: \"Error: package or namespace load failed for 'tidyverse':\\n .onLoad failed in loadNamespace() for 'rlang', details:\\n  call: NULL\\n  error: The rlang package is not properly installed.\\nThe DLL version does not correspond to the package version.\\nPlease update rlang to the latest version.\\nUpdating packages on Windows requires precautions:\\n  <https://github.com/jennybc/what-they-forgot/issues/62>\""
     ]
    }
   ],
   "source": [
    "%%R\n",
    "source(\"N:/.Rprofile\")\n",
    "packages <- c(\"tidyverse\", \"data.table\", \"lme4\")\n",
    "for (p in packages){\n",
    "    if (!require(p)) install.packages(p)\n",
    "    library(p, character.only = TRUE)\n",
    "}"
   ]
  },
  {
   "cell_type": "markdown",
   "id": "2f555145-6570-45d8-ad0e-dccdeef4c7c0",
   "metadata": {},
   "source": [
    "## Data exploration"
   ]
  },
  {
   "cell_type": "markdown",
   "id": "a098fa2b-a070-4245-bf72-be9c839c1883",
   "metadata": {},
   "source": [
    "### Read in data"
   ]
  },
  {
   "cell_type": "code",
   "execution_count": 2,
   "id": "b9e97b87-312d-411a-acfa-641d2cd3cc44",
   "metadata": {},
   "outputs": [],
   "source": [
    "%%stata\n",
    "use ../data/icu_data, clear"
   ]
  },
  {
   "cell_type": "markdown",
   "id": "c6fe39b2-c615-45db-b83c-39c9b7a04fc9",
   "metadata": {},
   "source": [
    "### Flag first ICULOS  per patient "
   ]
  },
  {
   "cell_type": "code",
   "execution_count": 3,
   "id": "51988971-f2bf-4426-8cc0-8ac908b05ef0",
   "metadata": {},
   "outputs": [],
   "source": [
    "%%stata\n",
    "egen patid_fl = tag(patid)"
   ]
  },
  {
   "cell_type": "markdown",
   "id": "d50297fe-92cf-434f-b5cf-991449bb50d1",
   "metadata": {},
   "source": [
    "### What's in the dataset"
   ]
  },
  {
   "cell_type": "code",
   "execution_count": 4,
   "id": "ddf2e5df-6d9f-4028-8d83-19ff41da0ff9",
   "metadata": {},
   "outputs": [
    {
     "name": "stdout",
     "output_type": "stream",
     "text": [
      "\n",
      "Contains data from ../data/icu_data.dta\n",
      " Observations:     1,201,974                  \n",
      "    Variables:            14                  3 Mar 2020 08:58\n",
      "-------------------------------------------------------------------------------\n",
      "Variable      Storage   Display    Value\n",
      "    name         type    format    label      Variable label\n",
      "-------------------------------------------------------------------------------\n",
      "age             float   %9.0g                 Age (years)\n",
      "gender          byte    %8.0g                 Gender\n",
      "iculos          int     %8.0g                 ICU length-of-stay (hours since\n",
      "                                                ICU admission)\n",
      "hr              double  %10.0g                Heart rate (beats per minute)\n",
      "temp            double  %10.0g                Temperature (Deg C)\n",
      "sbp             double  %10.0g                Systolic BP (mm Hg)\n",
      "dbp             double  %10.0g                Diastolic BP (mm Hg)\n",
      "resp            double  %10.0g                Respiration rate (breaths per\n",
      "                                                minute)\n",
      "o2sat           double  %10.0g                Pulse oximetry (%)\n",
      "map             double  %10.0g                Mean arterial pressure (mm Hg)\n",
      "sepsislabel     byte    %8.0g                 SepsisLabel\n",
      "hospid          str1    %9s                   Hospital ID\n",
      "patid           float   %9.0g                 Patient ID\n",
      "patid_fl        byte    %8.0g                 tag(patid)\n",
      "-------------------------------------------------------------------------------\n",
      "Sorted by: \n",
      "     Note: Dataset has changed since last saved.\n"
     ]
    }
   ],
   "source": [
    "%%stata\n",
    "describe "
   ]
  },
  {
   "cell_type": "markdown",
   "id": "104a78d9-9a00-403a-b130-09d800084a91",
   "metadata": {},
   "source": [
    "### Distributions of each of the variables"
   ]
  },
  {
   "cell_type": "code",
   "execution_count": 5,
   "id": "b65aa49c-01d5-49ea-a36a-990c505073aa",
   "metadata": {},
   "outputs": [
    {
     "name": "stdout",
     "output_type": "stream",
     "text": [
      "\n",
      "-------------------------------------------------------------------------------\n",
      "age                                                                 Age (years)\n",
      "-------------------------------------------------------------------------------\n",
      "\n",
      "                  Type: Numeric (float)\n",
      "\n",
      "                 Range: [14,100]                      Units: .01\n",
      "         Unique values: 5,242                     Missing .: 0/1,201,974\n",
      "\n",
      "                  Mean: 61.7395\n",
      "             Std. dev.: 16.5491\n",
      "\n",
      "           Percentiles:     10%       25%       50%       75%       90%\n",
      "                           38.6        51     63.44        74        82\n",
      "\n",
      "-------------------------------------------------------------------------------\n",
      "gender                                                                   Gender\n",
      "-------------------------------------------------------------------------------\n",
      "\n",
      "                  Type: Numeric (byte)\n",
      "\n",
      "                 Range: [0,1]                         Units: 1\n",
      "         Unique values: 2                         Missing .: 0/1,201,974\n",
      "\n",
      "            Tabulation: Freq.  Value\n",
      "                      542,654  0\n",
      "                      659,320  1\n",
      "\n",
      "-------------------------------------------------------------------------------\n",
      "iculos                           ICU length-of-stay (hours since ICU admission)\n",
      "-------------------------------------------------------------------------------\n",
      "\n",
      "                  Type: Numeric (int)\n",
      "\n",
      "                 Range: [1,336]                       Units: 1\n",
      "         Unique values: 336                       Missing .: 0/1,201,974\n",
      "\n",
      "                  Mean: 26.1779\n",
      "             Std. dev.: 27.9166\n",
      "\n",
      "           Percentiles:     10%       25%       50%       75%       90%\n",
      "                              4        10        21        34        46\n",
      "\n",
      "-------------------------------------------------------------------------------\n",
      "hr                                                Heart rate (beats per minute)\n",
      "-------------------------------------------------------------------------------\n",
      "\n",
      "                  Type: Numeric (double)\n",
      "\n",
      "                 Range: [20,223]                      Units: .01\n",
      "         Unique values: 333                       Missing .: 131,167/1,201,974\n",
      "\n",
      "                  Mean: 84.2342\n",
      "             Std. dev.: 17.5981\n",
      "\n",
      "           Percentiles:     10%       25%       50%       75%       90%\n",
      "                             62        72        83      95.5     107.5\n",
      "\n",
      "-------------------------------------------------------------------------------\n",
      "temp                                                        Temperature (Deg C)\n",
      "-------------------------------------------------------------------------------\n",
      "\n",
      "                  Type: Numeric (double)\n",
      "\n",
      "                 Range: [20.9,50]                     Units: .01\n",
      "         Unique values: 581                       Missing .: 822,321/1,201,974\n",
      "\n",
      "                  Mean: 36.9422\n",
      "             Std. dev.: .758753\n",
      "\n",
      "           Percentiles:     10%       25%       50%       75%       90%\n",
      "                          36.06      36.5      36.9      37.4      37.9\n",
      "\n",
      "-------------------------------------------------------------------------------\n",
      "sbp                                                         Systolic BP (mm Hg)\n",
      "-------------------------------------------------------------------------------\n",
      "\n",
      "                  Type: Numeric (double)\n",
      "\n",
      "                 Range: [20,298]                      Units: .01\n",
      "         Unique values: 926                       Missing .: 176,747/1,201,974\n",
      "\n",
      "                  Mean: 124.674\n",
      "             Std. dev.: 23.6316\n",
      "\n",
      "           Percentiles:     10%       25%       50%       75%       90%\n",
      "                             96       107       122       140       156\n",
      "\n",
      "-------------------------------------------------------------------------------\n",
      "dbp                                                        Diastolic BP (mm Hg)\n",
      "-------------------------------------------------------------------------------\n",
      "\n",
      "                  Type: Numeric (double)\n",
      "\n",
      "                 Range: [20,300]                      Units: .01\n",
      "         Unique values: 653                       Missing .: 373,178/1,201,974\n",
      "\n",
      "                  Mean: 64.9574\n",
      "             Std. dev.: 14.1525\n",
      "\n",
      "           Percentiles:     10%       25%       50%       75%       90%\n",
      "                             49        55        63        73        83\n",
      "\n",
      "-------------------------------------------------------------------------------\n",
      "resp                                      Respiration rate (breaths per minute)\n",
      "-------------------------------------------------------------------------------\n",
      "\n",
      "                  Type: Numeric (double)\n",
      "\n",
      "                 Range: [1,100]                       Units: .01\n",
      "         Unique values: 223                       Missing .: 205,042/1,201,974\n",
      "\n",
      "                  Mean: 18.7334\n",
      "             Std. dev.: 5.02104\n",
      "\n",
      "           Percentiles:     10%       25%       50%       75%       90%\n",
      "                             13        16        18        21        25\n",
      "\n",
      "-------------------------------------------------------------------------------\n",
      "o2sat                                                        Pulse oximetry (%)\n",
      "-------------------------------------------------------------------------------\n",
      "\n",
      "                  Type: Numeric (double)\n",
      "\n",
      "                 Range: [20,100]                      Units: .1\n",
      "         Unique values: 145                       Missing .: 170,544/1,201,974\n",
      "\n",
      "                  Mean: 97.1494\n",
      "             Std. dev.: 2.97941\n",
      "\n",
      "           Percentiles:     10%       25%       50%       75%       90%\n",
      "                             94        96        98        99       100\n",
      "\n",
      "-------------------------------------------------------------------------------\n",
      "map                                              Mean arterial pressure (mm Hg)\n",
      "-------------------------------------------------------------------------------\n",
      "\n",
      "                  Type: Numeric (double)\n",
      "\n",
      "                 Range: [20,300]                      Units: .01\n",
      "         Unique values: 905                       Missing .: 163,352/1,201,974\n",
      "\n",
      "                  Mean: 83.5463\n",
      "             Std. dev.: 16.5921\n",
      "\n",
      "           Percentiles:     10%       25%       50%       75%       90%\n",
      "                           64.5        72        82        93       105\n",
      "\n",
      "-------------------------------------------------------------------------------\n",
      "sepsislabel                                                         SepsisLabel\n",
      "-------------------------------------------------------------------------------\n",
      "\n",
      "                  Type: Numeric (byte)\n",
      "\n",
      "                 Range: [0,1]                         Units: 1\n",
      "         Unique values: 2                         Missing .: 0/1,201,974\n",
      "\n",
      "            Tabulation: Freq.  Value\n",
      "                    1,200,317  0\n",
      "                        1,657  1\n",
      "\n",
      "-------------------------------------------------------------------------------\n",
      "hospid                                                              Hospital ID\n",
      "-------------------------------------------------------------------------------\n",
      "\n",
      "                  Type: String (str1)\n",
      "\n",
      "         Unique values: 2                         Missing \"\": 0/1,201,974\n",
      "\n",
      "            Tabulation: Freq.  Value\n",
      "                      497,292  \"A\"\n",
      "                      704,682  \"B\"\n",
      "\n",
      "-------------------------------------------------------------------------------\n",
      "patid                                                                Patient ID\n",
      "-------------------------------------------------------------------------------\n",
      "\n",
      "                  Type: Numeric (float)\n",
      "\n",
      "                 Range: [1,40336]                     Units: 1\n",
      "         Unique values: 30,925                    Missing .: 0/1,201,974\n",
      "\n",
      "                  Mean:   22012\n",
      "             Std. dev.: 11502.1\n",
      "\n",
      "           Percentiles:     10%       25%       50%       75%       90%\n",
      "                           4905     12317     23294     31822     36940\n",
      "\n",
      "-------------------------------------------------------------------------------\n",
      "patid_fl                                                             tag(patid)\n",
      "-------------------------------------------------------------------------------\n",
      "\n",
      "                  Type: Numeric (byte)\n",
      "\n",
      "                 Range: [0,1]                         Units: 1\n",
      "         Unique values: 2                         Missing .: 0/1,201,974\n",
      "\n",
      "            Tabulation: Freq.  Value\n",
      "                    1,171,049  0\n",
      "                       30,925  1\n"
     ]
    }
   ],
   "source": [
    "%%stata\n",
    "codebook"
   ]
  },
  {
   "cell_type": "markdown",
   "id": "fcaf3fb6-5d13-436d-917b-5ed65ae5b992",
   "metadata": {},
   "source": [
    "### Better visualisation of variables"
   ]
  },
  {
   "cell_type": "code",
   "execution_count": 6,
   "id": "b943a3dd-fb67-4c4d-ba91-4f660cd55185",
   "metadata": {},
   "outputs": [
    {
     "name": "stdout",
     "output_type": "stream",
     "text": [
      "\n",
      "age:  Age (years)                               Number of observations\n",
      "-----------------                      ---------------------------------------\n",
      "                                             Total      Integers   Nonintegers\n",
      "|              #             Negative            -             -             -\n",
      "|          #   #             Zero                -             -             -\n",
      "|          #   #             Positive    1,201,974       710,366       491,608\n",
      "|          #   #                       -----------   -----------   -----------\n",
      "|      #   #   #             Total       1,201,974       710,366       491,608\n",
      "|  .   #   #   #   #         Missing             -\n",
      "+----------------------                -----------\n",
      "14                  100                  1,201,974\n",
      "(More than 99 unique values)\n",
      "\n",
      "gender:  Gender                                 Number of observations\n",
      "---------------                        ---------------------------------------\n",
      "                                             Total      Integers   Nonintegers\n",
      "|      #                     Negative            -             -             -\n",
      "|      #                     Zero          542,654       542,654             -\n",
      "|  #   #                     Positive      659,320       659,320             -\n",
      "|  #   #                               -----------   -----------   -----------\n",
      "|  #   #                     Total       1,201,974     1,201,974             -\n",
      "|  #   #                     Missing             -\n",
      "+----------------------                -----------\n",
      "0                     1                  1,201,974\n",
      "   (2 unique values)\n",
      "\n",
      "iculos:  ICU length-of-stay (hours since        Number of observations\n",
      "-------------------------------------------------------------------------------\n",
      "                                             Total      Integers   Nonintegers\n",
      "|  #                         Negative            -             -             -\n",
      "|  #                         Zero                -             -             -\n",
      "|  #                         Positive    1,201,974     1,201,974             -\n",
      "|  #                                   -----------   -----------   -----------\n",
      "|  #                         Total       1,201,974     1,201,974             -\n",
      "|  #   .   .   .   .         Missing             -\n",
      "+----------------------                -----------\n",
      "1                   336                  1,201,974\n",
      "(More than 99 unique values)\n",
      "\n",
      "hr:  Heart rate (beats per minute)              Number of observations\n",
      "----------------------------------     ---------------------------------------\n",
      "                                             Total      Integers   Nonintegers\n",
      "|      #                     Negative            -             -             -\n",
      "|      #                     Zero                -             -             -\n",
      "|      #                     Positive    1,070,807     1,007,942        62,865\n",
      "|      #                               -----------   -----------   -----------\n",
      "|      #                     Total       1,070,807     1,007,942        62,865\n",
      "|  .   #   #   .   .         Missing       131,167\n",
      "+----------------------                -----------\n",
      "20                  223                  1,201,974\n",
      "(More than 99 unique values)\n",
      "\n",
      "temp:  Temperature (Deg C)                      Number of observations\n",
      "--------------------------             ---------------------------------------\n",
      "                                             Total      Integers   Nonintegers\n",
      "|          #                 Negative            -             -             -\n",
      "|          #                 Zero                -             -             -\n",
      "|          #                 Positive      379,653        38,069       341,584\n",
      "|          #                           -----------   -----------   -----------\n",
      "|          #                 Total         379,653        38,069       341,584\n",
      "|  .   .   #   .   .         Missing       822,321\n",
      "+----------------------                -----------\n",
      "20.9                 50                  1,201,974\n",
      "(More than 99 unique values)\n",
      "\n",
      "sbp:  Systolic BP (mm Hg)                       Number of observations\n",
      "-------------------------              ---------------------------------------\n",
      "                                             Total      Integers   Nonintegers\n",
      "|      #                     Negative            -             -             -\n",
      "|      #                     Zero                -             -             -\n",
      "|      #                     Positive    1,025,227       958,406        66,821\n",
      "|      #   #                           -----------   -----------   -----------\n",
      "|      #   #                 Total       1,025,227       958,406        66,821\n",
      "|  .   #   #   .   .         Missing       176,747\n",
      "+----------------------                -----------\n",
      "20                  298                  1,201,974\n",
      "(More than 99 unique values)\n",
      "\n",
      "dbp:  Diastolic BP (mm Hg)                      Number of observations\n",
      "--------------------------             ---------------------------------------\n",
      "                                             Total      Integers   Nonintegers\n",
      "|  #                         Negative            -             -             -\n",
      "|  #                         Zero                -             -             -\n",
      "|  #                         Positive      828,796       778,982        49,814\n",
      "|  #                                   -----------   -----------   -----------\n",
      "|  #                         Total         828,796       778,982        49,814\n",
      "|  #   #   .   .   .         Missing       373,178\n",
      "+----------------------                -----------\n",
      "20                  300                  1,201,974\n",
      "(More than 99 unique values)\n",
      "\n",
      "resp:  Respiration rate (breaths per min        Number of observations\n",
      "-------------------------------------------------------------------------------\n",
      "                                             Total      Integers   Nonintegers\n",
      "|  #                         Negative            -             -             -\n",
      "|  #                         Zero                -             -             -\n",
      "|  #                         Positive      996,932       940,490        56,442\n",
      "|  #                                   -----------   -----------   -----------\n",
      "|  #   #                     Total         996,932       940,490        56,442\n",
      "|  #   #   .   .   .         Missing       205,042\n",
      "+----------------------                -----------\n",
      "1                   100                  1,201,974\n",
      "(More than 99 unique values)\n",
      "\n",
      "o2sat:  Pulse oximetry (%)                      Number of observations\n",
      "--------------------------             ---------------------------------------\n",
      "                                             Total      Integers   Nonintegers\n",
      "|                  #         Negative            -             -             -\n",
      "|                  #         Zero                -             -             -\n",
      "|                  #         Positive    1,031,430       971,400        60,030\n",
      "|                  #                   -----------   -----------   -----------\n",
      "|                  #         Total       1,031,430       971,400        60,030\n",
      "|  .   .   .   .   #         Missing       170,544\n",
      "+----------------------                -----------\n",
      "20                  100                  1,201,974\n",
      "(More than 99 unique values)\n",
      "\n",
      "map:  Mean arterial pressure (mm Hg)            Number of observations\n",
      "------------------------------------   ---------------------------------------\n",
      "                                             Total      Integers   Nonintegers\n",
      "|      #                     Negative            -             -             -\n",
      "|      #                     Zero                -             -             -\n",
      "|      #                     Positive    1,038,622       894,718       143,904\n",
      "|  #   #                               -----------   -----------   -----------\n",
      "|  #   #                     Total       1,038,622       894,718       143,904\n",
      "|  #   #   .   .   .         Missing       163,352\n",
      "+----------------------                -----------\n",
      "20                  300                  1,201,974\n",
      "(More than 99 unique values)\n",
      "\n",
      "sepsislabel:  SepsisLabel                       Number of observations\n",
      "-------------------------              ---------------------------------------\n",
      "                                             Total      Integers   Nonintegers\n",
      "|  #                         Negative            -             -             -\n",
      "|  #                         Zero        1,200,317     1,200,317             -\n",
      "|  #                         Positive        1,657         1,657             -\n",
      "|  #                                   -----------   -----------   -----------\n",
      "|  #                         Total       1,201,974     1,201,974             -\n",
      "|  #   .                     Missing             -\n",
      "+----------------------                -----------\n",
      "0                     1                  1,201,974\n",
      "   (2 unique values)\n",
      "\n",
      "hospid:  Hospital ID                            Number of observations\n",
      "--------------------                   ---------------------------------------\n",
      "                                             Total      Integers   Nonintegers\n",
      "|                            Negative            -             -             -\n",
      "|                            Zero                -             -             -\n",
      "|                            Positive            -             -             -\n",
      "|                                      -----------   -----------   -----------\n",
      "|                            Total               -             -             -\n",
      "|                            Missing     1,201,974\n",
      "+----------------------                -----------\n",
      ".             -9.0e+307                  1,201,974\n",
      "   (0 unique value)\n",
      "\n",
      "patid:  Patient ID                              Number of observations\n",
      "------------------                     ---------------------------------------\n",
      "                                             Total      Integers   Nonintegers\n",
      "|                  #         Negative            -             -             -\n",
      "|          #   #   #         Zero                -             -             -\n",
      "|  #   #   #   #   #         Positive    1,201,974     1,201,974             -\n",
      "|  #   #   #   #   #                   -----------   -----------   -----------\n",
      "|  #   #   #   #   #         Total       1,201,974     1,201,974             -\n",
      "|  #   #   #   #   #         Missing             -\n",
      "+----------------------                -----------\n",
      "1                 40336                  1,201,974\n",
      "(More than 99 unique values)\n",
      "\n",
      "patid_fl:  tag(patid)                           Number of observations\n",
      "---------------------                  ---------------------------------------\n",
      "                                             Total      Integers   Nonintegers\n",
      "|  #                         Negative            -             -             -\n",
      "|  #                         Zero        1,171,049     1,171,049             -\n",
      "|  #                         Positive       30,925        30,925             -\n",
      "|  #                                   -----------   -----------   -----------\n",
      "|  #                         Total       1,201,974     1,201,974             -\n",
      "|  #   .                     Missing             -\n",
      "+----------------------                -----------\n",
      "0                     1                  1,201,974\n",
      "   (2 unique values)\n"
     ]
    }
   ],
   "source": [
    "%%stata\n",
    "inspect"
   ]
  },
  {
   "cell_type": "markdown",
   "id": "9f9a1afd-6d3b-4d97-86bf-b36d8fc266c3",
   "metadata": {},
   "source": [
    "### Complete case indicator"
   ]
  },
  {
   "cell_type": "code",
   "execution_count": 7,
   "id": "783eb18b-3b10-436f-bd71-e147ecd5956b",
   "metadata": {},
   "outputs": [
    {
     "name": "stdout",
     "output_type": "stream",
     "text": [
      "\n",
      ". egen nvar_miss = rowmiss(o2sat hr temp sbp map resp)\n",
      "\n",
      ". gen cc_fl = (nvar_miss == 0)\n",
      "\n",
      ". \n"
     ]
    }
   ],
   "source": [
    "%%stata\n",
    "egen nvar_miss = rowmiss(o2sat hr temp sbp map resp)\n",
    "gen cc_fl = (nvar_miss == 0)"
   ]
  },
  {
   "cell_type": "code",
   "execution_count": 8,
   "id": "cd1d58d4-4f4d-444a-9435-f6b89c95d63a",
   "metadata": {},
   "outputs": [
    {
     "name": "stdout",
     "output_type": "stream",
     "text": [
      "\n",
      "      cc_fl |      Freq.     Percent        Cum.\n",
      "------------+-----------------------------------\n",
      "          0 |    865,835       72.03       72.03\n",
      "          1 |    336,139       27.97      100.00\n",
      "------------+-----------------------------------\n",
      "      Total |  1,201,974      100.00\n"
     ]
    }
   ],
   "source": [
    "%%stata\n",
    "tab cc_fl"
   ]
  },
  {
   "cell_type": "markdown",
   "id": "3cdad659-bfe9-4b89-88c5-e1bfd2af39be",
   "metadata": {},
   "source": [
    "Only 23.9% of records have no missing vital signs"
   ]
  },
  {
   "cell_type": "markdown",
   "id": "3b7bbacf-da6c-4501-9224-fa3b55458c1b",
   "metadata": {},
   "source": [
    "## Outcome exploration"
   ]
  },
  {
   "cell_type": "markdown",
   "id": "25ed15f8-280a-4d09-bfc2-27130d6968d1",
   "metadata": {},
   "source": [
    "### How many people were diagnosed with sepsis?"
   ]
  },
  {
   "cell_type": "code",
   "execution_count": 9,
   "id": "e59d456e-baf1-4533-a528-cfc425080904",
   "metadata": {},
   "outputs": [
    {
     "name": "stdout",
     "output_type": "stream",
     "text": [
      "\n",
      "SepsisLabel |      Freq.     Percent        Cum.\n",
      "------------+-----------------------------------\n",
      "          0 |  1,200,317       99.86       99.86\n",
      "          1 |      1,657        0.14      100.00\n",
      "------------+-----------------------------------\n",
      "      Total |  1,201,974      100.00\n"
     ]
    }
   ],
   "source": [
    "%%stata\n",
    "tab sepsislabel"
   ]
  },
  {
   "cell_type": "markdown",
   "id": "f5e9ad77-a72d-465e-a14e-cf5795897ab1",
   "metadata": {},
   "source": [
    "### When do people get sepsis in ICU?"
   ]
  },
  {
   "cell_type": "code",
   "execution_count": 10,
   "id": "f9213d7f-83df-4ae0-91b9-8de872addcee",
   "metadata": {},
   "outputs": [
    {
     "name": "stdout",
     "output_type": "stream",
     "text": [
      "\n",
      ". gen time_to_sepsis_temp = iculos if sepsislabel == 1\n",
      "(1,200,317 missing values generated)\n",
      "\n",
      ". egen time_to_sepsis = min(time_to_sepsis_temp), by(patid)\n",
      "(1,093,032 missing values generated)\n",
      "\n",
      ". \n"
     ]
    }
   ],
   "source": [
    "%%stata\n",
    "gen time_to_sepsis_temp = iculos if sepsislabel == 1\n",
    "egen time_to_sepsis = min(time_to_sepsis_temp), by(patid)"
   ]
  },
  {
   "cell_type": "code",
   "execution_count": 11,
   "id": "3dee77cf-c952-4165-ab7b-92112d28fd43",
   "metadata": {},
   "outputs": [
    {
     "name": "stdout",
     "output_type": "stream",
     "text": [
      "\n",
      "                       time_to_sepsis\n",
      "-------------------------------------------------------------\n",
      "      Percentiles      Smallest\n",
      " 1%            7              7\n",
      " 5%            9              7\n",
      "10%           11              7       Obs               1,657\n",
      "25%           20              7       Sum of wgt.       1,657\n",
      "\n",
      "50%           45                      Mean           65.74653\n",
      "                        Largest       Std. dev.      60.86024\n",
      "75%           91            325\n",
      "90%          152            327       Variance       3703.968\n",
      "95%          200            331       Skewness       1.598774\n",
      "99%          267            331       Kurtosis       5.555945\n"
     ]
    }
   ],
   "source": [
    "%%stata\n",
    "su time_to_sepsis if patid_fl == 1, d"
   ]
  },
  {
   "cell_type": "markdown",
   "id": "d6e8f2f0-facb-4b67-8967-98748536f47d",
   "metadata": {},
   "source": [
    "* min: 7 hours\n",
    "* max: 331 hours (13.8 days)\n",
    "* median: 45 hours"
   ]
  },
  {
   "cell_type": "code",
   "execution_count": 12,
   "id": "830d249c-4b2a-4604-bd24-955671d001ba",
   "metadata": {},
   "outputs": [
    {
     "name": "stdout",
     "output_type": "stream",
     "text": [
      "(bin=32, start=7, width=10.125)\n"
     ]
    },
    {
     "data": {
      "image/svg+xml": [
       "<svg xmlns=\"http://www.w3.org/2000/svg\" xmlns:xlink=\"http://www.w3.org/1999/xlink\" version=\"1.1\" width=\"528px\" height=\"384px\" viewBox=\"0 0 3960 2880\">\n",
       "\t<desc>Stata Graph - Graph</desc>\n",
       "\t<rect x=\"0\" y=\"0\" width=\"3960\" height=\"2880\" style=\"fill:#EAF2F3;stroke:none\"/>\n",
       "\t<rect x=\"0.00\" y=\"0.00\" width=\"3959.88\" height=\"2880.00\" style=\"fill:#EAF2F3\"/>\n",
       "\t<rect x=\"2.88\" y=\"2.88\" width=\"3954.12\" height=\"2874.24\" style=\"fill:none;stroke:#EAF2F3;stroke-width:5.76\"/>\n",
       "\t<rect x=\"390.80\" y=\"100.86\" width=\"3468.22\" height=\"2388.33\" style=\"fill:#FFFFFF\"/>\n",
       "\t<rect x=\"393.68\" y=\"103.74\" width=\"3462.46\" height=\"2382.57\" style=\"fill:none;stroke:#FFFFFF;stroke-width:5.76\"/>\n",
       "\t<line x1=\"390.80\" y1=\"2489.19\" x2=\"3859.02\" y2=\"2489.19\" style=\"stroke:#EAF2F3;stroke-width:8.64\"/>\n",
       "\t<line x1=\"390.80\" y1=\"1944.42\" x2=\"3859.02\" y2=\"1944.42\" style=\"stroke:#EAF2F3;stroke-width:8.64\"/>\n",
       "\t<line x1=\"390.80\" y1=\"1399.66\" x2=\"3859.02\" y2=\"1399.66\" style=\"stroke:#EAF2F3;stroke-width:8.64\"/>\n",
       "\t<line x1=\"390.80\" y1=\"854.77\" x2=\"3859.02\" y2=\"854.77\" style=\"stroke:#EAF2F3;stroke-width:8.64\"/>\n",
       "\t<line x1=\"390.80\" y1=\"310.00\" x2=\"3859.02\" y2=\"310.00\" style=\"stroke:#EAF2F3;stroke-width:8.64\"/>\n",
       "\t<rect x=\"512.57\" y=\"164.22\" width=\"84.64\" height=\"2324.96\" style=\"fill:#CAC27E\"/>\n",
       "\t<rect x=\"516.89\" y=\"168.54\" width=\"76.01\" height=\"2316.32\" style=\"fill:none;stroke:#D7D29E;stroke-width:8.64\"/>\n",
       "\t<rect x=\"597.22\" y=\"1196.82\" width=\"84.52\" height=\"1292.36\" style=\"fill:#CAC27E\"/>\n",
       "\t<rect x=\"601.54\" y=\"1201.14\" width=\"75.88\" height=\"1283.72\" style=\"fill:none;stroke:#D7D29E;stroke-width:8.64\"/>\n",
       "\t<rect x=\"681.74\" y=\"1443.59\" width=\"84.64\" height=\"1045.60\" style=\"fill:#CAC27E\"/>\n",
       "\t<rect x=\"686.06\" y=\"1447.91\" width=\"76.01\" height=\"1036.96\" style=\"fill:none;stroke:#D7D29E;stroke-width:8.64\"/>\n",
       "\t<rect x=\"766.38\" y=\"1540.98\" width=\"84.52\" height=\"948.20\" style=\"fill:#CAC27E\"/>\n",
       "\t<rect x=\"770.70\" y=\"1545.30\" width=\"75.88\" height=\"939.56\" style=\"fill:none;stroke:#D7D29E;stroke-width:8.64\"/>\n",
       "\t<rect x=\"850.91\" y=\"1774.75\" width=\"84.64\" height=\"714.43\" style=\"fill:#CAC27E\"/>\n",
       "\t<rect x=\"855.22\" y=\"1779.07\" width=\"76.01\" height=\"705.79\" style=\"fill:none;stroke:#D7D29E;stroke-width:8.64\"/>\n",
       "\t<rect x=\"935.55\" y=\"1917.69\" width=\"84.52\" height=\"571.50\" style=\"fill:#CAC27E\"/>\n",
       "\t<rect x=\"939.87\" y=\"1922.01\" width=\"75.88\" height=\"562.86\" style=\"fill:none;stroke:#D7D29E;stroke-width:8.64\"/>\n",
       "\t<rect x=\"1020.07\" y=\"1989.10\" width=\"84.64\" height=\"500.09\" style=\"fill:#CAC27E\"/>\n",
       "\t<rect x=\"1024.39\" y=\"1993.42\" width=\"76.01\" height=\"491.45\" style=\"fill:none;stroke:#D7D29E;stroke-width:8.64\"/>\n",
       "\t<rect x=\"1104.72\" y=\"1989.10\" width=\"84.52\" height=\"500.09\" style=\"fill:#CAC27E\"/>\n",
       "\t<rect x=\"1109.04\" y=\"1993.42\" width=\"75.88\" height=\"491.45\" style=\"fill:none;stroke:#D7D29E;stroke-width:8.64\"/>\n",
       "\t<rect x=\"1189.24\" y=\"2021.64\" width=\"84.64\" height=\"467.54\" style=\"fill:#CAC27E\"/>\n",
       "\t<rect x=\"1193.56\" y=\"2025.96\" width=\"76.01\" height=\"458.90\" style=\"fill:none;stroke:#D7D29E;stroke-width:8.64\"/>\n",
       "\t<rect x=\"1273.88\" y=\"2125.47\" width=\"84.52\" height=\"363.71\" style=\"fill:#CAC27E\"/>\n",
       "\t<rect x=\"1278.20\" y=\"2129.79\" width=\"75.88\" height=\"355.07\" style=\"fill:none;stroke:#D7D29E;stroke-width:8.64\"/>\n",
       "\t<rect x=\"1358.40\" y=\"2197.00\" width=\"84.64\" height=\"292.18\" style=\"fill:#CAC27E\"/>\n",
       "\t<rect x=\"1362.72\" y=\"2201.32\" width=\"76.01\" height=\"283.54\" style=\"fill:none;stroke:#D7D29E;stroke-width:8.64\"/>\n",
       "\t<rect x=\"1443.05\" y=\"2216.43\" width=\"84.52\" height=\"272.75\" style=\"fill:#CAC27E\"/>\n",
       "\t<rect x=\"1447.37\" y=\"2220.75\" width=\"75.88\" height=\"264.11\" style=\"fill:none;stroke:#D7D29E;stroke-width:8.64\"/>\n",
       "\t<rect x=\"1527.57\" y=\"2242.42\" width=\"84.64\" height=\"246.77\" style=\"fill:#CAC27E\"/>\n",
       "\t<rect x=\"1531.89\" y=\"2246.74\" width=\"76.01\" height=\"238.13\" style=\"fill:none;stroke:#D7D29E;stroke-width:8.64\"/>\n",
       "\t<rect x=\"1612.22\" y=\"2365.80\" width=\"84.52\" height=\"123.38\" style=\"fill:#CAC27E\"/>\n",
       "\t<rect x=\"1616.53\" y=\"2370.12\" width=\"75.88\" height=\"114.74\" style=\"fill:none;stroke:#D7D29E;stroke-width:8.64\"/>\n",
       "\t<rect x=\"1696.74\" y=\"2333.38\" width=\"84.64\" height=\"155.81\" style=\"fill:#CAC27E\"/>\n",
       "\t<rect x=\"1701.06\" y=\"2337.70\" width=\"76.01\" height=\"147.17\" style=\"fill:none;stroke:#D7D29E;stroke-width:8.64\"/>\n",
       "\t<rect x=\"1781.38\" y=\"2385.36\" width=\"84.52\" height=\"103.83\" style=\"fill:#CAC27E\"/>\n",
       "\t<rect x=\"1785.70\" y=\"2389.68\" width=\"75.88\" height=\"95.19\" style=\"fill:none;stroke:#D7D29E;stroke-width:8.64\"/>\n",
       "\t<rect x=\"1865.90\" y=\"2411.22\" width=\"84.64\" height=\"77.96\" style=\"fill:#CAC27E\"/>\n",
       "\t<rect x=\"1870.22\" y=\"2415.54\" width=\"76.01\" height=\"69.33\" style=\"fill:none;stroke:#D7D29E;stroke-width:8.64\"/>\n",
       "\t<rect x=\"1950.55\" y=\"2398.23\" width=\"84.52\" height=\"90.96\" style=\"fill:#CAC27E\"/>\n",
       "\t<rect x=\"1954.87\" y=\"2402.55\" width=\"75.88\" height=\"82.32\" style=\"fill:none;stroke:#D7D29E;stroke-width:8.64\"/>\n",
       "\t<rect x=\"2035.07\" y=\"2365.80\" width=\"84.64\" height=\"123.38\" style=\"fill:#CAC27E\"/>\n",
       "\t<rect x=\"2039.39\" y=\"2370.12\" width=\"76.01\" height=\"114.74\" style=\"fill:none;stroke:#D7D29E;stroke-width:8.64\"/>\n",
       "\t<rect x=\"2119.71\" y=\"2378.80\" width=\"84.52\" height=\"110.39\" style=\"fill:#CAC27E\"/>\n",
       "\t<rect x=\"2124.03\" y=\"2383.12\" width=\"75.88\" height=\"101.75\" style=\"fill:none;stroke:#D7D29E;stroke-width:8.64\"/>\n",
       "\t<rect x=\"2204.24\" y=\"2385.36\" width=\"84.64\" height=\"103.83\" style=\"fill:#CAC27E\"/>\n",
       "\t<rect x=\"2208.55\" y=\"2389.68\" width=\"76.01\" height=\"95.19\" style=\"fill:none;stroke:#D7D29E;stroke-width:8.64\"/>\n",
       "\t<rect x=\"2288.88\" y=\"2450.20\" width=\"84.52\" height=\"38.98\" style=\"fill:#CAC27E\"/>\n",
       "\t<rect x=\"2293.20\" y=\"2454.52\" width=\"75.88\" height=\"30.34\" style=\"fill:none;stroke:#D7D29E;stroke-width:8.64\"/>\n",
       "\t<rect x=\"2373.40\" y=\"2443.77\" width=\"84.64\" height=\"45.42\" style=\"fill:#CAC27E\"/>\n",
       "\t<rect x=\"2377.72\" y=\"2448.09\" width=\"76.01\" height=\"36.78\" style=\"fill:none;stroke:#D7D29E;stroke-width:8.64\"/>\n",
       "\t<rect x=\"2458.05\" y=\"2424.21\" width=\"84.52\" height=\"64.97\" style=\"fill:#CAC27E\"/>\n",
       "\t<rect x=\"2462.37\" y=\"2428.53\" width=\"75.88\" height=\"56.33\" style=\"fill:none;stroke:#D7D29E;stroke-width:8.64\"/>\n",
       "\t<rect x=\"2542.57\" y=\"2450.20\" width=\"84.64\" height=\"38.98\" style=\"fill:#CAC27E\"/>\n",
       "\t<rect x=\"2546.89\" y=\"2454.52\" width=\"76.01\" height=\"30.34\" style=\"fill:none;stroke:#D7D29E;stroke-width:8.64\"/>\n",
       "\t<rect x=\"2627.21\" y=\"2450.20\" width=\"84.52\" height=\"38.98\" style=\"fill:#CAC27E\"/>\n",
       "\t<rect x=\"2631.53\" y=\"2454.52\" width=\"75.88\" height=\"30.34\" style=\"fill:none;stroke:#D7D29E;stroke-width:8.64\"/>\n",
       "\t<rect x=\"2711.73\" y=\"2482.75\" width=\"84.64\" height=\"6.44\" style=\"fill:#CAC27E\"/>\n",
       "\t<rect x=\"2716.05\" y=\"2484.87\" width=\"76.01\" height=\"2.20\" style=\"fill:none;stroke:#D7D29E;stroke-width:8.64\"/>\n",
       "\t<rect x=\"2796.38\" y=\"2469.76\" width=\"84.64\" height=\"19.43\" style=\"fill:#CAC27E\"/>\n",
       "\t<rect x=\"2800.70\" y=\"2474.08\" width=\"76.01\" height=\"10.79\" style=\"fill:none;stroke:#D7D29E;stroke-width:8.64\"/>\n",
       "\t<rect x=\"2881.02\" y=\"2482.75\" width=\"84.52\" height=\"6.44\" style=\"fill:#CAC27E\"/>\n",
       "\t<rect x=\"2885.34\" y=\"2484.87\" width=\"75.88\" height=\"2.20\" style=\"fill:none;stroke:#D7D29E;stroke-width:8.64\"/>\n",
       "\t<rect x=\"2965.55\" y=\"2463.20\" width=\"84.64\" height=\"25.99\" style=\"fill:#CAC27E\"/>\n",
       "\t<rect x=\"2969.86\" y=\"2467.52\" width=\"76.01\" height=\"17.35\" style=\"fill:none;stroke:#D7D29E;stroke-width:8.64\"/>\n",
       "\t<rect x=\"3050.19\" y=\"2476.19\" width=\"84.52\" height=\"12.99\" style=\"fill:#CAC27E\"/>\n",
       "\t<rect x=\"3054.51\" y=\"2480.51\" width=\"75.88\" height=\"4.35\" style=\"fill:none;stroke:#D7D29E;stroke-width:8.64\"/>\n",
       "\t<rect x=\"3134.71\" y=\"2456.76\" width=\"84.64\" height=\"32.42\" style=\"fill:#CAC27E\"/>\n",
       "\t<rect x=\"3139.03\" y=\"2461.08\" width=\"76.01\" height=\"23.78\" style=\"fill:none;stroke:#D7D29E;stroke-width:8.64\"/>\n",
       "\t<line x1=\"390.80\" y1=\"2489.19\" x2=\"390.80\" y2=\"100.86\" style=\"stroke:#000000;stroke-width:5.76\"/>\n",
       "\t<line x1=\"390.80\" y1=\"2489.19\" x2=\"350.83\" y2=\"2489.19\" style=\"stroke:#000000;stroke-width:5.76\"/>\n",
       "\t<text x=\"300.72\" y=\"2489.19\" style=\"font-family:'Helvetica';font-size:99.99px;fill:#000000\" transform=\"rotate(-90 300.72,2489.19)\" text-anchor=\"middle\">0</text>\n",
       "\t<line x1=\"390.80\" y1=\"1944.42\" x2=\"350.83\" y2=\"1944.42\" style=\"stroke:#000000;stroke-width:5.76\"/>\n",
       "\t<text x=\"300.72\" y=\"1944.42\" style=\"font-family:'Helvetica';font-size:99.99px;fill:#000000\" transform=\"rotate(-90 300.72,1944.42)\" text-anchor=\"middle\">.005</text>\n",
       "\t<line x1=\"390.80\" y1=\"1399.66\" x2=\"350.83\" y2=\"1399.66\" style=\"stroke:#000000;stroke-width:5.76\"/>\n",
       "\t<text x=\"300.72\" y=\"1399.66\" style=\"font-family:'Helvetica';font-size:99.99px;fill:#000000\" transform=\"rotate(-90 300.72,1399.66)\" text-anchor=\"middle\">.01</text>\n",
       "\t<line x1=\"390.80\" y1=\"854.77\" x2=\"350.83\" y2=\"854.77\" style=\"stroke:#000000;stroke-width:5.76\"/>\n",
       "\t<text x=\"300.72\" y=\"854.77\" style=\"font-family:'Helvetica';font-size:99.99px;fill:#000000\" transform=\"rotate(-90 300.72,854.77)\" text-anchor=\"middle\">.015</text>\n",
       "\t<line x1=\"390.80\" y1=\"310.00\" x2=\"350.83\" y2=\"310.00\" style=\"stroke:#000000;stroke-width:5.76\"/>\n",
       "\t<text x=\"300.72\" y=\"310.00\" style=\"font-family:'Helvetica';font-size:99.99px;fill:#000000\" transform=\"rotate(-90 300.72,310.00)\" text-anchor=\"middle\">.02</text>\n",
       "\t<text x=\"190.71\" y=\"1294.96\" style=\"font-family:'Helvetica';font-size:99.99px;fill:#000000\" transform=\"rotate(-90 190.71,1294.96)\" text-anchor=\"middle\">Density</text>\n",
       "\t<line x1=\"390.80\" y1=\"2489.19\" x2=\"3859.02\" y2=\"2489.19\" style=\"stroke:#000000;stroke-width:5.76\"/>\n",
       "\t<line x1=\"454.16\" y1=\"2489.19\" x2=\"454.16\" y2=\"2529.16\" style=\"stroke:#000000;stroke-width:5.76\"/>\n",
       "\t<text x=\"454.16\" y=\"2619.14\" style=\"font-family:'Helvetica';font-size:99.99px;fill:#000000\" text-anchor=\"middle\">0</text>\n",
       "\t<line x1=\"1289.47\" y1=\"2489.19\" x2=\"1289.47\" y2=\"2529.16\" style=\"stroke:#000000;stroke-width:5.76\"/>\n",
       "\t<text x=\"1289.47\" y=\"2619.14\" style=\"font-family:'Helvetica';font-size:99.99px;fill:#000000\" text-anchor=\"middle\">100</text>\n",
       "\t<line x1=\"2124.91\" y1=\"2489.19\" x2=\"2124.91\" y2=\"2529.16\" style=\"stroke:#000000;stroke-width:5.76\"/>\n",
       "\t<text x=\"2124.91\" y=\"2619.14\" style=\"font-family:'Helvetica';font-size:99.99px;fill:#000000\" text-anchor=\"middle\">200</text>\n",
       "\t<line x1=\"2960.35\" y1=\"2489.19\" x2=\"2960.35\" y2=\"2529.16\" style=\"stroke:#000000;stroke-width:5.76\"/>\n",
       "\t<text x=\"2960.35\" y=\"2619.14\" style=\"font-family:'Helvetica';font-size:99.99px;fill:#000000\" text-anchor=\"middle\">300</text>\n",
       "\t<line x1=\"3795.66\" y1=\"2489.19\" x2=\"3795.66\" y2=\"2529.16\" style=\"stroke:#000000;stroke-width:5.76\"/>\n",
       "\t<text x=\"3795.66\" y=\"2619.14\" style=\"font-family:'Helvetica';font-size:99.99px;fill:#000000\" text-anchor=\"middle\">400</text>\n",
       "\t<text x=\"2124.91\" y=\"2729.16\" style=\"font-family:'Helvetica';font-size:99.99px;fill:#000000\" text-anchor=\"middle\">time_to_sepsis</text>\n",
       "</svg>"
      ],
      "text/plain": [
       "<IPython.core.display.SVG object>"
      ]
     },
     "metadata": {},
     "output_type": "display_data"
    }
   ],
   "source": [
    "%%stata\n",
    "hist time_to_sepsis if patid_fl == 1"
   ]
  },
  {
   "cell_type": "markdown",
   "id": "6403c9b4-f85c-4a2a-bd7f-ccd0846bb1d3",
   "metadata": {},
   "source": [
    "### Create indicator for patient who get sepsis:"
   ]
  },
  {
   "cell_type": "code",
   "execution_count": 13,
   "id": "cb9092ae-d581-4e92-bc78-1754c641895d",
   "metadata": {},
   "outputs": [],
   "source": [
    "%%stata\n",
    "egen any_sepsis = max(sepsislabel), by(patid)"
   ]
  },
  {
   "cell_type": "markdown",
   "id": "aebfced7-9a00-4d0e-90e7-5af81fbc177d",
   "metadata": {},
   "source": [
    "### Drop ICULOS ≥ 6"
   ]
  },
  {
   "cell_type": "code",
   "execution_count": 14,
   "id": "a689221c-7b9a-48e1-ac3a-dccae2361585",
   "metadata": {},
   "outputs": [
    {
     "name": "stdout",
     "output_type": "stream",
     "text": [
      "(1,047,349 observations deleted)\n"
     ]
    }
   ],
   "source": [
    "%%stata\n",
    "drop if iculos >= 6"
   ]
  },
  {
   "cell_type": "markdown",
   "id": "6f02f252-7a92-4cb2-93c2-d37751e940a2",
   "metadata": {},
   "source": [
    "## Imputing explanatory measures"
   ]
  },
  {
   "cell_type": "markdown",
   "id": "d3c29566-63e9-43ad-9fc3-b4decf5695ff",
   "metadata": {},
   "source": [
    "### Mean Imputation"
   ]
  },
  {
   "cell_type": "code",
   "execution_count": 15,
   "id": "6e30bf3e-f2ac-49a1-96af-fd749654f45d",
   "metadata": {},
   "outputs": [
    {
     "name": "stdout",
     "output_type": "stream",
     "text": [
      "\n",
      ". foreach var of varlist o2sat hr temp sbp dbp map resp {\n",
      "  2. \n",
      ". egen `var'_mean = mean(`var') if iculos <= 5, by(patid)\n",
      "  3. gen `var'_imp1 = `var'\n",
      "  4. replace `var'_imp1 = `var'_mean if `var'_imp1 ==. & iculos <= 5\n",
      "  5. \n",
      ". }\n",
      "(2,065 missing values generated)\n",
      "(41,765 missing values generated)\n",
      "(39,700 real changes made)\n",
      "(1,310 missing values generated)\n",
      "(39,034 missing values generated)\n",
      "(37,724 real changes made)\n",
      "(27,860 missing values generated)\n",
      "(113,581 missing values generated)\n",
      "(85,721 real changes made)\n",
      "(4,055 missing values generated)\n",
      "(42,929 missing values generated)\n",
      "(38,874 real changes made)\n",
      "(34,855 missing values generated)\n",
      "(67,216 missing values generated)\n",
      "(32,361 real changes made)\n",
      "(3,170 missing values generated)\n",
      "(41,707 missing values generated)\n",
      "(38,537 real changes made)\n",
      "(5,140 missing values generated)\n",
      "(47,247 missing values generated)\n",
      "(42,107 real changes made)\n",
      "\n",
      ". \n"
     ]
    }
   ],
   "source": [
    "%%stata\n",
    "foreach var of varlist o2sat hr temp sbp dbp map resp {\n",
    "\n",
    "egen `var'_mean = mean(`var') if iculos <= 5, by(patid)\n",
    "gen `var'_imp1 = `var'\n",
    "replace `var'_imp1 = `var'_mean if `var'_imp1 ==. & iculos <= 5\n",
    "\n",
    "}"
   ]
  },
  {
   "cell_type": "markdown",
   "id": "3d02feb2-6d20-4024-a72f-98f8e8248260",
   "metadata": {},
   "source": [
    "### First observation carried backwards"
   ]
  },
  {
   "cell_type": "code",
   "execution_count": 16,
   "id": "f7d0a63c-788e-4cc9-b7bf-972a153a62e3",
   "metadata": {},
   "outputs": [
    {
     "name": "stdout",
     "output_type": "stream",
     "text": [
      "\n",
      ". foreach var of varlist o2sat hr temp sbp dbp map resp {\n",
      "  2. \n",
      ". gen `var'_imp2 = `var'\n",
      "  3. by patid (iculos), sort: replace `var'_imp2 = `var'[_n+1] if `var' == .\n",
      "  4. by patid (iculos), sort: replace `var'_imp2 = `var'[_n+2] if `var' == . & \n",
      "> `var'[_n+1] == . \n",
      "  5. by patid (iculos), sort: replace `var'_imp2 = `var'[_n+3] if `var' == . & \n",
      "> `var'[_n+1] == . & `var'[_n+2] == .\n",
      "  6. by patid (iculos), sort: replace `var'_imp2 = `var'[_n+4] if `var' == . & \n",
      "> `var'[_n+1] == . & `var'[_n+2] == . & `var'[_n+3] == .\n",
      "  7. }\n",
      "(41,765 missing values generated)\n",
      "(32764 real changes made)\n",
      "(2296 real changes made)\n",
      "(773 real changes made)\n",
      "(301 real changes made)\n",
      "(39,034 missing values generated)\n",
      "(32558 real changes made)\n",
      "(1700 real changes made)\n",
      "(545 real changes made)\n",
      "(226 real changes made)\n",
      "(113,581 missing values generated)\n",
      "(27896 real changes made)\n",
      "(16913 real changes made)\n",
      "(10468 real changes made)\n",
      "(4976 real changes made)\n",
      "(42,929 missing values generated)\n",
      "(32398 real changes made)\n",
      "(2237 real changes made)\n",
      "(706 real changes made)\n",
      "(281 real changes made)\n",
      "(67,216 missing values generated)\n",
      "(25592 real changes made)\n",
      "(2307 real changes made)\n",
      "(916 real changes made)\n",
      "(385 real changes made)\n",
      "(41,707 missing values generated)\n",
      "(32667 real changes made)\n",
      "(2054 real changes made)\n",
      "(540 real changes made)\n",
      "(204 real changes made)\n",
      "(47,247 missing values generated)\n",
      "(32729 real changes made)\n",
      "(3169 real changes made)\n",
      "(1119 real changes made)\n",
      "(441 real changes made)\n",
      "\n",
      ". \n"
     ]
    }
   ],
   "source": [
    "%%stata\n",
    "foreach var of varlist o2sat hr temp sbp dbp map resp {\n",
    "\n",
    "gen `var'_imp2 = `var'\n",
    "by patid (iculos), sort: replace `var'_imp2 = `var'[_n+1] if `var' == .\n",
    "by patid (iculos), sort: replace `var'_imp2 = `var'[_n+2] if `var' == . & `var'[_n+1] == . \n",
    "by patid (iculos), sort: replace `var'_imp2 = `var'[_n+3] if `var' == . & `var'[_n+1] == . & `var'[_n+2] == .\n",
    "by patid (iculos), sort: replace `var'_imp2 = `var'[_n+4] if `var' == . & `var'[_n+1] == . & `var'[_n+2] == . & `var'[_n+3] == .\n",
    "}"
   ]
  },
  {
   "cell_type": "markdown",
   "id": "471a77e2-fef1-4bf2-80b3-1c89ead762ed",
   "metadata": {},
   "source": [
    "### Inspect missingness again among imputed variables"
   ]
  },
  {
   "cell_type": "code",
   "execution_count": 17,
   "id": "a4cf10e9-26d3-4afe-ac8b-86a3f479e3f5",
   "metadata": {},
   "outputs": [
    {
     "name": "stdout",
     "output_type": "stream",
     "text": [
      "\n",
      ". egen nvar_miss_imp1 = rowmiss(o2sat_imp1 hr_imp1 temp_imp1 sbp_imp1 map_imp1 \n",
      "> resp_imp1)\n",
      "\n",
      ". gen cc_fl_imp1 = (nvar_miss_imp1 == 0)\n",
      "\n",
      ". \n"
     ]
    }
   ],
   "source": [
    "%%stata\n",
    "egen nvar_miss_imp1 = rowmiss(o2sat_imp1 hr_imp1 temp_imp1 sbp_imp1 map_imp1 resp_imp1)\n",
    "gen cc_fl_imp1 = (nvar_miss_imp1 == 0)"
   ]
  },
  {
   "cell_type": "code",
   "execution_count": 18,
   "id": "6e2751a9-0904-4c03-a18f-dcd9fc8d4c53",
   "metadata": {},
   "outputs": [
    {
     "name": "stdout",
     "output_type": "stream",
     "text": [
      "\n",
      " cc_fl_imp1 |      Freq.     Percent        Cum.\n",
      "------------+-----------------------------------\n",
      "          0 |      6,897       22.30       22.30\n",
      "          1 |     24,028       77.70      100.00\n",
      "------------+-----------------------------------\n",
      "      Total |     30,925      100.00\n"
     ]
    }
   ],
   "source": [
    "%%stata\n",
    "tab cc_fl_imp1 if iculos == 1"
   ]
  },
  {
   "cell_type": "code",
   "execution_count": 19,
   "id": "88035495-70f2-4428-9b07-0deeef13ed73",
   "metadata": {},
   "outputs": [
    {
     "name": "stdout",
     "output_type": "stream",
     "text": [
      "\n",
      ". egen nvar_miss_imp2 = rowmiss(o2sat_imp2 hr_imp2 temp_imp2 sbp_imp2 map_imp2 \n",
      "> resp_imp2)\n",
      "\n",
      ". gen cc_fl_imp2 = (nvar_miss_imp2 == 0)\n",
      "\n",
      ". \n"
     ]
    }
   ],
   "source": [
    "%%stata\n",
    "egen nvar_miss_imp2 = rowmiss(o2sat_imp2 hr_imp2 temp_imp2 sbp_imp2 map_imp2 resp_imp2)\n",
    "gen cc_fl_imp2 = (nvar_miss_imp2 == 0)"
   ]
  },
  {
   "cell_type": "code",
   "execution_count": 20,
   "id": "a2a0c79c-b6f2-4939-b1df-1400b5b18d71",
   "metadata": {},
   "outputs": [
    {
     "name": "stdout",
     "output_type": "stream",
     "text": [
      "\n",
      " cc_fl_imp2 |      Freq.     Percent        Cum.\n",
      "------------+-----------------------------------\n",
      "          0 |      6,897       22.30       22.30\n",
      "          1 |     24,028       77.70      100.00\n",
      "------------+-----------------------------------\n",
      "      Total |     30,925      100.00\n"
     ]
    }
   ],
   "source": [
    "%%stata\n",
    "tab cc_fl_imp2 if iculos == 1"
   ]
  },
  {
   "cell_type": "markdown",
   "id": "7da842f1-cca1-41cc-be5d-d7a5cc68fcba",
   "metadata": {},
   "source": [
    "77% of rows non-missing for each imputation method"
   ]
  },
  {
   "cell_type": "markdown",
   "id": "9a0f4ae5-b582-4c23-b615-81bb9e63c085",
   "metadata": {},
   "source": [
    "## Modelling"
   ]
  },
  {
   "cell_type": "markdown",
   "id": "7e8e1383-17b4-4e2f-be91-91f73f306c2c",
   "metadata": {},
   "source": [
    "### Dummy indicators for hospital:"
   ]
  },
  {
   "cell_type": "code",
   "execution_count": 21,
   "id": "23dc183c-b101-4ad6-8f21-925277797e57",
   "metadata": {},
   "outputs": [],
   "source": [
    "%%stata\n",
    "qui ta hospid, gen(h_)"
   ]
  },
  {
   "cell_type": "markdown",
   "id": "ecbca084-d673-4f27-9483-86024e1beac5",
   "metadata": {},
   "source": [
    "can use these to include hospital as a fixed-effect (i.e. create intercepts specific each hospital)\n",
    "We cannot include hospital as a random-effect as there are too few hospitals (n = 2)"
   ]
  },
  {
   "cell_type": "markdown",
   "id": "7a04a02d-3751-4a7c-bd84-a43c58f1ee54",
   "metadata": {},
   "source": [
    "### Mean imputation"
   ]
  },
  {
   "cell_type": "code",
   "execution_count": 22,
   "id": "1da0ec48-77ef-4536-8377-ed2b78c9ec99",
   "metadata": {},
   "outputs": [
    {
     "name": "stdout",
     "output_type": "stream",
     "text": [
      "\n",
      ". glm any_sepsis age i.gender o2sat_imp1 hr_imp1 temp_imp1 ///\n",
      ">     sbp_imp1 map_imp1 resp_imp1 h_* if iculos == 1, ///\n",
      ">         f(binomial) l(logit) eform nocons \n",
      "\n",
      "Iteration 0:   log likelihood =  -5153.728  \n",
      "Iteration 1:   log likelihood = -4666.1855  \n",
      "Iteration 2:   log likelihood = -4660.7151  \n",
      "Iteration 3:   log likelihood = -4660.7019  \n",
      "Iteration 4:   log likelihood = -4660.7019  \n",
      "\n",
      "Generalized linear models                         Number of obs   =     24,028\n",
      "Optimization     : ML                             Residual df     =     24,018\n",
      "                                                  Scale parameter =          1\n",
      "Deviance         =  9321.403872                   (1/df) Deviance =   .3881008\n",
      "Pearson          =  24067.04487                   (1/df) Pearson  =   1.002042\n",
      "\n",
      "Variance function: V(u) = u*(1-u)                 [Bernoulli]\n",
      "Link function    : g(u) = ln(u/(1-u))             [Logit]\n",
      "\n",
      "                                                  AIC             =   .3887716\n",
      "Log likelihood   = -4660.701936                   BIC             =  -232947.6\n",
      "\n",
      "------------------------------------------------------------------------------\n",
      "             |                 OIM\n",
      "  any_sepsis | Odds ratio   std. err.      z    P>|z|     [95% conf. interval]\n",
      "-------------+----------------------------------------------------------------\n",
      "         age |   1.001539   .0018761     0.82   0.412     .9978689    1.005223\n",
      "    1.gender |   1.199998    .072528     3.02   0.003     1.065942    1.350912\n",
      "  o2sat_imp1 |   1.014293   .0116994     1.23   0.219       .99162    1.037485\n",
      "     hr_imp1 |   1.011688    .001856     6.33   0.000     1.008057    1.015332\n",
      "   temp_imp1 |   1.007845   .0409001     0.19   0.847     .9307876    1.091282\n",
      "    sbp_imp1 |   1.002924   .0025617     1.14   0.253     .9979156    1.007957\n",
      "    map_imp1 |   .9834032   .0037638    -4.37   0.000      .976054    .9908078\n",
      "   resp_imp1 |   1.051651   .0066237     8.00   0.000     1.038748    1.064713\n",
      "         h_1 |   .0041008   .0077053    -2.93   0.003     .0001032    .1630202\n",
      "         h_2 |   .0026748   .0050206    -3.16   0.002     .0000675    .1059197\n",
      "------------------------------------------------------------------------------\n",
      "\n",
      ". \n"
     ]
    }
   ],
   "source": [
    "%%stata\n",
    "glm any_sepsis age i.gender o2sat_imp1 hr_imp1 temp_imp1 ///\n",
    "    sbp_imp1 map_imp1 resp_imp1 h_* if iculos == 1, ///\n",
    "\tf(binomial) l(logit) eform nocons "
   ]
  },
  {
   "cell_type": "markdown",
   "id": "10fa04f5-4223-41f9-8d93-2583a99c418b",
   "metadata": {},
   "source": [
    "#### First observation carried backwards"
   ]
  },
  {
   "cell_type": "code",
   "execution_count": 23,
   "id": "b1596fc2-6417-41ac-ac9a-a5000a8c775c",
   "metadata": {},
   "outputs": [
    {
     "name": "stdout",
     "output_type": "stream",
     "text": [
      "\n",
      ". glm any_sepsis age i.gender o2sat_imp2 hr_imp2 temp_imp2 ///\n",
      ">     sbp_imp2 map_imp2 resp_imp2 h_* if iculos == 1, ///\n",
      ">         f(binomial) l(logit) eform nocons\n",
      "\n",
      "Iteration 0:   log likelihood = -5157.6504  \n",
      "Iteration 1:   log likelihood = -4675.2941  \n",
      "Iteration 2:   log likelihood = -4669.9801  \n",
      "Iteration 3:   log likelihood =  -4669.968  \n",
      "Iteration 4:   log likelihood =  -4669.968  \n",
      "\n",
      "Generalized linear models                         Number of obs   =     24,028\n",
      "Optimization     : ML                             Residual df     =     24,018\n",
      "                                                  Scale parameter =          1\n",
      "Deviance         =  9339.936077                   (1/df) Deviance =   .3888723\n",
      "Pearson          =  23968.24797                   (1/df) Pearson  =   .9979286\n",
      "\n",
      "Variance function: V(u) = u*(1-u)                 [Bernoulli]\n",
      "Link function    : g(u) = ln(u/(1-u))             [Logit]\n",
      "\n",
      "                                                  AIC             =   .3895429\n",
      "Log likelihood   = -4669.968038                   BIC             =    -232929\n",
      "\n",
      "------------------------------------------------------------------------------\n",
      "             |                 OIM\n",
      "  any_sepsis | Odds ratio   std. err.      z    P>|z|     [95% conf. interval]\n",
      "-------------+----------------------------------------------------------------\n",
      "         age |   1.002013   .0018614     1.08   0.279     .9983715    1.005668\n",
      "    1.gender |   1.196948    .072237     2.98   0.003     1.063419    1.347243\n",
      "  o2sat_imp2 |   .9965014   .0086822    -0.40   0.687      .979629    1.013664\n",
      "     hr_imp2 |   1.011157   .0016878     6.65   0.000     1.007855    1.014471\n",
      "   temp_imp2 |   1.037102   .0396564     0.95   0.341     .9622185    1.117814\n",
      "    sbp_imp2 |   1.001067   .0021664     0.49   0.622     .9968301    1.005322\n",
      "    map_imp2 |    .987956   .0031389    -3.81   0.000     .9818231    .9941272\n",
      "   resp_imp2 |   1.034666   .0053817     6.55   0.000     1.024171    1.045267\n",
      "         h_1 |   .0097567   .0161203    -2.80   0.005     .0003828    .2487049\n",
      "         h_2 |   .0062195   .0102539    -3.08   0.002     .0002457    .1574373\n",
      "------------------------------------------------------------------------------\n",
      "\n",
      ". \n"
     ]
    }
   ],
   "source": [
    "%%stata\n",
    "glm any_sepsis age i.gender o2sat_imp2 hr_imp2 temp_imp2 ///\n",
    "    sbp_imp2 map_imp2 resp_imp2 h_* if iculos == 1, ///\n",
    "\tf(binomial) l(logit) eform nocons"
   ]
  },
  {
   "cell_type": "markdown",
   "id": "c8dd10e8-90aa-427b-b5a9-dbe7fb2d8331",
   "metadata": {},
   "source": [
    "### Higher respiration rate among those with sepsis?"
   ]
  },
  {
   "cell_type": "code",
   "execution_count": 24,
   "id": "93211cc6-26fe-46ab-9843-aeb4f085d5da",
   "metadata": {},
   "outputs": [
    {
     "name": "stdout",
     "output_type": "stream",
     "text": [
      "\n",
      "-------------------------------------------------------------------------------\n",
      "-> any_sepsis = 0\n",
      "\n",
      "    Variable |        Obs        Mean    Std. dev.       Min        Max\n",
      "-------------+---------------------------------------------------------\n",
      "   resp_imp1 |      4,446    18.18915    4.825059          1         70\n",
      "\n",
      "-------------------------------------------------------------------------------\n",
      "-> any_sepsis = 1\n",
      "\n",
      "    Variable |        Obs        Mean    Std. dev.       Min        Max\n",
      "-------------+---------------------------------------------------------\n",
      "   resp_imp1 |        289    19.58059    6.056709          2       47.5\n",
      "\n"
     ]
    }
   ],
   "source": [
    "%%stata\n",
    "bysort any_sepsis: su resp_imp1 if patid_fl == 1"
   ]
  },
  {
   "cell_type": "code",
   "execution_count": 25,
   "id": "f0c61e8a-4140-46fe-bbe2-e59dc6ac4f3e",
   "metadata": {},
   "outputs": [
    {
     "name": "stdout",
     "output_type": "stream",
     "text": [
      "\n",
      "-------------------------------------------------------------------------------\n",
      "-> any_sepsis = 0\n",
      "\n",
      "    Variable |        Obs        Mean    Std. dev.       Min        Max\n",
      "-------------+---------------------------------------------------------\n",
      "   resp_imp2 |      4,291    18.19226    4.945245          1         70\n",
      "\n",
      "-------------------------------------------------------------------------------\n",
      "-> any_sepsis = 1\n",
      "\n",
      "    Variable |        Obs        Mean    Std. dev.       Min        Max\n",
      "-------------+---------------------------------------------------------\n",
      "   resp_imp2 |        282    19.52128    5.957104          2       47.5\n",
      "\n"
     ]
    }
   ],
   "source": [
    "%%stata\n",
    "bysort any_sepsis: su resp_imp2 if patid_fl == 1"
   ]
  }
 ],
 "metadata": {
  "kernelspec": {
   "display_name": "Python 3",
   "language": "python",
   "name": "python3"
  },
  "language_info": {
   "codemirror_mode": {
    "name": "ipython",
    "version": 3
   },
   "file_extension": ".py",
   "mimetype": "text/x-python",
   "name": "python",
   "nbconvert_exporter": "python",
   "pygments_lexer": "ipython3",
   "version": "3.8.8"
  },
  "toc-autonumbering": false
 },
 "nbformat": 4,
 "nbformat_minor": 5
}
