{
 "cells": [
  {
   "cell_type": "markdown",
   "id": "850658ef-f6ee-4458-86d9-753fa05f4f80",
   "metadata": {},
   "source": [
    "## Configure R and Stata in Jupyter with Python kernel"
   ]
  },
  {
   "cell_type": "code",
   "execution_count": null,
   "id": "d9327a0c-2054-475a-b9de-4294a91502fa",
   "metadata": {},
   "outputs": [],
   "source": [
    "# Configure system PATH\n",
    "from pathlib import Path\n",
    "import sys, os\n",
    "R_HOME = Path('path/to/R')\n",
    "%set_env R_HOME={str(R_HOME)}\n",
    "%set_env PATH={str(R_HOME / 'bin/x64')};{os.environ['PATH']}\n",
    "    \n",
    "STATA_SYSDIR = Path('path/to/Stata')     "
   ]
  },
  {
   "cell_type": "code",
   "execution_count": null,
   "id": "605df9ed-c662-4a16-aabc-ddc42b86c69f",
   "metadata": {},
   "outputs": [],
   "source": [
    "# Install & configure Stata via pystata & stata_setup\n",
    "# !python -m pip install stata_setup\n",
    "import stata_setup\n",
    "stata_setup.config(STATA_SYSDIR, 'mp')"
   ]
  },
  {
   "cell_type": "code",
   "execution_count": null,
   "id": "f22013e2-6583-474e-9966-628875b11807",
   "metadata": {},
   "outputs": [],
   "source": [
    "# Install & configure R via rpy2\n",
    "# !python -m pip install rpy2==3.5.1\n",
    "%load_ext rpy2.ipython"
   ]
  },
  {
   "cell_type": "code",
   "execution_count": 6,
   "id": "9c2b2550-87ca-49cf-9415-9967a22e0aaa",
   "metadata": {},
   "outputs": [
    {
     "name": "stdout",
     "output_type": "stream",
     "text": [
      "This is Python\n",
      "This is R\n",
      "This is Stata\n"
     ]
    }
   ],
   "source": [
    "# test\n",
    "print('This is Python')\n",
    "%R cat('This is R\\n')\n",
    "%stata display \"This is Stata\""
   ]
  }
 ],
 "metadata": {
  "kernelspec": {
   "display_name": "Python 3",
   "language": "python",
   "name": "python3"
  },
  "language_info": {
   "codemirror_mode": {
    "name": "ipython",
    "version": 3
   },
   "file_extension": ".py",
   "mimetype": "text/x-python",
   "name": "python",
   "nbconvert_exporter": "python",
   "pygments_lexer": "ipython3",
   "version": "3.8.8"
  }
 },
 "nbformat": 4,
 "nbformat_minor": 5
}
