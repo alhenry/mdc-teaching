{
 "cells": [
  {
   "cell_type": "markdown",
   "metadata": {},
   "source": [
    "## Configure R and Stata in Jupyter with Python kernel"
   ]
  },
  {
   "cell_type": "code",
   "execution_count": 1,
   "metadata": {},
   "outputs": [],
   "source": [
    "# Configure system PATH\n",
    "from pathlib import Path\n",
    "import sys, os\n",
    "# R_HOME = Path('path/to/R')\n",
    "# %set_env R_HOME={str(R_HOME)}\n",
    "# %set_env PATH={str(R_HOME / 'bin/x64')};{os.environ['PATH']}\n",
    "    \n",
    "STATA_SYSDIR = Path('/Applications/Stata/')     "
   ]
  },
  {
   "cell_type": "code",
   "execution_count": 2,
   "metadata": {},
   "outputs": [
    {
     "name": "stdout",
     "output_type": "stream",
     "text": [
      "Collecting stata_setup\n",
      "  Downloading stata_setup-0.1.2.tar.gz (2.3 kB)\n",
      "Requirement already satisfied: numpy in /Users/alberthenry/anaconda3/lib/python3.7/site-packages (from stata_setup) (1.18.5)\n",
      "Requirement already satisfied: pandas in /Users/alberthenry/anaconda3/lib/python3.7/site-packages (from stata_setup) (1.0.5)\n",
      "Requirement already satisfied: ipython in /Users/alberthenry/anaconda3/lib/python3.7/site-packages (from stata_setup) (7.16.1)\n",
      "Requirement already satisfied: python-dateutil>=2.6.1 in /Users/alberthenry/anaconda3/lib/python3.7/site-packages (from pandas->stata_setup) (2.8.1)\n",
      "Requirement already satisfied: pytz>=2017.2 in /Users/alberthenry/anaconda3/lib/python3.7/site-packages (from pandas->stata_setup) (2020.1)\n",
      "Requirement already satisfied: setuptools>=18.5 in /Users/alberthenry/anaconda3/lib/python3.7/site-packages (from ipython->stata_setup) (49.2.0.post20200712)\n",
      "Requirement already satisfied: traitlets>=4.2 in /Users/alberthenry/anaconda3/lib/python3.7/site-packages (from ipython->stata_setup) (4.3.3)\n",
      "Requirement already satisfied: pexpect; sys_platform != \"win32\" in /Users/alberthenry/anaconda3/lib/python3.7/site-packages (from ipython->stata_setup) (4.8.0)\n",
      "Requirement already satisfied: pickleshare in /Users/alberthenry/anaconda3/lib/python3.7/site-packages (from ipython->stata_setup) (0.7.5)\n",
      "Requirement already satisfied: prompt-toolkit!=3.0.0,!=3.0.1,<3.1.0,>=2.0.0 in /Users/alberthenry/anaconda3/lib/python3.7/site-packages (from ipython->stata_setup) (3.0.5)\n",
      "Requirement already satisfied: pygments in /Users/alberthenry/anaconda3/lib/python3.7/site-packages (from ipython->stata_setup) (2.6.1)\n",
      "Requirement already satisfied: decorator in /Users/alberthenry/anaconda3/lib/python3.7/site-packages (from ipython->stata_setup) (4.4.2)\n",
      "Requirement already satisfied: backcall in /Users/alberthenry/anaconda3/lib/python3.7/site-packages (from ipython->stata_setup) (0.2.0)\n",
      "Requirement already satisfied: jedi>=0.10 in /Users/alberthenry/anaconda3/lib/python3.7/site-packages (from ipython->stata_setup) (0.17.1)\n",
      "Requirement already satisfied: appnope; sys_platform == \"darwin\" in /Users/alberthenry/anaconda3/lib/python3.7/site-packages (from ipython->stata_setup) (0.1.0)\n",
      "Requirement already satisfied: six>=1.5 in /Users/alberthenry/anaconda3/lib/python3.7/site-packages (from python-dateutil>=2.6.1->pandas->stata_setup) (1.15.0)\n",
      "Requirement already satisfied: ipython-genutils in /Users/alberthenry/anaconda3/lib/python3.7/site-packages (from traitlets>=4.2->ipython->stata_setup) (0.2.0)\n",
      "Requirement already satisfied: ptyprocess>=0.5 in /Users/alberthenry/anaconda3/lib/python3.7/site-packages (from pexpect; sys_platform != \"win32\"->ipython->stata_setup) (0.6.0)\n",
      "Requirement already satisfied: wcwidth in /Users/alberthenry/anaconda3/lib/python3.7/site-packages (from prompt-toolkit!=3.0.0,!=3.0.1,<3.1.0,>=2.0.0->ipython->stata_setup) (0.2.5)\n",
      "Requirement already satisfied: parso<0.8.0,>=0.7.0 in /Users/alberthenry/anaconda3/lib/python3.7/site-packages (from jedi>=0.10->ipython->stata_setup) (0.7.0)\n",
      "Building wheels for collected packages: stata-setup\n",
      "  Building wheel for stata-setup (setup.py) ... \u001b[?25ldone\n",
      "\u001b[?25h  Created wheel for stata-setup: filename=stata_setup-0.1.2-py3-none-any.whl size=2232 sha256=e4c37a5b65fa44ce13475d15d734c198906e697aaee62416893578631d3f0a26\n",
      "  Stored in directory: /Users/alberthenry/Library/Caches/pip/wheels/5d/07/7e/99509a7e881bf9401b353253df4f043b592e2e1a80f22f135a\n",
      "Successfully built stata-setup\n",
      "Installing collected packages: stata-setup\n",
      "Successfully installed stata-setup-0.1.2\n",
      "\n",
      "  ___  ____  ____  ____  ____ ©\n",
      " /__    /   ____/   /   ____/      17.0\n",
      "___/   /   /___/   /   /___/       MP—Parallel Edition\n",
      "\n",
      " Statistics and Data Science       Copyright 1985-2021 StataCorp LLC\n",
      "                                   StataCorp\n",
      "                                   4905 Lakeway Drive\n",
      "                                   College Station, Texas 77845 USA\n",
      "                                   800-STATA-PC        https://www.stata.com\n",
      "                                   979-696-4600        stata@stata.com\n",
      "\n",
      "Stata license: Unlimited-user 2-core network, expiring  9 Sep 2022\n",
      "Serial number: 501709309029\n",
      "  Licensed to: Albert Henry\n",
      "               University College London\n",
      "\n",
      "Notes:\n",
      "      1. Unicode is supported; see help unicode_advice.\n",
      "      2. More than 2 billion observations are allowed; see help obs_advice.\n",
      "      3. Maximum number of variables is set to 5,000; see help set_maxvar.\n"
     ]
    }
   ],
   "source": [
    "# Install & configure Stata via pystata & stata_setup\n",
    "# !python -m pip install stata_setup\n",
    "import stata_setup\n",
    "stata_setup.config(STATA_SYSDIR, 'mp')"
   ]
  },
  {
   "cell_type": "code",
   "execution_count": 4,
   "metadata": {},
   "outputs": [
    {
     "name": "stdout",
     "output_type": "stream",
     "text": [
      "Requirement already satisfied: rpy2 in /Users/alberthenry/anaconda3/lib/python3.7/site-packages (3.5.1)\n",
      "Requirement already satisfied: tzlocal in /Users/alberthenry/anaconda3/lib/python3.7/site-packages (from rpy2) (4.2)\n",
      "Requirement already satisfied: jinja2 in /Users/alberthenry/anaconda3/lib/python3.7/site-packages (from rpy2) (2.11.2)\n",
      "Requirement already satisfied: typing-extensions in /Users/alberthenry/anaconda3/lib/python3.7/site-packages (from rpy2) (3.7.4.2)\n",
      "Requirement already satisfied: cffi>=1.10.0 in /Users/alberthenry/anaconda3/lib/python3.7/site-packages (from rpy2) (1.14.0)\n",
      "Requirement already satisfied: pytz in /Users/alberthenry/anaconda3/lib/python3.7/site-packages (from rpy2) (2020.1)\n",
      "Requirement already satisfied: backports.zoneinfo; python_version < \"3.9\" in /Users/alberthenry/anaconda3/lib/python3.7/site-packages (from tzlocal->rpy2) (0.2.1)\n",
      "Requirement already satisfied: pytz-deprecation-shim in /Users/alberthenry/anaconda3/lib/python3.7/site-packages (from tzlocal->rpy2) (0.1.0.post0)\n",
      "Requirement already satisfied: MarkupSafe>=0.23 in /Users/alberthenry/anaconda3/lib/python3.7/site-packages (from jinja2->rpy2) (1.1.1)\n",
      "Requirement already satisfied: pycparser in /Users/alberthenry/anaconda3/lib/python3.7/site-packages (from cffi>=1.10.0->rpy2) (2.20)\n",
      "Requirement already satisfied: tzdata; python_version >= \"3.6\" in /Users/alberthenry/anaconda3/lib/python3.7/site-packages (from pytz-deprecation-shim->tzlocal->rpy2) (2022.1)\n",
      "The rpy2.ipython extension is already loaded. To reload it, use:\n",
      "  %reload_ext rpy2.ipython\n"
     ]
    }
   ],
   "source": [
    "# Install & configure R via rpy2\n",
    "# !python -m pip install rpy2\n",
    "%load_ext rpy2.ipython"
   ]
  },
  {
   "cell_type": "code",
   "execution_count": 5,
   "metadata": {},
   "outputs": [
    {
     "name": "stdout",
     "output_type": "stream",
     "text": [
      "This is Python\n",
      "This is R\n",
      "This is Stata\n"
     ]
    }
   ],
   "source": [
    "# test\n",
    "print('This is Python')\n",
    "%R cat('This is R\\n')\n",
    "%stata display \"This is Stata\""
   ]
  },
  {
   "cell_type": "code",
   "execution_count": null,
   "metadata": {},
   "outputs": [],
   "source": []
  }
 ],
 "metadata": {
  "kernelspec": {
   "display_name": "Python 3",
   "language": "python",
   "name": "python3"
  },
  "language_info": {
   "codemirror_mode": {
    "name": "ipython",
    "version": 3
   },
   "file_extension": ".py",
   "mimetype": "text/x-python",
   "name": "python",
   "nbconvert_exporter": "python",
   "pygments_lexer": "ipython3",
   "version": "3.7.3"
  }
 },
 "nbformat": 4,
 "nbformat_minor": 5
}
