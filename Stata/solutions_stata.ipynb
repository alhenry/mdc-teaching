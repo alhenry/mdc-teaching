{
 "cells": [
  {
   "cell_type": "markdown",
   "metadata": {},
   "source": [
    "# ASRR Messy Data Challenge\n",
    "## Example analysis (Stata version)"
   ]
  },
  {
   "cell_type": "code",
   "execution_count": 1,
   "metadata": {},
   "outputs": [
    {
     "name": "stdout",
     "output_type": "stream",
     "text": [
      "\n",
      "  ___  ____  ____  ____  ____ ©\n",
      " /__    /   ____/   /   ____/      17.0\n",
      "___/   /   /___/   /   /___/       MP—Parallel Edition\n",
      "\n",
      " Statistics and Data Science       Copyright 1985-2021 StataCorp LLC\n",
      "                                   StataCorp\n",
      "                                   4905 Lakeway Drive\n",
      "                                   College Station, Texas 77845 USA\n",
      "                                   800-STATA-PC        https://www.stata.com\n",
      "                                   979-696-4600        stata@stata.com\n",
      "\n",
      "Stata license: Unlimited-user 2-core network, expiring  9 Sep 2022\n",
      "Serial number: 501709309029\n",
      "  Licensed to: Albert Henry\n",
      "               University College London\n",
      "\n",
      "Notes:\n",
      "      1. Unicode is supported; see help unicode_advice.\n",
      "      2. More than 2 billion observations are allowed; see help obs_advice.\n",
      "      3. Maximum number of variables is set to 5,000; see help set_maxvar.\n"
     ]
    }
   ],
   "source": [
    "# setup\n",
    "from pathlib import Path\n",
    "# !python -m pip install stata_setup\n",
    "# import sys\n",
    "# sys.path.append(str(Path().absolute().parent))\n",
    "import stata_setup\n",
    "\n",
    "STATA_SYSDIR = Path('/Applications/Stata/') \n",
    "stata_setup.config(STATA_SYSDIR, 'mp')"
   ]
  },
  {
   "cell_type": "markdown",
   "metadata": {},
   "source": [
    "## Data exploration"
   ]
  },
  {
   "cell_type": "markdown",
   "metadata": {},
   "source": [
    "### Read in data"
   ]
  },
  {
   "cell_type": "code",
   "execution_count": 2,
   "metadata": {},
   "outputs": [],
   "source": [
    "%%stata\n",
    "use ../data/icu_data, clear"
   ]
  },
  {
   "cell_type": "markdown",
   "metadata": {},
   "source": [
    "### Flag first ICULOS  per patient "
   ]
  },
  {
   "cell_type": "code",
   "execution_count": 3,
   "metadata": {},
   "outputs": [
    {
     "name": "stdout",
     "output_type": "stream",
     "text": [
      "\n",
      ". sort patid iculos\n",
      "\n",
      ". egen patid_fl = tag(patid)\n",
      "\n",
      ". \n"
     ]
    }
   ],
   "source": [
    "%%stata\n",
    "sort patid iculos\n",
    "egen patid_fl = tag(patid)"
   ]
  },
  {
   "cell_type": "markdown",
   "metadata": {},
   "source": [
    "### What's in the dataset"
   ]
  },
  {
   "cell_type": "code",
   "execution_count": 4,
   "metadata": {},
   "outputs": [
    {
     "name": "stdout",
     "output_type": "stream",
     "text": [
      "\n",
      "Contains data from ../data/icu_data.dta\n",
      " Observations:     1,201,974                  \n",
      "    Variables:            14                  3 Mar 2020 08:58\n",
      "-------------------------------------------------------------------------------\n",
      "Variable      Storage   Display    Value\n",
      "    name         type    format    label      Variable label\n",
      "-------------------------------------------------------------------------------\n",
      "age             float   %9.0g                 Age (years)\n",
      "gender          byte    %8.0g                 Gender\n",
      "iculos          int     %8.0g                 ICU length-of-stay (hours since\n",
      "                                                ICU admission)\n",
      "hr              double  %10.0g                Heart rate (beats per minute)\n",
      "temp            double  %10.0g                Temperature (Deg C)\n",
      "sbp             double  %10.0g                Systolic BP (mm Hg)\n",
      "dbp             double  %10.0g                Diastolic BP (mm Hg)\n",
      "resp            double  %10.0g                Respiration rate (breaths per\n",
      "                                                minute)\n",
      "o2sat           double  %10.0g                Pulse oximetry (%)\n",
      "map             double  %10.0g                Mean arterial pressure (mm Hg)\n",
      "sepsislabel     byte    %8.0g                 SepsisLabel\n",
      "hospid          str1    %9s                   Hospital ID\n",
      "patid           float   %9.0g                 Patient ID\n",
      "patid_fl        byte    %8.0g                 tag(patid)\n",
      "-------------------------------------------------------------------------------\n",
      "Sorted by: patid  iculos\n",
      "     Note: Dataset has changed since last saved.\n"
     ]
    }
   ],
   "source": [
    "%%stata\n",
    "describe "
   ]
  },
  {
   "cell_type": "markdown",
   "metadata": {},
   "source": [
    "### Distributions of each of the variables"
   ]
  },
  {
   "cell_type": "code",
   "execution_count": 5,
   "metadata": {},
   "outputs": [
    {
     "name": "stdout",
     "output_type": "stream",
     "text": [
      "\n",
      "-------------------------------------------------------------------------------\n",
      "age                                                                 Age (years)\n",
      "-------------------------------------------------------------------------------\n",
      "\n",
      "                  Type: Numeric (float)\n",
      "\n",
      "                 Range: [14,100]                      Units: .01\n",
      "         Unique values: 5,242                     Missing .: 0/1,201,974\n",
      "\n",
      "                  Mean: 61.7395\n",
      "             Std. dev.: 16.5491\n",
      "\n",
      "           Percentiles:     10%       25%       50%       75%       90%\n",
      "                           38.6        51     63.44        74        82\n",
      "\n",
      "-------------------------------------------------------------------------------\n",
      "gender                                                                   Gender\n",
      "-------------------------------------------------------------------------------\n",
      "\n",
      "                  Type: Numeric (byte)\n",
      "\n",
      "                 Range: [0,1]                         Units: 1\n",
      "         Unique values: 2                         Missing .: 0/1,201,974\n",
      "\n",
      "            Tabulation: Freq.  Value\n",
      "                      542,654  0\n",
      "                      659,320  1\n",
      "\n",
      "-------------------------------------------------------------------------------\n",
      "iculos                           ICU length-of-stay (hours since ICU admission)\n",
      "-------------------------------------------------------------------------------\n",
      "\n",
      "                  Type: Numeric (int)\n",
      "\n",
      "                 Range: [1,336]                       Units: 1\n",
      "         Unique values: 336                       Missing .: 0/1,201,974\n",
      "\n",
      "                  Mean: 26.1779\n",
      "             Std. dev.: 27.9166\n",
      "\n",
      "           Percentiles:     10%       25%       50%       75%       90%\n",
      "                              4        10        21        34        46\n",
      "\n",
      "-------------------------------------------------------------------------------\n",
      "hr                                                Heart rate (beats per minute)\n",
      "-------------------------------------------------------------------------------\n",
      "\n",
      "                  Type: Numeric (double)\n",
      "\n",
      "                 Range: [20,223]                      Units: .01\n",
      "         Unique values: 333                       Missing .: 131,167/1,201,974\n",
      "\n",
      "                  Mean: 84.2342\n",
      "             Std. dev.: 17.5981\n",
      "\n",
      "           Percentiles:     10%       25%       50%       75%       90%\n",
      "                             62        72        83      95.5     107.5\n",
      "\n",
      "-------------------------------------------------------------------------------\n",
      "temp                                                        Temperature (Deg C)\n",
      "-------------------------------------------------------------------------------\n",
      "\n",
      "                  Type: Numeric (double)\n",
      "\n",
      "                 Range: [20.9,50]                     Units: .01\n",
      "         Unique values: 581                       Missing .: 822,321/1,201,974\n",
      "\n",
      "                  Mean: 36.9422\n",
      "             Std. dev.: .758753\n",
      "\n",
      "           Percentiles:     10%       25%       50%       75%       90%\n",
      "                          36.06      36.5      36.9      37.4      37.9\n",
      "\n",
      "-------------------------------------------------------------------------------\n",
      "sbp                                                         Systolic BP (mm Hg)\n",
      "-------------------------------------------------------------------------------\n",
      "\n",
      "                  Type: Numeric (double)\n",
      "\n",
      "                 Range: [20,298]                      Units: .01\n",
      "         Unique values: 926                       Missing .: 176,747/1,201,974\n",
      "\n",
      "                  Mean: 124.674\n",
      "             Std. dev.: 23.6316\n",
      "\n",
      "           Percentiles:     10%       25%       50%       75%       90%\n",
      "                             96       107       122       140       156\n",
      "\n",
      "-------------------------------------------------------------------------------\n",
      "dbp                                                        Diastolic BP (mm Hg)\n",
      "-------------------------------------------------------------------------------\n",
      "\n",
      "                  Type: Numeric (double)\n",
      "\n",
      "                 Range: [20,300]                      Units: .01\n",
      "         Unique values: 653                       Missing .: 373,178/1,201,974\n",
      "\n",
      "                  Mean: 64.9574\n",
      "             Std. dev.: 14.1525\n",
      "\n",
      "           Percentiles:     10%       25%       50%       75%       90%\n",
      "                             49        55        63        73        83\n",
      "\n",
      "-------------------------------------------------------------------------------\n",
      "resp                                      Respiration rate (breaths per minute)\n",
      "-------------------------------------------------------------------------------\n",
      "\n",
      "                  Type: Numeric (double)\n",
      "\n",
      "                 Range: [1,100]                       Units: .01\n",
      "         Unique values: 223                       Missing .: 205,042/1,201,974\n",
      "\n",
      "                  Mean: 18.7334\n",
      "             Std. dev.: 5.02104\n",
      "\n",
      "           Percentiles:     10%       25%       50%       75%       90%\n",
      "                             13        16        18        21        25\n",
      "\n",
      "-------------------------------------------------------------------------------\n",
      "o2sat                                                        Pulse oximetry (%)\n",
      "-------------------------------------------------------------------------------\n",
      "\n",
      "                  Type: Numeric (double)\n",
      "\n",
      "                 Range: [20,100]                      Units: .1\n",
      "         Unique values: 145                       Missing .: 170,544/1,201,974\n",
      "\n",
      "                  Mean: 97.1494\n",
      "             Std. dev.: 2.97941\n",
      "\n",
      "           Percentiles:     10%       25%       50%       75%       90%\n",
      "                             94        96        98        99       100\n",
      "\n",
      "-------------------------------------------------------------------------------\n",
      "map                                              Mean arterial pressure (mm Hg)\n",
      "-------------------------------------------------------------------------------\n",
      "\n",
      "                  Type: Numeric (double)\n",
      "\n",
      "                 Range: [20,300]                      Units: .01\n",
      "         Unique values: 905                       Missing .: 163,352/1,201,974\n",
      "\n",
      "                  Mean: 83.5463\n",
      "             Std. dev.: 16.5921\n",
      "\n",
      "           Percentiles:     10%       25%       50%       75%       90%\n",
      "                           64.5        72        82        93       105\n",
      "\n",
      "-------------------------------------------------------------------------------\n",
      "sepsislabel                                                         SepsisLabel\n",
      "-------------------------------------------------------------------------------\n",
      "\n",
      "                  Type: Numeric (byte)\n",
      "\n",
      "                 Range: [0,1]                         Units: 1\n",
      "         Unique values: 2                         Missing .: 0/1,201,974\n",
      "\n",
      "            Tabulation: Freq.  Value\n",
      "                    1,200,317  0\n",
      "                        1,657  1\n",
      "\n",
      "-------------------------------------------------------------------------------\n",
      "hospid                                                              Hospital ID\n",
      "-------------------------------------------------------------------------------\n",
      "\n",
      "                  Type: String (str1)\n",
      "\n",
      "         Unique values: 2                         Missing \"\": 0/1,201,974\n",
      "\n",
      "            Tabulation: Freq.  Value\n",
      "                      497,292  \"A\"\n",
      "                      704,682  \"B\"\n",
      "\n",
      "-------------------------------------------------------------------------------\n",
      "patid                                                                Patient ID\n",
      "-------------------------------------------------------------------------------\n",
      "\n",
      "                  Type: Numeric (float)\n",
      "\n",
      "                 Range: [1,40336]                     Units: 1\n",
      "         Unique values: 30,925                    Missing .: 0/1,201,974\n",
      "\n",
      "                  Mean:   22012\n",
      "             Std. dev.: 11502.1\n",
      "\n",
      "           Percentiles:     10%       25%       50%       75%       90%\n",
      "                           4905     12317     23294     31822     36940\n",
      "\n",
      "-------------------------------------------------------------------------------\n",
      "patid_fl                                                             tag(patid)\n",
      "-------------------------------------------------------------------------------\n",
      "\n",
      "                  Type: Numeric (byte)\n",
      "\n",
      "                 Range: [0,1]                         Units: 1\n",
      "         Unique values: 2                         Missing .: 0/1,201,974\n",
      "\n",
      "            Tabulation: Freq.  Value\n",
      "                    1,171,049  0\n",
      "                       30,925  1\n"
     ]
    }
   ],
   "source": [
    "%%stata\n",
    "codebook"
   ]
  },
  {
   "cell_type": "markdown",
   "metadata": {},
   "source": [
    "### Better visualisation of variables"
   ]
  },
  {
   "cell_type": "code",
   "execution_count": 6,
   "metadata": {},
   "outputs": [
    {
     "name": "stdout",
     "output_type": "stream",
     "text": [
      "\n",
      "age:  Age (years)                               Number of observations\n",
      "-----------------                      ---------------------------------------\n",
      "                                             Total      Integers   Nonintegers\n",
      "|              #             Negative            -             -             -\n",
      "|          #   #             Zero                -             -             -\n",
      "|          #   #             Positive    1,201,974       710,366       491,608\n",
      "|          #   #                       -----------   -----------   -----------\n",
      "|      #   #   #             Total       1,201,974       710,366       491,608\n",
      "|  .   #   #   #   #         Missing             -\n",
      "+----------------------                -----------\n",
      "14                  100                  1,201,974\n",
      "(More than 99 unique values)\n",
      "\n",
      "gender:  Gender                                 Number of observations\n",
      "---------------                        ---------------------------------------\n",
      "                                             Total      Integers   Nonintegers\n",
      "|      #                     Negative            -             -             -\n",
      "|      #                     Zero          542,654       542,654             -\n",
      "|  #   #                     Positive      659,320       659,320             -\n",
      "|  #   #                               -----------   -----------   -----------\n",
      "|  #   #                     Total       1,201,974     1,201,974             -\n",
      "|  #   #                     Missing             -\n",
      "+----------------------                -----------\n",
      "0                     1                  1,201,974\n",
      "   (2 unique values)\n",
      "\n",
      "iculos:  ICU length-of-stay (hours since        Number of observations\n",
      "-------------------------------------------------------------------------------\n",
      "                                             Total      Integers   Nonintegers\n",
      "|  #                         Negative            -             -             -\n",
      "|  #                         Zero                -             -             -\n",
      "|  #                         Positive    1,201,974     1,201,974             -\n",
      "|  #                                   -----------   -----------   -----------\n",
      "|  #                         Total       1,201,974     1,201,974             -\n",
      "|  #   .   .   .   .         Missing             -\n",
      "+----------------------                -----------\n",
      "1                   336                  1,201,974\n",
      "(More than 99 unique values)\n",
      "\n",
      "hr:  Heart rate (beats per minute)              Number of observations\n",
      "----------------------------------     ---------------------------------------\n",
      "                                             Total      Integers   Nonintegers\n",
      "|      #                     Negative            -             -             -\n",
      "|      #                     Zero                -             -             -\n",
      "|      #                     Positive    1,070,807     1,007,942        62,865\n",
      "|      #                               -----------   -----------   -----------\n",
      "|      #                     Total       1,070,807     1,007,942        62,865\n",
      "|  .   #   #   .   .         Missing       131,167\n",
      "+----------------------                -----------\n",
      "20                  223                  1,201,974\n",
      "(More than 99 unique values)\n",
      "\n",
      "temp:  Temperature (Deg C)                      Number of observations\n",
      "--------------------------             ---------------------------------------\n",
      "                                             Total      Integers   Nonintegers\n",
      "|          #                 Negative            -             -             -\n",
      "|          #                 Zero                -             -             -\n",
      "|          #                 Positive      379,653        38,069       341,584\n",
      "|          #                           -----------   -----------   -----------\n",
      "|          #                 Total         379,653        38,069       341,584\n",
      "|  .   .   #   .   .         Missing       822,321\n",
      "+----------------------                -----------\n",
      "20.9                 50                  1,201,974\n",
      "(More than 99 unique values)\n",
      "\n",
      "sbp:  Systolic BP (mm Hg)                       Number of observations\n",
      "-------------------------              ---------------------------------------\n",
      "                                             Total      Integers   Nonintegers\n",
      "|      #                     Negative            -             -             -\n",
      "|      #                     Zero                -             -             -\n",
      "|      #                     Positive    1,025,227       958,406        66,821\n",
      "|      #   #                           -----------   -----------   -----------\n",
      "|      #   #                 Total       1,025,227       958,406        66,821\n",
      "|  .   #   #   .   .         Missing       176,747\n",
      "+----------------------                -----------\n",
      "20                  298                  1,201,974\n",
      "(More than 99 unique values)\n",
      "\n",
      "dbp:  Diastolic BP (mm Hg)                      Number of observations\n",
      "--------------------------             ---------------------------------------\n",
      "                                             Total      Integers   Nonintegers\n",
      "|  #                         Negative            -             -             -\n",
      "|  #                         Zero                -             -             -\n",
      "|  #                         Positive      828,796       778,982        49,814\n",
      "|  #                                   -----------   -----------   -----------\n",
      "|  #                         Total         828,796       778,982        49,814\n",
      "|  #   #   .   .   .         Missing       373,178\n",
      "+----------------------                -----------\n",
      "20                  300                  1,201,974\n",
      "(More than 99 unique values)\n",
      "\n",
      "resp:  Respiration rate (breaths per min        Number of observations\n",
      "-------------------------------------------------------------------------------\n",
      "                                             Total      Integers   Nonintegers\n",
      "|  #                         Negative            -             -             -\n",
      "|  #                         Zero                -             -             -\n",
      "|  #                         Positive      996,932       940,490        56,442\n",
      "|  #                                   -----------   -----------   -----------\n",
      "|  #   #                     Total         996,932       940,490        56,442\n",
      "|  #   #   .   .   .         Missing       205,042\n",
      "+----------------------                -----------\n",
      "1                   100                  1,201,974\n",
      "(More than 99 unique values)\n",
      "\n",
      "o2sat:  Pulse oximetry (%)                      Number of observations\n",
      "--------------------------             ---------------------------------------\n",
      "                                             Total      Integers   Nonintegers\n",
      "|                  #         Negative            -             -             -\n",
      "|                  #         Zero                -             -             -\n",
      "|                  #         Positive    1,031,430       971,400        60,030\n",
      "|                  #                   -----------   -----------   -----------\n",
      "|                  #         Total       1,031,430       971,400        60,030\n",
      "|  .   .   .   .   #         Missing       170,544\n",
      "+----------------------                -----------\n",
      "20                  100                  1,201,974\n",
      "(More than 99 unique values)\n",
      "\n",
      "map:  Mean arterial pressure (mm Hg)            Number of observations\n",
      "------------------------------------   ---------------------------------------\n",
      "                                             Total      Integers   Nonintegers\n",
      "|      #                     Negative            -             -             -\n",
      "|      #                     Zero                -             -             -\n",
      "|      #                     Positive    1,038,622       894,718       143,904\n",
      "|  #   #                               -----------   -----------   -----------\n",
      "|  #   #                     Total       1,038,622       894,718       143,904\n",
      "|  #   #   .   .   .         Missing       163,352\n",
      "+----------------------                -----------\n",
      "20                  300                  1,201,974\n",
      "(More than 99 unique values)\n",
      "\n",
      "sepsislabel:  SepsisLabel                       Number of observations\n",
      "-------------------------              ---------------------------------------\n",
      "                                             Total      Integers   Nonintegers\n",
      "|  #                         Negative            -             -             -\n",
      "|  #                         Zero        1,200,317     1,200,317             -\n",
      "|  #                         Positive        1,657         1,657             -\n",
      "|  #                                   -----------   -----------   -----------\n",
      "|  #                         Total       1,201,974     1,201,974             -\n",
      "|  #   .                     Missing             -\n",
      "+----------------------                -----------\n",
      "0                     1                  1,201,974\n",
      "   (2 unique values)\n",
      "\n",
      "hospid:  Hospital ID                            Number of observations\n",
      "--------------------                   ---------------------------------------\n",
      "                                             Total      Integers   Nonintegers\n",
      "|                            Negative            -             -             -\n",
      "|                            Zero                -             -             -\n",
      "|                            Positive            -             -             -\n",
      "|                                      -----------   -----------   -----------\n",
      "|                            Total               -             -             -\n",
      "|                            Missing     1,201,974\n",
      "+----------------------                -----------\n",
      ".             -9.0e+307                  1,201,974\n",
      "   (0 unique value)\n",
      "\n",
      "patid:  Patient ID                              Number of observations\n",
      "------------------                     ---------------------------------------\n",
      "                                             Total      Integers   Nonintegers\n",
      "|                  #         Negative            -             -             -\n",
      "|          #   #   #         Zero                -             -             -\n",
      "|  #   #   #   #   #         Positive    1,201,974     1,201,974             -\n",
      "|  #   #   #   #   #                   -----------   -----------   -----------\n",
      "|  #   #   #   #   #         Total       1,201,974     1,201,974             -\n",
      "|  #   #   #   #   #         Missing             -\n",
      "+----------------------                -----------\n",
      "1                 40336                  1,201,974\n",
      "(More than 99 unique values)\n",
      "\n",
      "patid_fl:  tag(patid)                           Number of observations\n",
      "---------------------                  ---------------------------------------\n",
      "                                             Total      Integers   Nonintegers\n",
      "|  #                         Negative            -             -             -\n",
      "|  #                         Zero        1,171,049     1,171,049             -\n",
      "|  #                         Positive       30,925        30,925             -\n",
      "|  #                                   -----------   -----------   -----------\n",
      "|  #                         Total       1,201,974     1,201,974             -\n",
      "|  #   .                     Missing             -\n",
      "+----------------------                -----------\n",
      "0                     1                  1,201,974\n",
      "   (2 unique values)\n"
     ]
    }
   ],
   "source": [
    "%%stata\n",
    "inspect"
   ]
  },
  {
   "cell_type": "markdown",
   "metadata": {},
   "source": [
    "### Complete case indicator"
   ]
  },
  {
   "cell_type": "code",
   "execution_count": 7,
   "metadata": {},
   "outputs": [
    {
     "name": "stdout",
     "output_type": "stream",
     "text": [
      "\n",
      ". egen nvar_miss = rowmiss(o2sat hr temp sbp map resp)\n",
      "\n",
      ". gen cc_fl = (nvar_miss == 0)\n",
      "\n",
      ". \n"
     ]
    }
   ],
   "source": [
    "%%stata\n",
    "egen nvar_miss = rowmiss(o2sat hr temp sbp map resp)\n",
    "gen cc_fl = (nvar_miss == 0)"
   ]
  },
  {
   "cell_type": "code",
   "execution_count": 8,
   "metadata": {},
   "outputs": [
    {
     "name": "stdout",
     "output_type": "stream",
     "text": [
      "\n",
      "      cc_fl |      Freq.     Percent        Cum.\n",
      "------------+-----------------------------------\n",
      "          0 |    865,835       72.03       72.03\n",
      "          1 |    336,139       27.97      100.00\n",
      "------------+-----------------------------------\n",
      "      Total |  1,201,974      100.00\n"
     ]
    }
   ],
   "source": [
    "%%stata\n",
    "tab cc_fl"
   ]
  },
  {
   "cell_type": "markdown",
   "metadata": {},
   "source": [
    "Only 28% of records have no missing vital signs"
   ]
  },
  {
   "cell_type": "markdown",
   "metadata": {},
   "source": [
    "## Outcome exploration"
   ]
  },
  {
   "cell_type": "markdown",
   "metadata": {},
   "source": [
    "### How many people were diagnosed with sepsis?"
   ]
  },
  {
   "cell_type": "code",
   "execution_count": 9,
   "metadata": {},
   "outputs": [
    {
     "name": "stdout",
     "output_type": "stream",
     "text": [
      "\n",
      "SepsisLabel |      Freq.     Percent        Cum.\n",
      "------------+-----------------------------------\n",
      "          0 |  1,200,317       99.86       99.86\n",
      "          1 |      1,657        0.14      100.00\n",
      "------------+-----------------------------------\n",
      "      Total |  1,201,974      100.00\n"
     ]
    }
   ],
   "source": [
    "%%stata\n",
    "tab sepsislabel"
   ]
  },
  {
   "cell_type": "markdown",
   "metadata": {},
   "source": [
    "### When do people get sepsis in ICU?"
   ]
  },
  {
   "cell_type": "code",
   "execution_count": 10,
   "metadata": {},
   "outputs": [
    {
     "name": "stdout",
     "output_type": "stream",
     "text": [
      "\n",
      ". gen time_to_sepsis_temp = iculos if sepsislabel == 1\n",
      "(1,200,317 missing values generated)\n",
      "\n",
      ". egen time_to_sepsis = min(time_to_sepsis_temp), by(patid)\n",
      "(1,093,032 missing values generated)\n",
      "\n",
      ". \n"
     ]
    }
   ],
   "source": [
    "%%stata\n",
    "gen time_to_sepsis_temp = iculos if sepsislabel == 1\n",
    "egen time_to_sepsis = min(time_to_sepsis_temp), by(patid)"
   ]
  },
  {
   "cell_type": "code",
   "execution_count": 11,
   "metadata": {},
   "outputs": [
    {
     "name": "stdout",
     "output_type": "stream",
     "text": [
      "\n",
      "                       time_to_sepsis\n",
      "-------------------------------------------------------------\n",
      "      Percentiles      Smallest\n",
      " 1%            7              7\n",
      " 5%            9              7\n",
      "10%           11              7       Obs               1,657\n",
      "25%           20              7       Sum of wgt.       1,657\n",
      "\n",
      "50%           45                      Mean           65.74653\n",
      "                        Largest       Std. dev.      60.86024\n",
      "75%           91            325\n",
      "90%          152            327       Variance       3703.968\n",
      "95%          200            331       Skewness       1.598774\n",
      "99%          267            331       Kurtosis       5.555945\n"
     ]
    }
   ],
   "source": [
    "%%stata\n",
    "su time_to_sepsis if patid_fl == 1, d"
   ]
  },
  {
   "cell_type": "markdown",
   "metadata": {},
   "source": [
    "* min: 7 hours\n",
    "* max: 331 hours (13.8 days)\n",
    "* median: 45 hours"
   ]
  },
  {
   "cell_type": "code",
   "execution_count": 12,
   "metadata": {},
   "outputs": [
    {
     "name": "stdout",
     "output_type": "stream",
     "text": [
      "(bin=32, start=7, width=10.125)\n"
     ]
    },
    {
     "data": {
      "image/svg+xml": [
       "<svg height=\"384px\" version=\"1.1\" viewBox=\"0 0 3960 2880\" width=\"528px\" xmlns=\"http://www.w3.org/2000/svg\" xmlns:xlink=\"http://www.w3.org/1999/xlink\">\n",
       "\t<desc>Stata Graph - Graph</desc>\n",
       "\t<rect height=\"2880\" style=\"fill:#EAF2F3;stroke:none\" width=\"3960\" x=\"0\" y=\"0\"/>\n",
       "\t<rect height=\"2880.00\" style=\"fill:#EAF2F3\" width=\"3959.88\" x=\"0.00\" y=\"0.00\"/>\n",
       "\t<rect height=\"2874.24\" style=\"fill:none;stroke:#EAF2F3;stroke-width:5.76\" width=\"3954.12\" x=\"2.88\" y=\"2.88\"/>\n",
       "\t<rect height=\"2388.33\" style=\"fill:#FFFFFF\" width=\"3468.22\" x=\"390.80\" y=\"100.86\"/>\n",
       "\t<rect height=\"2382.57\" style=\"fill:none;stroke:#FFFFFF;stroke-width:5.76\" width=\"3462.46\" x=\"393.68\" y=\"103.74\"/>\n",
       "\t<line style=\"stroke:#EAF2F3;stroke-width:8.64\" x1=\"390.80\" x2=\"3859.02\" y1=\"2489.19\" y2=\"2489.19\"/>\n",
       "\t<line style=\"stroke:#EAF2F3;stroke-width:8.64\" x1=\"390.80\" x2=\"3859.02\" y1=\"1907.91\" y2=\"1907.91\"/>\n",
       "\t<line style=\"stroke:#EAF2F3;stroke-width:8.64\" x1=\"390.80\" x2=\"3859.02\" y1=\"1326.64\" y2=\"1326.64\"/>\n",
       "\t<line style=\"stroke:#EAF2F3;stroke-width:8.64\" x1=\"390.80\" x2=\"3859.02\" y1=\"745.37\" y2=\"745.37\"/>\n",
       "\t<line style=\"stroke:#EAF2F3;stroke-width:8.64\" x1=\"390.80\" x2=\"3859.02\" y1=\"164.22\" y2=\"164.22\"/>\n",
       "\t<rect height=\"2080.92\" style=\"fill:#CAC27E\" width=\"84.64\" x=\"512.57\" y=\"408.26\"/>\n",
       "\t<rect height=\"2072.28\" style=\"fill:none;stroke:#D7D29E;stroke-width:8.64\" width=\"76.01\" x=\"516.89\" y=\"412.58\"/>\n",
       "\t<rect height=\"1156.73\" style=\"fill:#CAC27E\" width=\"84.52\" x=\"597.22\" y=\"1332.46\"/>\n",
       "\t<rect height=\"1148.09\" style=\"fill:none;stroke:#D7D29E;stroke-width:8.64\" width=\"75.88\" x=\"601.54\" y=\"1336.78\"/>\n",
       "\t<rect height=\"935.83\" style=\"fill:#CAC27E\" width=\"84.64\" x=\"681.74\" y=\"1553.36\"/>\n",
       "\t<rect height=\"927.19\" style=\"fill:none;stroke:#D7D29E;stroke-width:8.64\" width=\"76.01\" x=\"686.06\" y=\"1557.68\"/>\n",
       "\t<rect height=\"848.58\" style=\"fill:#CAC27E\" width=\"84.52\" x=\"766.38\" y=\"1640.61\"/>\n",
       "\t<rect height=\"839.94\" style=\"fill:none;stroke:#D7D29E;stroke-width:8.64\" width=\"75.88\" x=\"770.70\" y=\"1644.92\"/>\n",
       "\t<rect height=\"639.31\" style=\"fill:#CAC27E\" width=\"84.64\" x=\"850.90\" y=\"1849.87\"/>\n",
       "\t<rect height=\"630.67\" style=\"fill:none;stroke:#D7D29E;stroke-width:8.64\" width=\"76.01\" x=\"855.22\" y=\"1854.19\"/>\n",
       "\t<rect height=\"511.47\" style=\"fill:#CAC27E\" width=\"84.52\" x=\"935.55\" y=\"1977.71\"/>\n",
       "\t<rect height=\"502.84\" style=\"fill:none;stroke:#D7D29E;stroke-width:8.64\" width=\"75.88\" x=\"939.87\" y=\"1982.03\"/>\n",
       "\t<rect height=\"447.49\" style=\"fill:#CAC27E\" width=\"84.64\" x=\"1020.07\" y=\"2041.69\"/>\n",
       "\t<rect height=\"438.85\" style=\"fill:none;stroke:#D7D29E;stroke-width:8.64\" width=\"76.01\" x=\"1024.39\" y=\"2046.01\"/>\n",
       "\t<rect height=\"447.49\" style=\"fill:#CAC27E\" width=\"84.52\" x=\"1104.72\" y=\"2041.69\"/>\n",
       "\t<rect height=\"438.85\" style=\"fill:none;stroke:#D7D29E;stroke-width:8.64\" width=\"75.88\" x=\"1109.04\" y=\"2046.01\"/>\n",
       "\t<rect height=\"418.54\" style=\"fill:#CAC27E\" width=\"84.64\" x=\"1189.24\" y=\"2070.65\"/>\n",
       "\t<rect height=\"409.90\" style=\"fill:none;stroke:#D7D29E;stroke-width:8.64\" width=\"76.01\" x=\"1193.56\" y=\"2074.97\"/>\n",
       "\t<rect height=\"325.47\" style=\"fill:#CAC27E\" width=\"84.52\" x=\"1273.88\" y=\"2163.71\"/>\n",
       "\t<rect height=\"316.83\" style=\"fill:none;stroke:#D7D29E;stroke-width:8.64\" width=\"75.88\" x=\"1278.20\" y=\"2168.03\"/>\n",
       "\t<rect height=\"261.49\" style=\"fill:#CAC27E\" width=\"84.64\" x=\"1358.40\" y=\"2227.69\"/>\n",
       "\t<rect height=\"252.85\" style=\"fill:none;stroke:#D7D29E;stroke-width:8.64\" width=\"76.01\" x=\"1362.72\" y=\"2232.01\"/>\n",
       "\t<rect height=\"244.17\" style=\"fill:#CAC27E\" width=\"84.52\" x=\"1443.05\" y=\"2245.02\"/>\n",
       "\t<rect height=\"235.53\" style=\"fill:none;stroke:#D7D29E;stroke-width:8.64\" width=\"75.88\" x=\"1447.37\" y=\"2249.34\"/>\n",
       "\t<rect height=\"220.90\" style=\"fill:#CAC27E\" width=\"84.64\" x=\"1527.57\" y=\"2268.28\"/>\n",
       "\t<rect height=\"212.26\" style=\"fill:none;stroke:#D7D29E;stroke-width:8.64\" width=\"76.01\" x=\"1531.89\" y=\"2272.60\"/>\n",
       "\t<rect height=\"110.39\" style=\"fill:#CAC27E\" width=\"84.52\" x=\"1612.21\" y=\"2378.80\"/>\n",
       "\t<rect height=\"101.75\" style=\"fill:none;stroke:#D7D29E;stroke-width:8.64\" width=\"75.88\" x=\"1616.53\" y=\"2383.12\"/>\n",
       "\t<rect height=\"139.47\" style=\"fill:#CAC27E\" width=\"84.64\" x=\"1696.74\" y=\"2349.71\"/>\n",
       "\t<rect height=\"130.83\" style=\"fill:none;stroke:#D7D29E;stroke-width:8.64\" width=\"76.01\" x=\"1701.06\" y=\"2354.03\"/>\n",
       "\t<rect height=\"92.94\" style=\"fill:#CAC27E\" width=\"84.52\" x=\"1781.38\" y=\"2396.25\"/>\n",
       "\t<rect height=\"84.30\" style=\"fill:none;stroke:#D7D29E;stroke-width:8.64\" width=\"75.88\" x=\"1785.70\" y=\"2400.57\"/>\n",
       "\t<rect height=\"69.67\" style=\"fill:#CAC27E\" width=\"84.64\" x=\"1865.90\" y=\"2419.51\"/>\n",
       "\t<rect height=\"61.03\" style=\"fill:none;stroke:#D7D29E;stroke-width:8.64\" width=\"76.01\" x=\"1870.22\" y=\"2423.83\"/>\n",
       "\t<rect height=\"81.31\" style=\"fill:#CAC27E\" width=\"84.52\" x=\"1950.55\" y=\"2407.88\"/>\n",
       "\t<rect height=\"72.67\" style=\"fill:none;stroke:#D7D29E;stroke-width:8.64\" width=\"75.88\" x=\"1954.87\" y=\"2412.20\"/>\n",
       "\t<rect height=\"110.39\" style=\"fill:#CAC27E\" width=\"84.64\" x=\"2035.07\" y=\"2378.80\"/>\n",
       "\t<rect height=\"101.75\" style=\"fill:none;stroke:#D7D29E;stroke-width:8.64\" width=\"76.01\" x=\"2039.39\" y=\"2383.12\"/>\n",
       "\t<rect height=\"98.76\" style=\"fill:#CAC27E\" width=\"84.52\" x=\"2119.71\" y=\"2390.43\"/>\n",
       "\t<rect height=\"90.12\" style=\"fill:none;stroke:#D7D29E;stroke-width:8.64\" width=\"75.88\" x=\"2124.03\" y=\"2394.75\"/>\n",
       "\t<rect height=\"92.94\" style=\"fill:#CAC27E\" width=\"84.64\" x=\"2204.24\" y=\"2396.25\"/>\n",
       "\t<rect height=\"84.30\" style=\"fill:none;stroke:#D7D29E;stroke-width:8.64\" width=\"76.01\" x=\"2208.55\" y=\"2400.57\"/>\n",
       "\t<rect height=\"34.90\" style=\"fill:#CAC27E\" width=\"84.52\" x=\"2288.88\" y=\"2454.29\"/>\n",
       "\t<rect height=\"26.26\" style=\"fill:none;stroke:#D7D29E;stroke-width:8.64\" width=\"75.88\" x=\"2293.20\" y=\"2458.61\"/>\n",
       "\t<rect height=\"40.72\" style=\"fill:#CAC27E\" width=\"84.64\" x=\"2373.40\" y=\"2448.47\"/>\n",
       "\t<rect height=\"32.08\" style=\"fill:none;stroke:#D7D29E;stroke-width:8.64\" width=\"76.01\" x=\"2377.72\" y=\"2452.79\"/>\n",
       "\t<rect height=\"58.16\" style=\"fill:#CAC27E\" width=\"84.52\" x=\"2458.05\" y=\"2431.02\"/>\n",
       "\t<rect height=\"49.52\" style=\"fill:none;stroke:#D7D29E;stroke-width:8.64\" width=\"75.88\" x=\"2462.37\" y=\"2435.34\"/>\n",
       "\t<rect height=\"34.90\" style=\"fill:#CAC27E\" width=\"84.64\" x=\"2542.57\" y=\"2454.29\"/>\n",
       "\t<rect height=\"26.26\" style=\"fill:none;stroke:#D7D29E;stroke-width:8.64\" width=\"76.01\" x=\"2546.89\" y=\"2458.61\"/>\n",
       "\t<rect height=\"34.90\" style=\"fill:#CAC27E\" width=\"84.52\" x=\"2627.21\" y=\"2454.29\"/>\n",
       "\t<rect height=\"26.26\" style=\"fill:none;stroke:#D7D29E;stroke-width:8.64\" width=\"75.88\" x=\"2631.53\" y=\"2458.61\"/>\n",
       "\t<rect height=\"5.82\" style=\"fill:#CAC27E\" width=\"84.64\" x=\"2711.73\" y=\"2483.37\"/>\n",
       "\t<rect height=\"2.82\" style=\"fill:none;stroke:#D7D29E;stroke-width:8.64\" width=\"76.01\" x=\"2716.05\" y=\"2484.87\"/>\n",
       "\t<rect height=\"17.45\" style=\"fill:#CAC27E\" width=\"84.64\" x=\"2796.38\" y=\"2471.74\"/>\n",
       "\t<rect height=\"8.81\" style=\"fill:none;stroke:#D7D29E;stroke-width:8.64\" width=\"76.01\" x=\"2800.70\" y=\"2476.06\"/>\n",
       "\t<rect height=\"5.82\" style=\"fill:#CAC27E\" width=\"84.52\" x=\"2881.02\" y=\"2483.37\"/>\n",
       "\t<rect height=\"2.82\" style=\"fill:none;stroke:#D7D29E;stroke-width:8.64\" width=\"75.88\" x=\"2885.34\" y=\"2484.87\"/>\n",
       "\t<rect height=\"23.27\" style=\"fill:#CAC27E\" width=\"84.64\" x=\"2965.55\" y=\"2465.92\"/>\n",
       "\t<rect height=\"14.63\" style=\"fill:none;stroke:#D7D29E;stroke-width:8.64\" width=\"76.01\" x=\"2969.86\" y=\"2470.24\"/>\n",
       "\t<rect height=\"11.63\" style=\"fill:#CAC27E\" width=\"84.52\" x=\"3050.19\" y=\"2477.55\"/>\n",
       "\t<rect height=\"2.99\" style=\"fill:none;stroke:#D7D29E;stroke-width:8.64\" width=\"75.88\" x=\"3054.51\" y=\"2481.87\"/>\n",
       "\t<rect height=\"29.08\" style=\"fill:#CAC27E\" width=\"84.64\" x=\"3134.71\" y=\"2460.10\"/>\n",
       "\t<rect height=\"20.44\" style=\"fill:none;stroke:#D7D29E;stroke-width:8.64\" width=\"76.01\" x=\"3139.03\" y=\"2464.42\"/>\n",
       "\t<line style=\"stroke:#000000;stroke-width:5.76\" x1=\"390.80\" x2=\"390.80\" y1=\"2489.19\" y2=\"100.86\"/>\n",
       "\t<line style=\"stroke:#000000;stroke-width:5.76\" x1=\"390.80\" x2=\"350.83\" y1=\"2489.19\" y2=\"2489.19\"/>\n",
       "\t<text style=\"font-family:'Helvetica';font-size:99.99px;fill:#000000\" text-anchor=\"middle\" transform=\"rotate(-90 300.72,2489.19)\" x=\"300.72\" y=\"2489.19\">0</text>\n",
       "\t<line style=\"stroke:#000000;stroke-width:5.76\" x1=\"390.80\" x2=\"350.83\" y1=\"1907.91\" y2=\"1907.91\"/>\n",
       "\t<text style=\"font-family:'Helvetica';font-size:99.99px;fill:#000000\" text-anchor=\"middle\" transform=\"rotate(-90 300.72,1907.91)\" x=\"300.72\" y=\"1907.91\">100</text>\n",
       "\t<line style=\"stroke:#000000;stroke-width:5.76\" x1=\"390.80\" x2=\"350.83\" y1=\"1326.64\" y2=\"1326.64\"/>\n",
       "\t<text style=\"font-family:'Helvetica';font-size:99.99px;fill:#000000\" text-anchor=\"middle\" transform=\"rotate(-90 300.72,1326.64)\" x=\"300.72\" y=\"1326.64\">200</text>\n",
       "\t<line style=\"stroke:#000000;stroke-width:5.76\" x1=\"390.80\" x2=\"350.83\" y1=\"745.37\" y2=\"745.37\"/>\n",
       "\t<text style=\"font-family:'Helvetica';font-size:99.99px;fill:#000000\" text-anchor=\"middle\" transform=\"rotate(-90 300.72,745.37)\" x=\"300.72\" y=\"745.37\">300</text>\n",
       "\t<line style=\"stroke:#000000;stroke-width:5.76\" x1=\"390.80\" x2=\"350.83\" y1=\"164.22\" y2=\"164.22\"/>\n",
       "\t<text style=\"font-family:'Helvetica';font-size:99.99px;fill:#000000\" text-anchor=\"middle\" transform=\"rotate(-90 300.72,164.22)\" x=\"300.72\" y=\"164.22\">400</text>\n",
       "\t<text style=\"font-family:'Helvetica';font-size:99.99px;fill:#000000\" text-anchor=\"middle\" transform=\"rotate(-90 190.71,1294.96)\" x=\"190.71\" y=\"1294.96\">Frequency</text>\n",
       "\t<line style=\"stroke:#000000;stroke-width:5.76\" x1=\"390.80\" x2=\"3859.02\" y1=\"2489.19\" y2=\"2489.19\"/>\n",
       "\t<line style=\"stroke:#000000;stroke-width:5.76\" x1=\"454.16\" x2=\"454.16\" y1=\"2489.19\" y2=\"2529.16\"/>\n",
       "\t<text style=\"font-family:'Helvetica';font-size:99.99px;fill:#000000\" text-anchor=\"middle\" x=\"454.16\" y=\"2619.14\">0</text>\n",
       "\t<line style=\"stroke:#000000;stroke-width:5.76\" x1=\"1289.47\" x2=\"1289.47\" y1=\"2489.19\" y2=\"2529.16\"/>\n",
       "\t<text style=\"font-family:'Helvetica';font-size:99.99px;fill:#000000\" text-anchor=\"middle\" x=\"1289.47\" y=\"2619.14\">100</text>\n",
       "\t<line style=\"stroke:#000000;stroke-width:5.76\" x1=\"2124.91\" x2=\"2124.91\" y1=\"2489.19\" y2=\"2529.16\"/>\n",
       "\t<text style=\"font-family:'Helvetica';font-size:99.99px;fill:#000000\" text-anchor=\"middle\" x=\"2124.91\" y=\"2619.14\">200</text>\n",
       "\t<line style=\"stroke:#000000;stroke-width:5.76\" x1=\"2960.35\" x2=\"2960.35\" y1=\"2489.19\" y2=\"2529.16\"/>\n",
       "\t<text style=\"font-family:'Helvetica';font-size:99.99px;fill:#000000\" text-anchor=\"middle\" x=\"2960.35\" y=\"2619.14\">300</text>\n",
       "\t<line style=\"stroke:#000000;stroke-width:5.76\" x1=\"3795.66\" x2=\"3795.66\" y1=\"2489.19\" y2=\"2529.16\"/>\n",
       "\t<text style=\"font-family:'Helvetica';font-size:99.99px;fill:#000000\" text-anchor=\"middle\" x=\"3795.66\" y=\"2619.14\">400</text>\n",
       "\t<text style=\"font-family:'Helvetica';font-size:99.99px;fill:#000000\" text-anchor=\"middle\" x=\"2124.91\" y=\"2729.16\">time_to_sepsis</text>\n",
       "</svg>"
      ],
      "text/plain": [
       "<IPython.core.display.SVG object>"
      ]
     },
     "metadata": {},
     "output_type": "display_data"
    }
   ],
   "source": [
    "%%stata\n",
    "hist time_to_sepsis if patid_fl == 1, frequency bin(32) start(7)"
   ]
  },
  {
   "cell_type": "markdown",
   "metadata": {},
   "source": [
    "### Create indicator for patient who get sepsis:"
   ]
  },
  {
   "cell_type": "code",
   "execution_count": 13,
   "metadata": {},
   "outputs": [],
   "source": [
    "%%stata\n",
    "egen any_sepsis = max(sepsislabel), by(patid)"
   ]
  },
  {
   "cell_type": "markdown",
   "metadata": {},
   "source": [
    "### Drop ICULOS ≥ 6"
   ]
  },
  {
   "cell_type": "code",
   "execution_count": 14,
   "metadata": {},
   "outputs": [
    {
     "name": "stdout",
     "output_type": "stream",
     "text": [
      "(1,047,349 observations deleted)\n"
     ]
    }
   ],
   "source": [
    "%%stata\n",
    "drop if iculos >= 6"
   ]
  },
  {
   "cell_type": "markdown",
   "metadata": {},
   "source": [
    "## Imputing explanatory measures"
   ]
  },
  {
   "cell_type": "markdown",
   "metadata": {},
   "source": [
    "### Mean Imputation"
   ]
  },
  {
   "cell_type": "code",
   "execution_count": 15,
   "metadata": {},
   "outputs": [
    {
     "name": "stdout",
     "output_type": "stream",
     "text": [
      "\n",
      ". foreach var of varlist o2sat hr temp sbp dbp map resp {\n",
      "  2. \n",
      ". egen `var'_mean = mean(`var') if iculos <= 5, by(patid)\n",
      "  3. gen `var'_imp1 = `var'\n",
      "  4. replace `var'_imp1 = `var'_mean if `var'_imp1 ==. & iculos <= 5\n",
      "  5. \n",
      ". }\n",
      "(2,065 missing values generated)\n",
      "(41,765 missing values generated)\n",
      "(39,700 real changes made)\n",
      "(1,310 missing values generated)\n",
      "(39,034 missing values generated)\n",
      "(37,724 real changes made)\n",
      "(27,860 missing values generated)\n",
      "(113,581 missing values generated)\n",
      "(85,721 real changes made)\n",
      "(4,055 missing values generated)\n",
      "(42,929 missing values generated)\n",
      "(38,874 real changes made)\n",
      "(34,855 missing values generated)\n",
      "(67,216 missing values generated)\n",
      "(32,361 real changes made)\n",
      "(3,170 missing values generated)\n",
      "(41,707 missing values generated)\n",
      "(38,537 real changes made)\n",
      "(5,140 missing values generated)\n",
      "(47,247 missing values generated)\n",
      "(42,107 real changes made)\n",
      "\n",
      ". \n"
     ]
    }
   ],
   "source": [
    "%%stata\n",
    "foreach var of varlist o2sat hr temp sbp dbp map resp {\n",
    "\n",
    "egen `var'_mean = mean(`var') if iculos <= 5, by(patid)\n",
    "gen `var'_imp1 = `var'\n",
    "replace `var'_imp1 = `var'_mean if `var'_imp1 ==. & iculos <= 5\n",
    "\n",
    "}"
   ]
  },
  {
   "cell_type": "markdown",
   "metadata": {},
   "source": [
    "### First observation carried backwards"
   ]
  },
  {
   "cell_type": "code",
   "execution_count": 16,
   "metadata": {},
   "outputs": [
    {
     "name": "stdout",
     "output_type": "stream",
     "text": [
      "\n",
      ". foreach var of varlist o2sat hr temp sbp dbp map resp {\n",
      "  2. \n",
      ". gen `var'_imp2 = `var'\n",
      "  3. by patid (iculos), sort: replace `var'_imp2 = `var'[_n+1] if `var' == .\n",
      "  4. by patid (iculos), sort: replace `var'_imp2 = `var'[_n+2] if `var' == . & \n",
      "> `var'[_n+1] == . \n",
      "  5. by patid (iculos), sort: replace `var'_imp2 = `var'[_n+3] if `var' == . & \n",
      "> `var'[_n+1] == . & `var'[_n+2] == .\n",
      "  6. by patid (iculos), sort: replace `var'_imp2 = `var'[_n+4] if `var' == . & \n",
      "> `var'[_n+1] == . & `var'[_n+2] == . & `var'[_n+3] == .\n",
      "  7. }\n",
      "(41,765 missing values generated)\n",
      "(32764 real changes made)\n",
      "(2296 real changes made)\n",
      "(773 real changes made)\n",
      "(301 real changes made)\n",
      "(39,034 missing values generated)\n",
      "(32558 real changes made)\n",
      "(1700 real changes made)\n",
      "(545 real changes made)\n",
      "(226 real changes made)\n",
      "(113,581 missing values generated)\n",
      "(27896 real changes made)\n",
      "(16913 real changes made)\n",
      "(10468 real changes made)\n",
      "(4976 real changes made)\n",
      "(42,929 missing values generated)\n",
      "(32398 real changes made)\n",
      "(2237 real changes made)\n",
      "(706 real changes made)\n",
      "(281 real changes made)\n",
      "(67,216 missing values generated)\n",
      "(25592 real changes made)\n",
      "(2307 real changes made)\n",
      "(916 real changes made)\n",
      "(385 real changes made)\n",
      "(41,707 missing values generated)\n",
      "(32667 real changes made)\n",
      "(2054 real changes made)\n",
      "(540 real changes made)\n",
      "(204 real changes made)\n",
      "(47,247 missing values generated)\n",
      "(32729 real changes made)\n",
      "(3169 real changes made)\n",
      "(1119 real changes made)\n",
      "(441 real changes made)\n",
      "\n",
      ". \n"
     ]
    }
   ],
   "source": [
    "%%stata\n",
    "foreach var of varlist o2sat hr temp sbp dbp map resp {\n",
    "\n",
    "gen `var'_imp2 = `var'\n",
    "by patid (iculos), sort: replace `var'_imp2 = `var'[_n+1] if `var' == .\n",
    "by patid (iculos), sort: replace `var'_imp2 = `var'[_n+2] if `var' == . & `var'[_n+1] == . \n",
    "by patid (iculos), sort: replace `var'_imp2 = `var'[_n+3] if `var' == . & `var'[_n+1] == . & `var'[_n+2] == .\n",
    "by patid (iculos), sort: replace `var'_imp2 = `var'[_n+4] if `var' == . & `var'[_n+1] == . & `var'[_n+2] == . & `var'[_n+3] == .\n",
    "}"
   ]
  },
  {
   "cell_type": "markdown",
   "metadata": {},
   "source": [
    "### Inspect missingness again among imputed variables"
   ]
  },
  {
   "cell_type": "code",
   "execution_count": 17,
   "metadata": {},
   "outputs": [
    {
     "name": "stdout",
     "output_type": "stream",
     "text": [
      "\n",
      ". egen nvar_miss_imp1 = rowmiss(o2sat_imp1 hr_imp1 temp_imp1 sbp_imp1 map_imp1 \n",
      "> resp_imp1)\n",
      "\n",
      ". gen cc_fl_imp1 = (nvar_miss_imp1 == 0)\n",
      "\n",
      ". \n"
     ]
    }
   ],
   "source": [
    "%%stata\n",
    "egen nvar_miss_imp1 = rowmiss(o2sat_imp1 hr_imp1 temp_imp1 sbp_imp1 map_imp1 resp_imp1)\n",
    "gen cc_fl_imp1 = (nvar_miss_imp1 == 0)"
   ]
  },
  {
   "cell_type": "code",
   "execution_count": 18,
   "metadata": {},
   "outputs": [
    {
     "name": "stdout",
     "output_type": "stream",
     "text": [
      "\n",
      " cc_fl_imp1 |      Freq.     Percent        Cum.\n",
      "------------+-----------------------------------\n",
      "          0 |      6,897       22.30       22.30\n",
      "          1 |     24,028       77.70      100.00\n",
      "------------+-----------------------------------\n",
      "      Total |     30,925      100.00\n"
     ]
    }
   ],
   "source": [
    "%%stata\n",
    "tab cc_fl_imp1 if iculos == 1"
   ]
  },
  {
   "cell_type": "code",
   "execution_count": 19,
   "metadata": {},
   "outputs": [
    {
     "name": "stdout",
     "output_type": "stream",
     "text": [
      "\n",
      ". egen nvar_miss_imp2 = rowmiss(o2sat_imp2 hr_imp2 temp_imp2 sbp_imp2 map_imp2 \n",
      "> resp_imp2)\n",
      "\n",
      ". gen cc_fl_imp2 = (nvar_miss_imp2 == 0)\n",
      "\n",
      ". \n"
     ]
    }
   ],
   "source": [
    "%%stata\n",
    "egen nvar_miss_imp2 = rowmiss(o2sat_imp2 hr_imp2 temp_imp2 sbp_imp2 map_imp2 resp_imp2)\n",
    "gen cc_fl_imp2 = (nvar_miss_imp2 == 0)"
   ]
  },
  {
   "cell_type": "code",
   "execution_count": 20,
   "metadata": {},
   "outputs": [
    {
     "name": "stdout",
     "output_type": "stream",
     "text": [
      "\n",
      " cc_fl_imp2 |      Freq.     Percent        Cum.\n",
      "------------+-----------------------------------\n",
      "          0 |      6,897       22.30       22.30\n",
      "          1 |     24,028       77.70      100.00\n",
      "------------+-----------------------------------\n",
      "      Total |     30,925      100.00\n"
     ]
    }
   ],
   "source": [
    "%%stata\n",
    "tab cc_fl_imp2 if iculos == 1"
   ]
  },
  {
   "cell_type": "markdown",
   "metadata": {},
   "source": [
    "78% of rows non-missing for each imputation method"
   ]
  },
  {
   "cell_type": "markdown",
   "metadata": {},
   "source": [
    "## Modelling"
   ]
  },
  {
   "cell_type": "markdown",
   "metadata": {},
   "source": [
    "### Dummy indicators for hospital:"
   ]
  },
  {
   "cell_type": "code",
   "execution_count": 21,
   "metadata": {},
   "outputs": [],
   "source": [
    "%%stata\n",
    "qui ta hospid, gen(h_)"
   ]
  },
  {
   "cell_type": "markdown",
   "metadata": {},
   "source": [
    "can use these to include hospital as a fixed-effect (i.e. create intercepts specific each hospital)\n",
    "We cannot include hospital as a random-effect as there are too few hospitals (n = 2)"
   ]
  },
  {
   "cell_type": "markdown",
   "metadata": {},
   "source": [
    "### Mean imputation"
   ]
  },
  {
   "cell_type": "code",
   "execution_count": 22,
   "metadata": {},
   "outputs": [
    {
     "name": "stdout",
     "output_type": "stream",
     "text": [
      "\n",
      ". glm any_sepsis age i.gender o2sat_imp1 hr_imp1 temp_imp1 ///\n",
      ">     sbp_imp1 map_imp1 resp_imp1 h_* if iculos == 1, ///\n",
      ">         f(binomial) l(logit) eform nocons \n",
      "\n",
      "Iteration 0:   log likelihood =  -5153.728  \n",
      "Iteration 1:   log likelihood = -4666.1855  \n",
      "Iteration 2:   log likelihood = -4660.7151  \n",
      "Iteration 3:   log likelihood = -4660.7019  \n",
      "Iteration 4:   log likelihood = -4660.7019  \n",
      "\n",
      "Generalized linear models                         Number of obs   =     24,028\n",
      "Optimization     : ML                             Residual df     =     24,018\n",
      "                                                  Scale parameter =          1\n",
      "Deviance         =  9321.403872                   (1/df) Deviance =   .3881008\n",
      "Pearson          =  24067.04487                   (1/df) Pearson  =   1.002042\n",
      "\n",
      "Variance function: V(u) = u*(1-u)                 [Bernoulli]\n",
      "Link function    : g(u) = ln(u/(1-u))             [Logit]\n",
      "\n",
      "                                                  AIC             =   .3887716\n",
      "Log likelihood   = -4660.701936                   BIC             =  -232947.6\n",
      "\n",
      "------------------------------------------------------------------------------\n",
      "             |                 OIM\n",
      "  any_sepsis | Odds ratio   std. err.      z    P>|z|     [95% conf. interval]\n",
      "-------------+----------------------------------------------------------------\n",
      "         age |   1.001539   .0018761     0.82   0.412     .9978689    1.005223\n",
      "    1.gender |   1.199998    .072528     3.02   0.003     1.065942    1.350912\n",
      "  o2sat_imp1 |   1.014293   .0116994     1.23   0.219       .99162    1.037485\n",
      "     hr_imp1 |   1.011688    .001856     6.33   0.000     1.008057    1.015332\n",
      "   temp_imp1 |   1.007845   .0409001     0.19   0.847     .9307876    1.091282\n",
      "    sbp_imp1 |   1.002924   .0025617     1.14   0.253     .9979156    1.007957\n",
      "    map_imp1 |   .9834032   .0037638    -4.37   0.000      .976054    .9908078\n",
      "   resp_imp1 |   1.051651   .0066237     8.00   0.000     1.038748    1.064713\n",
      "         h_1 |   .0041008   .0077053    -2.93   0.003     .0001032    .1630202\n",
      "         h_2 |   .0026748   .0050206    -3.16   0.002     .0000675    .1059197\n",
      "------------------------------------------------------------------------------\n",
      "\n",
      ". \n"
     ]
    }
   ],
   "source": [
    "%%stata\n",
    "glm any_sepsis age i.gender o2sat_imp1 hr_imp1 temp_imp1 ///\n",
    "    sbp_imp1 map_imp1 resp_imp1 h_* if iculos == 1, ///\n",
    "\tf(binomial) l(logit) eform nocons "
   ]
  },
  {
   "cell_type": "markdown",
   "metadata": {},
   "source": [
    "#### First observation carried backwards"
   ]
  },
  {
   "cell_type": "code",
   "execution_count": 23,
   "metadata": {},
   "outputs": [
    {
     "name": "stdout",
     "output_type": "stream",
     "text": [
      "\n",
      ". glm any_sepsis age i.gender o2sat_imp2 hr_imp2 temp_imp2 ///\n",
      ">     sbp_imp2 map_imp2 resp_imp2 h_* if iculos == 1, ///\n",
      ">         f(binomial) l(logit) eform nocons\n",
      "\n",
      "Iteration 0:   log likelihood = -5157.6504  \n",
      "Iteration 1:   log likelihood = -4675.2941  \n",
      "Iteration 2:   log likelihood = -4669.9801  \n",
      "Iteration 3:   log likelihood =  -4669.968  \n",
      "Iteration 4:   log likelihood =  -4669.968  \n",
      "\n",
      "Generalized linear models                         Number of obs   =     24,028\n",
      "Optimization     : ML                             Residual df     =     24,018\n",
      "                                                  Scale parameter =          1\n",
      "Deviance         =  9339.936077                   (1/df) Deviance =   .3888723\n",
      "Pearson          =  23968.24797                   (1/df) Pearson  =   .9979286\n",
      "\n",
      "Variance function: V(u) = u*(1-u)                 [Bernoulli]\n",
      "Link function    : g(u) = ln(u/(1-u))             [Logit]\n",
      "\n",
      "                                                  AIC             =   .3895429\n",
      "Log likelihood   = -4669.968038                   BIC             =    -232929\n",
      "\n",
      "------------------------------------------------------------------------------\n",
      "             |                 OIM\n",
      "  any_sepsis | Odds ratio   std. err.      z    P>|z|     [95% conf. interval]\n",
      "-------------+----------------------------------------------------------------\n",
      "         age |   1.002013   .0018614     1.08   0.279     .9983715    1.005668\n",
      "    1.gender |   1.196948    .072237     2.98   0.003     1.063419    1.347243\n",
      "  o2sat_imp2 |   .9965014   .0086822    -0.40   0.687      .979629    1.013664\n",
      "     hr_imp2 |   1.011157   .0016878     6.65   0.000     1.007855    1.014471\n",
      "   temp_imp2 |   1.037102   .0396564     0.95   0.341     .9622185    1.117814\n",
      "    sbp_imp2 |   1.001067   .0021664     0.49   0.622     .9968301    1.005322\n",
      "    map_imp2 |    .987956   .0031389    -3.81   0.000     .9818231    .9941272\n",
      "   resp_imp2 |   1.034666   .0053817     6.55   0.000     1.024171    1.045267\n",
      "         h_1 |   .0097567   .0161203    -2.80   0.005     .0003828    .2487049\n",
      "         h_2 |   .0062195   .0102539    -3.08   0.002     .0002457    .1574373\n",
      "------------------------------------------------------------------------------\n",
      "\n",
      ". \n"
     ]
    }
   ],
   "source": [
    "%%stata\n",
    "glm any_sepsis age i.gender o2sat_imp2 hr_imp2 temp_imp2 ///\n",
    "    sbp_imp2 map_imp2 resp_imp2 h_* if iculos == 1, ///\n",
    "\tf(binomial) l(logit) eform nocons"
   ]
  },
  {
   "cell_type": "markdown",
   "metadata": {},
   "source": [
    "### Higher respiration rate among those with sepsis?"
   ]
  },
  {
   "cell_type": "code",
   "execution_count": 24,
   "metadata": {},
   "outputs": [
    {
     "name": "stdout",
     "output_type": "stream",
     "text": [
      "\n",
      "-------------------------------------------------------------------------------\n",
      "-> any_sepsis = 0\n",
      "\n",
      "    Variable |        Obs        Mean    Std. dev.       Min        Max\n",
      "-------------+---------------------------------------------------------\n",
      "   resp_imp1 |     28,308    18.18708    4.422866          1         98\n",
      "\n",
      "-------------------------------------------------------------------------------\n",
      "-> any_sepsis = 1\n",
      "\n",
      "    Variable |        Obs        Mean    Std. dev.       Min        Max\n",
      "-------------+---------------------------------------------------------\n",
      "   resp_imp1 |      1,589    19.58373    5.544236          1       44.5\n",
      "\n"
     ]
    }
   ],
   "source": [
    "%%stata\n",
    "bysort any_sepsis: su resp_imp1 if patid_fl == 1"
   ]
  },
  {
   "cell_type": "code",
   "execution_count": 25,
   "metadata": {},
   "outputs": [
    {
     "name": "stdout",
     "output_type": "stream",
     "text": [
      "\n",
      "-------------------------------------------------------------------------------\n",
      "-> any_sepsis = 0\n",
      "\n",
      "    Variable |        Obs        Mean    Std. dev.       Min        Max\n",
      "-------------+---------------------------------------------------------\n",
      "   resp_imp2 |     28,308    18.17834    5.196284          1         98\n",
      "\n",
      "-------------------------------------------------------------------------------\n",
      "-> any_sepsis = 1\n",
      "\n",
      "    Variable |        Obs        Mean    Std. dev.       Min        Max\n",
      "-------------+---------------------------------------------------------\n",
      "   resp_imp2 |      1,589    19.54751    6.075533          1         50\n",
      "\n"
     ]
    }
   ],
   "source": [
    "%%stata\n",
    "bysort any_sepsis: su resp_imp2 if patid_fl == 1"
   ]
  }
 ],
 "metadata": {
  "kernelspec": {
   "display_name": "Python 3",
   "language": "python",
   "name": "python3"
  },
  "language_info": {
   "codemirror_mode": {
    "name": "ipython",
    "version": 3
   },
   "file_extension": ".py",
   "mimetype": "text/x-python",
   "name": "python",
   "nbconvert_exporter": "python",
   "pygments_lexer": "ipython3",
   "version": "3.7.3"
  },
  "toc-autonumbering": false
 },
 "nbformat": 4,
 "nbformat_minor": 5
}
