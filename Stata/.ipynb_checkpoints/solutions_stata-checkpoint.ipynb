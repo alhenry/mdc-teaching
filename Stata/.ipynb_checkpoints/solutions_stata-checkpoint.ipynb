{
 "cells": [
  {
   "cell_type": "markdown",
   "id": "55e5cdc1-1288-49a8-8dff-37571ffc7a0c",
   "metadata": {},
   "source": [
    "# ASRR Messy Data Challenge\n",
    "## Example analysis (Stata version)"
   ]
  },
  {
   "cell_type": "code",
   "execution_count": 1,
   "id": "3ca12de8-4519-4977-be7b-9bb8e9d8c020",
   "metadata": {},
   "outputs": [
    {
     "name": "stdout",
     "output_type": "stream",
     "text": [
      "\n",
      "  ___  ____  ____  ____  ____ ©\n",
      " /__    /   ____/   /   ____/      17.0\n",
      "___/   /   /___/   /   /___/       MP—Parallel Edition\n",
      "\n",
      " Statistics and Data Science       Copyright 1985-2021 StataCorp LLC\n",
      "                                   StataCorp\n",
      "                                   4905 Lakeway Drive\n",
      "                                   College Station, Texas 77845 USA\n",
      "                                   800-STATA-PC        https://www.stata.com\n",
      "                                   979-696-4600        stata@stata.com\n",
      "\n",
      "Stata license: Unlimited-user 2-core network, expiring  9 Sep 2022\n",
      "Serial number: 501709309029\n",
      "  Licensed to: UCL User\n",
      "               University College London\n",
      "\n",
      "Notes:\n",
      "      1. Unicode is supported; see help unicode_advice.\n",
      "      2. More than 2 billion observations are allowed; see help obs_advice.\n",
      "      3. Maximum number of variables is set to 5,000; see help set_maxvar.\n",
      "\n",
      "Running C:\\ProgramData\\Microsoft\\AppV\\Client\\Integration\\1CB3419C-B299-4905-931\n",
      "> 1-F73F09D21673\\Root\\VFS\\ProgramFilesX64\\Stata17/sysprofile.do ...\n"
     ]
    }
   ],
   "source": [
    "# setup\n",
    "from pathlib import Path\n",
    "# !python -m pip install stata_setup\n",
    "import sys\n",
    "sys.path.append(str(Path().absolute().parent))\n",
    "import stata_setup\n",
    "\n",
    "STATA_SYSDIR = Path('C:/ProgramData/Microsoft/AppV/Client/Integration/1CB3419C-B299-4905-9311-F73F09D21673/Root/VFS/ProgramFilesX64/Stata17/') \n",
    "stata_setup.config(STATA_SYSDIR, 'mp')"
   ]
  },
  {
   "cell_type": "markdown",
   "id": "2f555145-6570-45d8-ad0e-dccdeef4c7c0",
   "metadata": {},
   "source": [
    "## Data exploration"
   ]
  },
  {
   "cell_type": "markdown",
   "id": "a098fa2b-a070-4245-bf72-be9c839c1883",
   "metadata": {},
   "source": [
    "### Read in data"
   ]
  },
  {
   "cell_type": "code",
   "execution_count": 2,
   "id": "b9e97b87-312d-411a-acfa-641d2cd3cc44",
   "metadata": {},
   "outputs": [],
   "source": [
    "%%stata\n",
    "use ../data/icu_data, clear"
   ]
  },
  {
   "cell_type": "markdown",
   "id": "c6fe39b2-c615-45db-b83c-39c9b7a04fc9",
   "metadata": {},
   "source": [
    "### Flag first ICULOS  per patient "
   ]
  },
  {
   "cell_type": "code",
   "execution_count": 3,
   "id": "51988971-f2bf-4426-8cc0-8ac908b05ef0",
   "metadata": {},
   "outputs": [
    {
     "ename": "SyntaxError",
     "evalue": "invalid syntax (<ipython-input-3-4f01e4da85a9>, line 2)",
     "output_type": "error",
     "traceback": [
      "\u001b[1;36m  File \u001b[1;32m\"<ipython-input-3-4f01e4da85a9>\"\u001b[1;36m, line \u001b[1;32m2\u001b[0m\n\u001b[1;33m    egen patid_fl = tag(patid)\u001b[0m\n\u001b[1;37m         ^\u001b[0m\n\u001b[1;31mSyntaxError\u001b[0m\u001b[1;31m:\u001b[0m invalid syntax\n"
     ]
    }
   ],
   "source": [
    "%%stata\n",
    "egen patid_fl = tag(patid)"
   ]
  },
  {
   "cell_type": "markdown",
   "id": "d50297fe-92cf-434f-b5cf-991449bb50d1",
   "metadata": {},
   "source": [
    "### What's in the dataset"
   ]
  },
  {
   "cell_type": "code",
   "execution_count": null,
   "id": "ddf2e5df-6d9f-4028-8d83-19ff41da0ff9",
   "metadata": {},
   "outputs": [],
   "source": [
    "%%stata\n",
    "describe "
   ]
  },
  {
   "cell_type": "markdown",
   "id": "104a78d9-9a00-403a-b130-09d800084a91",
   "metadata": {},
   "source": [
    "### Distributions of each of the variables"
   ]
  },
  {
   "cell_type": "code",
   "execution_count": null,
   "id": "b65aa49c-01d5-49ea-a36a-990c505073aa",
   "metadata": {},
   "outputs": [],
   "source": [
    "%%stata\n",
    "codebook"
   ]
  },
  {
   "cell_type": "markdown",
   "id": "fcaf3fb6-5d13-436d-917b-5ed65ae5b992",
   "metadata": {},
   "source": [
    "### Better visualisation of variables"
   ]
  },
  {
   "cell_type": "code",
   "execution_count": null,
   "id": "b943a3dd-fb67-4c4d-ba91-4f660cd55185",
   "metadata": {},
   "outputs": [],
   "source": [
    "%%stata\n",
    "inspect"
   ]
  },
  {
   "cell_type": "markdown",
   "id": "9f9a1afd-6d3b-4d97-86bf-b36d8fc266c3",
   "metadata": {},
   "source": [
    "### Complete case indicator"
   ]
  },
  {
   "cell_type": "code",
   "execution_count": null,
   "id": "783eb18b-3b10-436f-bd71-e147ecd5956b",
   "metadata": {},
   "outputs": [],
   "source": [
    "%%stata\n",
    "egen nvar_miss = rowmiss(o2sat hr temp sbp map resp)\n",
    "gen cc_fl = (nvar_miss == 0)"
   ]
  },
  {
   "cell_type": "code",
   "execution_count": null,
   "id": "cd1d58d4-4f4d-444a-9435-f6b89c95d63a",
   "metadata": {},
   "outputs": [],
   "source": [
    "%%stata\n",
    "tab cc_fl"
   ]
  },
  {
   "cell_type": "markdown",
   "id": "3cdad659-bfe9-4b89-88c5-e1bfd2af39be",
   "metadata": {},
   "source": [
    "Only 23.9% of records have no missing vital signs"
   ]
  },
  {
   "cell_type": "markdown",
   "id": "3b7bbacf-da6c-4501-9224-fa3b55458c1b",
   "metadata": {},
   "source": [
    "## Outcome exploration"
   ]
  },
  {
   "cell_type": "markdown",
   "id": "25ed15f8-280a-4d09-bfc2-27130d6968d1",
   "metadata": {},
   "source": [
    "### How many people were diagnosed with sepsis?"
   ]
  },
  {
   "cell_type": "code",
   "execution_count": null,
   "id": "e59d456e-baf1-4533-a528-cfc425080904",
   "metadata": {},
   "outputs": [],
   "source": [
    "%%stata\n",
    "tab sepsislabel"
   ]
  },
  {
   "cell_type": "markdown",
   "id": "f5e9ad77-a72d-465e-a14e-cf5795897ab1",
   "metadata": {},
   "source": [
    "### When do people get sepsis in ICU?"
   ]
  },
  {
   "cell_type": "code",
   "execution_count": null,
   "id": "f9213d7f-83df-4ae0-91b9-8de872addcee",
   "metadata": {},
   "outputs": [],
   "source": [
    "%%stata\n",
    "gen time_to_sepsis_temp = iculos if sepsislabel == 1\n",
    "egen time_to_sepsis = min(time_to_sepsis_temp), by(patid)"
   ]
  },
  {
   "cell_type": "code",
   "execution_count": null,
   "id": "3dee77cf-c952-4165-ab7b-92112d28fd43",
   "metadata": {},
   "outputs": [],
   "source": [
    "%%stata\n",
    "su time_to_sepsis if patid_fl == 1, d"
   ]
  },
  {
   "cell_type": "markdown",
   "id": "d6e8f2f0-facb-4b67-8967-98748536f47d",
   "metadata": {},
   "source": [
    "* min: 7 hours\n",
    "* max: 331 hours (13.8 days)\n",
    "* median: 45 hours"
   ]
  },
  {
   "cell_type": "code",
   "execution_count": null,
   "id": "830d249c-4b2a-4604-bd24-955671d001ba",
   "metadata": {},
   "outputs": [],
   "source": [
    "%%stata\n",
    "hist time_to_sepsis if patid_fl == 1"
   ]
  },
  {
   "cell_type": "markdown",
   "id": "6403c9b4-f85c-4a2a-bd7f-ccd0846bb1d3",
   "metadata": {},
   "source": [
    "### Create indicator for patient who get sepsis:"
   ]
  },
  {
   "cell_type": "code",
   "execution_count": null,
   "id": "cb9092ae-d581-4e92-bc78-1754c641895d",
   "metadata": {},
   "outputs": [],
   "source": [
    "%%stata\n",
    "egen any_sepsis = max(sepsislabel), by(patid)"
   ]
  },
  {
   "cell_type": "markdown",
   "id": "aebfced7-9a00-4d0e-90e7-5af81fbc177d",
   "metadata": {},
   "source": [
    "### Drop ICULOS ≥ 6"
   ]
  },
  {
   "cell_type": "code",
   "execution_count": null,
   "id": "a689221c-7b9a-48e1-ac3a-dccae2361585",
   "metadata": {},
   "outputs": [],
   "source": [
    "%%stata\n",
    "drop if iculos >= 6"
   ]
  },
  {
   "cell_type": "markdown",
   "id": "6f02f252-7a92-4cb2-93c2-d37751e940a2",
   "metadata": {},
   "source": [
    "## Imputing explanatory measures"
   ]
  },
  {
   "cell_type": "markdown",
   "id": "d3c29566-63e9-43ad-9fc3-b4decf5695ff",
   "metadata": {},
   "source": [
    "### Mean Imputation"
   ]
  },
  {
   "cell_type": "code",
   "execution_count": null,
   "id": "6e30bf3e-f2ac-49a1-96af-fd749654f45d",
   "metadata": {},
   "outputs": [],
   "source": [
    "%%stata\n",
    "foreach var of varlist o2sat hr temp sbp dbp map resp {\n",
    "\n",
    "egen `var'_mean = mean(`var') if iculos <= 5, by(patid)\n",
    "gen `var'_imp1 = `var'\n",
    "replace `var'_imp1 = `var'_mean if `var'_imp1 ==. & iculos <= 5\n",
    "\n",
    "}"
   ]
  },
  {
   "cell_type": "markdown",
   "id": "3d02feb2-6d20-4024-a72f-98f8e8248260",
   "metadata": {},
   "source": [
    "### First observation carried backwards"
   ]
  },
  {
   "cell_type": "code",
   "execution_count": null,
   "id": "f7d0a63c-788e-4cc9-b7bf-972a153a62e3",
   "metadata": {},
   "outputs": [],
   "source": [
    "%%stata\n",
    "foreach var of varlist o2sat hr temp sbp dbp map resp {\n",
    "\n",
    "gen `var'_imp2 = `var'\n",
    "by patid (iculos), sort: replace `var'_imp2 = `var'[_n+1] if `var' == .\n",
    "by patid (iculos), sort: replace `var'_imp2 = `var'[_n+2] if `var' == . & `var'[_n+1] == . \n",
    "by patid (iculos), sort: replace `var'_imp2 = `var'[_n+3] if `var' == . & `var'[_n+1] == . & `var'[_n+2] == .\n",
    "by patid (iculos), sort: replace `var'_imp2 = `var'[_n+4] if `var' == . & `var'[_n+1] == . & `var'[_n+2] == . & `var'[_n+3] == .\n",
    "}"
   ]
  },
  {
   "cell_type": "markdown",
   "id": "471a77e2-fef1-4bf2-80b3-1c89ead762ed",
   "metadata": {},
   "source": [
    "### Inspect missingness again among imputed variables"
   ]
  },
  {
   "cell_type": "code",
   "execution_count": null,
   "id": "a4cf10e9-26d3-4afe-ac8b-86a3f479e3f5",
   "metadata": {},
   "outputs": [],
   "source": [
    "%%stata\n",
    "egen nvar_miss_imp1 = rowmiss(o2sat_imp1 hr_imp1 temp_imp1 sbp_imp1 map_imp1 resp_imp1)\n",
    "gen cc_fl_imp1 = (nvar_miss_imp1 == 0)"
   ]
  },
  {
   "cell_type": "code",
   "execution_count": null,
   "id": "6e2751a9-0904-4c03-a18f-dcd9fc8d4c53",
   "metadata": {},
   "outputs": [],
   "source": [
    "%%stata\n",
    "tab cc_fl_imp1 if iculos == 1"
   ]
  },
  {
   "cell_type": "code",
   "execution_count": null,
   "id": "88035495-70f2-4428-9b07-0deeef13ed73",
   "metadata": {},
   "outputs": [],
   "source": [
    "%%stata\n",
    "egen nvar_miss_imp2 = rowmiss(o2sat_imp2 hr_imp2 temp_imp2 sbp_imp2 map_imp2 resp_imp2)\n",
    "gen cc_fl_imp2 = (nvar_miss_imp2 == 0)"
   ]
  },
  {
   "cell_type": "code",
   "execution_count": null,
   "id": "a2a0c79c-b6f2-4939-b1df-1400b5b18d71",
   "metadata": {},
   "outputs": [],
   "source": [
    "%%stata\n",
    "tab cc_fl_imp2 if iculos == 1"
   ]
  },
  {
   "cell_type": "markdown",
   "id": "7da842f1-cca1-41cc-be5d-d7a5cc68fcba",
   "metadata": {},
   "source": [
    "77% of rows non-missing for each imputation method"
   ]
  },
  {
   "cell_type": "markdown",
   "id": "9a0f4ae5-b582-4c23-b615-81bb9e63c085",
   "metadata": {},
   "source": [
    "## Modelling"
   ]
  },
  {
   "cell_type": "markdown",
   "id": "7e8e1383-17b4-4e2f-be91-91f73f306c2c",
   "metadata": {},
   "source": [
    "### Dummy indicators for hospital:"
   ]
  },
  {
   "cell_type": "code",
   "execution_count": null,
   "id": "23dc183c-b101-4ad6-8f21-925277797e57",
   "metadata": {},
   "outputs": [],
   "source": [
    "%%stata\n",
    "qui ta hospid, gen(h_)"
   ]
  },
  {
   "cell_type": "markdown",
   "id": "ecbca084-d673-4f27-9483-86024e1beac5",
   "metadata": {},
   "source": [
    "can use these to include hospital as a fixed-effect (i.e. create intercepts specific each hospital)\n",
    "We cannot include hospital as a random-effect as there are too few hospitals (n = 2)"
   ]
  },
  {
   "cell_type": "markdown",
   "id": "7a04a02d-3751-4a7c-bd84-a43c58f1ee54",
   "metadata": {},
   "source": [
    "### Mean imputation"
   ]
  },
  {
   "cell_type": "code",
   "execution_count": null,
   "id": "1da0ec48-77ef-4536-8377-ed2b78c9ec99",
   "metadata": {},
   "outputs": [],
   "source": [
    "%%stata\n",
    "glm any_sepsis age i.gender o2sat_imp1 hr_imp1 temp_imp1 ///\n",
    "    sbp_imp1 map_imp1 resp_imp1 h_* if iculos == 1, ///\n",
    "\tf(binomial) l(logit) eform nocons "
   ]
  },
  {
   "cell_type": "markdown",
   "id": "10fa04f5-4223-41f9-8d93-2583a99c418b",
   "metadata": {},
   "source": [
    "#### First observation carried backwards"
   ]
  },
  {
   "cell_type": "code",
   "execution_count": null,
   "id": "b1596fc2-6417-41ac-ac9a-a5000a8c775c",
   "metadata": {},
   "outputs": [],
   "source": [
    "%%stata\n",
    "glm any_sepsis age i.gender o2sat_imp2 hr_imp2 temp_imp2 ///\n",
    "    sbp_imp2 map_imp2 resp_imp2 h_* if iculos == 1, ///\n",
    "\tf(binomial) l(logit) eform nocons"
   ]
  },
  {
   "cell_type": "markdown",
   "id": "c8dd10e8-90aa-427b-b5a9-dbe7fb2d8331",
   "metadata": {},
   "source": [
    "### Higher respiration rate among those with sepsis?"
   ]
  },
  {
   "cell_type": "code",
   "execution_count": null,
   "id": "93211cc6-26fe-46ab-9843-aeb4f085d5da",
   "metadata": {},
   "outputs": [],
   "source": [
    "%%stata\n",
    "bysort any_sepsis: su resp_imp1 if patid_fl == 1"
   ]
  },
  {
   "cell_type": "code",
   "execution_count": null,
   "id": "f0c61e8a-4140-46fe-bbe2-e59dc6ac4f3e",
   "metadata": {},
   "outputs": [],
   "source": [
    "%%stata\n",
    "bysort any_sepsis: su resp_imp2 if patid_fl == 1"
   ]
  }
 ],
 "metadata": {
  "kernelspec": {
   "display_name": "Python 3",
   "language": "python",
   "name": "python3"
  },
  "language_info": {
   "codemirror_mode": {
    "name": "ipython",
    "version": 3
   },
   "file_extension": ".py",
   "mimetype": "text/x-python",
   "name": "python",
   "nbconvert_exporter": "python",
   "pygments_lexer": "ipython3",
   "version": "3.8.8"
  },
  "toc-autonumbering": false
 },
 "nbformat": 4,
 "nbformat_minor": 5
}
